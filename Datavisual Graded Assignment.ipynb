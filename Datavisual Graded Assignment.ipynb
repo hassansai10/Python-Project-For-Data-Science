{
 "cells": [
  {
   "cell_type": "code",
   "execution_count": 2,
   "id": "8c94935c-3cdb-4e43-8e27-21e86b95d607",
   "metadata": {
    "tags": []
   },
   "outputs": [],
   "source": [
    "import pandas as pd\n",
    "import plotly.express as px\n",
    "import plotly.graph_objects as go\n",
    "import numpy as np\n",
    "from dash import Dash,dcc,html,callback,Output,Input,dash_table\n",
    "import matplotlib.pyplot as plt\n",
    "import seaborn as sns\n",
    "from plotly.subplots import make_subplots as msplots\n",
    "URL = \"https://cf-courses-data.s3.us.cloud-object-storage.appdomain.cloud/IBMDeveloperSkillsNetwork-DV0101EN-SkillsNetwork/Data%20Files/historical_automobile_sales.csv\""
   ]
  },
  {
   "cell_type": "code",
   "execution_count": 3,
   "id": "0592a07f-fa95-40d9-ba7a-df75cc2c1512",
   "metadata": {},
   "outputs": [],
   "source": [
    "df = pd.read_csv(URL)"
   ]
  },
  {
   "cell_type": "code",
   "execution_count": 4,
   "id": "4d4b60e3-9ed6-4934-93cb-50649401226b",
   "metadata": {
    "tags": []
   },
   "outputs": [
    {
     "data": {
      "text/html": [
       "<div>\n",
       "<style scoped>\n",
       "    .dataframe tbody tr th:only-of-type {\n",
       "        vertical-align: middle;\n",
       "    }\n",
       "\n",
       "    .dataframe tbody tr th {\n",
       "        vertical-align: top;\n",
       "    }\n",
       "\n",
       "    .dataframe thead th {\n",
       "        text-align: right;\n",
       "    }\n",
       "</style>\n",
       "<table border=\"1\" class=\"dataframe\">\n",
       "  <thead>\n",
       "    <tr style=\"text-align: right;\">\n",
       "      <th></th>\n",
       "      <th>Date</th>\n",
       "      <th>Year</th>\n",
       "      <th>Month</th>\n",
       "      <th>Recession</th>\n",
       "      <th>Consumer_Confidence</th>\n",
       "      <th>Seasonality_Weight</th>\n",
       "      <th>Price</th>\n",
       "      <th>Advertising_Expenditure</th>\n",
       "      <th>Competition</th>\n",
       "      <th>GDP</th>\n",
       "      <th>Growth_Rate</th>\n",
       "      <th>unemployment_rate</th>\n",
       "      <th>Automobile_Sales</th>\n",
       "      <th>Vehicle_Type</th>\n",
       "      <th>City</th>\n",
       "    </tr>\n",
       "  </thead>\n",
       "  <tbody>\n",
       "    <tr>\n",
       "      <th>0</th>\n",
       "      <td>1/31/1980</td>\n",
       "      <td>1980</td>\n",
       "      <td>Jan</td>\n",
       "      <td>1</td>\n",
       "      <td>108.24</td>\n",
       "      <td>0.50</td>\n",
       "      <td>27483.571</td>\n",
       "      <td>1558</td>\n",
       "      <td>7</td>\n",
       "      <td>60.223</td>\n",
       "      <td>0.010000</td>\n",
       "      <td>5.4</td>\n",
       "      <td>456.0</td>\n",
       "      <td>Supperminicar</td>\n",
       "      <td>Georgia</td>\n",
       "    </tr>\n",
       "    <tr>\n",
       "      <th>1</th>\n",
       "      <td>2/29/1980</td>\n",
       "      <td>1980</td>\n",
       "      <td>Feb</td>\n",
       "      <td>1</td>\n",
       "      <td>98.75</td>\n",
       "      <td>0.75</td>\n",
       "      <td>24308.678</td>\n",
       "      <td>3048</td>\n",
       "      <td>4</td>\n",
       "      <td>45.986</td>\n",
       "      <td>-0.309594</td>\n",
       "      <td>4.8</td>\n",
       "      <td>555.9</td>\n",
       "      <td>Supperminicar</td>\n",
       "      <td>New York</td>\n",
       "    </tr>\n",
       "    <tr>\n",
       "      <th>2</th>\n",
       "      <td>3/31/1980</td>\n",
       "      <td>1980</td>\n",
       "      <td>Mar</td>\n",
       "      <td>1</td>\n",
       "      <td>107.48</td>\n",
       "      <td>0.20</td>\n",
       "      <td>28238.443</td>\n",
       "      <td>3137</td>\n",
       "      <td>3</td>\n",
       "      <td>35.141</td>\n",
       "      <td>-0.308614</td>\n",
       "      <td>3.4</td>\n",
       "      <td>620.0</td>\n",
       "      <td>Mediumfamilycar</td>\n",
       "      <td>New York</td>\n",
       "    </tr>\n",
       "    <tr>\n",
       "      <th>3</th>\n",
       "      <td>4/30/1980</td>\n",
       "      <td>1980</td>\n",
       "      <td>Apr</td>\n",
       "      <td>1</td>\n",
       "      <td>115.01</td>\n",
       "      <td>1.00</td>\n",
       "      <td>32615.149</td>\n",
       "      <td>1653</td>\n",
       "      <td>7</td>\n",
       "      <td>45.673</td>\n",
       "      <td>0.230596</td>\n",
       "      <td>4.2</td>\n",
       "      <td>702.8</td>\n",
       "      <td>Supperminicar</td>\n",
       "      <td>Illinois</td>\n",
       "    </tr>\n",
       "    <tr>\n",
       "      <th>4</th>\n",
       "      <td>5/31/1980</td>\n",
       "      <td>1980</td>\n",
       "      <td>May</td>\n",
       "      <td>1</td>\n",
       "      <td>98.72</td>\n",
       "      <td>0.20</td>\n",
       "      <td>23829.233</td>\n",
       "      <td>1319</td>\n",
       "      <td>4</td>\n",
       "      <td>52.997</td>\n",
       "      <td>0.138197</td>\n",
       "      <td>5.3</td>\n",
       "      <td>770.4</td>\n",
       "      <td>Smallfamiliycar</td>\n",
       "      <td>California</td>\n",
       "    </tr>\n",
       "    <tr>\n",
       "      <th>...</th>\n",
       "      <td>...</td>\n",
       "      <td>...</td>\n",
       "      <td>...</td>\n",
       "      <td>...</td>\n",
       "      <td>...</td>\n",
       "      <td>...</td>\n",
       "      <td>...</td>\n",
       "      <td>...</td>\n",
       "      <td>...</td>\n",
       "      <td>...</td>\n",
       "      <td>...</td>\n",
       "      <td>...</td>\n",
       "      <td>...</td>\n",
       "      <td>...</td>\n",
       "      <td>...</td>\n",
       "    </tr>\n",
       "    <tr>\n",
       "      <th>523</th>\n",
       "      <td>8/31/2023</td>\n",
       "      <td>2023</td>\n",
       "      <td>Aug</td>\n",
       "      <td>0</td>\n",
       "      <td>103.36</td>\n",
       "      <td>0.25</td>\n",
       "      <td>27852.993</td>\n",
       "      <td>1793</td>\n",
       "      <td>6</td>\n",
       "      <td>57.169</td>\n",
       "      <td>0.764155</td>\n",
       "      <td>2.6</td>\n",
       "      <td>1579.6</td>\n",
       "      <td>Executivecar</td>\n",
       "      <td>New York</td>\n",
       "    </tr>\n",
       "    <tr>\n",
       "      <th>524</th>\n",
       "      <td>9/30/2023</td>\n",
       "      <td>2023</td>\n",
       "      <td>Sep</td>\n",
       "      <td>0</td>\n",
       "      <td>101.55</td>\n",
       "      <td>0.07</td>\n",
       "      <td>21183.704</td>\n",
       "      <td>1028</td>\n",
       "      <td>5</td>\n",
       "      <td>59.315</td>\n",
       "      <td>0.036180</td>\n",
       "      <td>2.5</td>\n",
       "      <td>1123.4</td>\n",
       "      <td>Smallfamiliycar</td>\n",
       "      <td>California</td>\n",
       "    </tr>\n",
       "    <tr>\n",
       "      <th>525</th>\n",
       "      <td>10/31/2023</td>\n",
       "      <td>2023</td>\n",
       "      <td>Oct</td>\n",
       "      <td>0</td>\n",
       "      <td>124.66</td>\n",
       "      <td>0.12</td>\n",
       "      <td>15975.589</td>\n",
       "      <td>1148</td>\n",
       "      <td>9</td>\n",
       "      <td>19.472</td>\n",
       "      <td>-2.046169</td>\n",
       "      <td>2.5</td>\n",
       "      <td>1685.9</td>\n",
       "      <td>Sports</td>\n",
       "      <td>California</td>\n",
       "    </tr>\n",
       "    <tr>\n",
       "      <th>526</th>\n",
       "      <td>11/30/2023</td>\n",
       "      <td>2023</td>\n",
       "      <td>Nov</td>\n",
       "      <td>0</td>\n",
       "      <td>97.09</td>\n",
       "      <td>0.25</td>\n",
       "      <td>16862.288</td>\n",
       "      <td>4850</td>\n",
       "      <td>5</td>\n",
       "      <td>27.904</td>\n",
       "      <td>0.302179</td>\n",
       "      <td>2.9</td>\n",
       "      <td>2124.6</td>\n",
       "      <td>Smallfamiliycar</td>\n",
       "      <td>Georgia</td>\n",
       "    </tr>\n",
       "    <tr>\n",
       "      <th>527</th>\n",
       "      <td>12/31/2023</td>\n",
       "      <td>2023</td>\n",
       "      <td>Dec</td>\n",
       "      <td>0</td>\n",
       "      <td>95.92</td>\n",
       "      <td>0.34</td>\n",
       "      <td>25240.425</td>\n",
       "      <td>2319</td>\n",
       "      <td>3</td>\n",
       "      <td>13.518</td>\n",
       "      <td>-1.064211</td>\n",
       "      <td>2.1</td>\n",
       "      <td>3538.5</td>\n",
       "      <td>Smallfamiliycar</td>\n",
       "      <td>Georgia</td>\n",
       "    </tr>\n",
       "  </tbody>\n",
       "</table>\n",
       "<p>528 rows × 15 columns</p>\n",
       "</div>"
      ],
      "text/plain": [
       "           Date  Year Month  Recession  Consumer_Confidence  \\\n",
       "0     1/31/1980  1980   Jan          1               108.24   \n",
       "1     2/29/1980  1980   Feb          1                98.75   \n",
       "2     3/31/1980  1980   Mar          1               107.48   \n",
       "3     4/30/1980  1980   Apr          1               115.01   \n",
       "4     5/31/1980  1980   May          1                98.72   \n",
       "..          ...   ...   ...        ...                  ...   \n",
       "523   8/31/2023  2023   Aug          0               103.36   \n",
       "524   9/30/2023  2023   Sep          0               101.55   \n",
       "525  10/31/2023  2023   Oct          0               124.66   \n",
       "526  11/30/2023  2023   Nov          0                97.09   \n",
       "527  12/31/2023  2023   Dec          0                95.92   \n",
       "\n",
       "     Seasonality_Weight      Price  Advertising_Expenditure  Competition  \\\n",
       "0                  0.50  27483.571                     1558            7   \n",
       "1                  0.75  24308.678                     3048            4   \n",
       "2                  0.20  28238.443                     3137            3   \n",
       "3                  1.00  32615.149                     1653            7   \n",
       "4                  0.20  23829.233                     1319            4   \n",
       "..                  ...        ...                      ...          ...   \n",
       "523                0.25  27852.993                     1793            6   \n",
       "524                0.07  21183.704                     1028            5   \n",
       "525                0.12  15975.589                     1148            9   \n",
       "526                0.25  16862.288                     4850            5   \n",
       "527                0.34  25240.425                     2319            3   \n",
       "\n",
       "        GDP  Growth_Rate  unemployment_rate  Automobile_Sales  \\\n",
       "0    60.223     0.010000                5.4             456.0   \n",
       "1    45.986    -0.309594                4.8             555.9   \n",
       "2    35.141    -0.308614                3.4             620.0   \n",
       "3    45.673     0.230596                4.2             702.8   \n",
       "4    52.997     0.138197                5.3             770.4   \n",
       "..      ...          ...                ...               ...   \n",
       "523  57.169     0.764155                2.6            1579.6   \n",
       "524  59.315     0.036180                2.5            1123.4   \n",
       "525  19.472    -2.046169                2.5            1685.9   \n",
       "526  27.904     0.302179                2.9            2124.6   \n",
       "527  13.518    -1.064211                2.1            3538.5   \n",
       "\n",
       "        Vehicle_Type        City  \n",
       "0      Supperminicar     Georgia  \n",
       "1      Supperminicar    New York  \n",
       "2    Mediumfamilycar    New York  \n",
       "3      Supperminicar    Illinois  \n",
       "4    Smallfamiliycar  California  \n",
       "..               ...         ...  \n",
       "523     Executivecar    New York  \n",
       "524  Smallfamiliycar  California  \n",
       "525           Sports  California  \n",
       "526  Smallfamiliycar     Georgia  \n",
       "527  Smallfamiliycar     Georgia  \n",
       "\n",
       "[528 rows x 15 columns]"
      ]
     },
     "execution_count": 4,
     "metadata": {},
     "output_type": "execute_result"
    }
   ],
   "source": [
    "df"
   ]
  },
  {
   "cell_type": "code",
   "execution_count": 5,
   "id": "f2bb285b-4d84-4499-aa57-bbf0460e39a0",
   "metadata": {
    "tags": []
   },
   "outputs": [
    {
     "data": {
      "text/plain": [
       "<Axes: xlabel='Year'>"
      ]
     },
     "execution_count": 5,
     "metadata": {},
     "output_type": "execute_result"
    },
    {
     "data": {
      "image/png": "[encoded data removed]",
      "text/plain": [
       "<Figure size 640x480 with 1 Axes>"
      ]
     },
     "metadata": {},
     "output_type": "display_data"
    }
   ],
   "source": [
    "ys = df.groupby('Year')['Automobile_Sales'].sum()\n",
    "ys.plot(x='Automobile_Sales',y='Year',kind='line')"
   ]
  },
  {
   "cell_type": "code",
   "execution_count": 6,
   "id": "59cf2892-d8f2-485b-83ef-4536df129c08",
   "metadata": {
    "tags": []
   },
   "outputs": [
    {
     "data": {
      "text/plain": [
       "array(['Supperminicar', 'Mediumfamilycar', 'Smallfamiliycar', 'Sports',\n",
       "       'Executivecar'], dtype=object)"
      ]
     },
     "execution_count": 6,
     "metadata": {},
     "output_type": "execute_result"
    }
   ],
   "source": [
    "different_vehicles = df['Vehicle_Type'].unique()\n",
    "different_vehicles"
   ]
  },
  {
   "cell_type": "code",
   "execution_count": 7,
   "id": "5e65a6ab-14ad-47b8-a87e-fea9ed42d39c",
   "metadata": {
    "tags": []
   },
   "outputs": [],
   "source": [
    "Supperminicar = df.query('Vehicle_Type == \"Supperminicar\" and Recession == 1')\n",
    "smini = Supperminicar.groupby('Year')['Automobile_Sales'].sum()\n",
    "mfcs = df.query('Vehicle_Type == \"Mediumfamilycar\" and Recession == 1')\n",
    "mfc = mfcs.groupby('Year')['Automobile_Sales'].sum()\n",
    "sfcs = df.query('Vehicle_Type == \"Smallfamiliycar\" and Recession == 1')\n",
    "sfc = sfcs.groupby('Year')['Automobile_Sales'].sum()\n",
    "Sports = df.query('Vehicle_Type == \"Sports\" and Recession == 1')\n",
    "sport = Sports.groupby('Year')['Automobile_Sales'].sum()\n",
    "Excars = df.query('Vehicle_Type == \"Executivecar\" and Recession == 1')\n",
    "excar = Excars.groupby('Year')['Automobile_Sales'].sum()"
   ]
  },
  {
   "cell_type": "code",
   "execution_count": 48,
   "id": "f63c413e-2e96-4a6b-b636-73cca0e77a21",
   "metadata": {
    "tags": []
   },
   "outputs": [
    {
     "data": {
      "application/vnd.plotly.v1+json": {
       "config": {
        "plotlyServerURL": "https://plot.ly"
       },
       "data": [
        {
         "type": "scatter",
         "x": [
          1980,
          1981,
          1990,
          1991,
          1992,
          2000,
          2001,
          2002,
          2008,
          2009
         ],
         "y": [
          3179.2,
          2523.6,
          754.8,
          2600.2,
          686.1,
          2058.9,
          3430.2,
          1292.5,
          1426.8000000000002,
          2485.1
         ]
        },
        {
         "type": "scatter",
         "x": [
          1980,
          1981,
          1982,
          1990,
          1991,
          1992,
          2000,
          2001,
          2002,
          2008,
          2009,
          2020
         ],
         "y": [
          2882.5,
          1885.1999999999998,
          5062.9,
          1979.1999999999998,
          3210.7,
          1340.1,
          1966.8000000000002,
          3448.5,
          697.6,
          2544.8,
          2035.3999999999999,
          1289.9
         ]
        },
        {
         "type": "scatter",
         "x": [
          1980,
          1981,
          1982,
          1983,
          1990,
          1991,
          2000,
          2001,
          2002,
          2008,
          2009,
          2020
         ],
         "y": [
          2085.7,
          3192.1000000000004,
          2408.9,
          589,
          4404.8,
          1495.8,
          1246.8000000000002,
          1426.9,
          714.5,
          2131.7,
          3059.8,
          670.4
         ]
        },
        {
         "type": "scatter",
         "x": [
          1982,
          2000,
          2020
         ],
         "y": [
          102,
          195,
          214
         ]
        },
        {
         "type": "scatter",
         "x": [
          1991
         ],
         "y": [
          564
         ]
        }
       ],
       "layout": {
        "height": 725,
        "template": {
         "data": {
          "bar": [
           {
            "error_x": {
             "color": "#2a3f5f"
            },
            "error_y": {
             "color": "#2a3f5f"
            },
            "marker": {
             "line": {
              "color": "#E5ECF6",
              "width": 0.5
             },
             "pattern": {
              "fillmode": "overlay",
              "size": 10,
              "solidity": 0.2
             }
            },
            "type": "bar"
           }
          ],
          "barpolar": [
           {
            "marker": {
             "line": {
              "color": "#E5ECF6",
              "width": 0.5
             },
             "pattern": {
              "fillmode": "overlay",
              "size": 10,
              "solidity": 0.2
             }
            },
            "type": "barpolar"
           }
          ],
          "carpet": [
           {
            "aaxis": {
             "endlinecolor": "#2a3f5f",
             "gridcolor": "white",
             "linecolor": "white",
             "minorgridcolor": "white",
             "startlinecolor": "#2a3f5f"
            },
            "baxis": {
             "endlinecolor": "#2a3f5f",
             "gridcolor": "white",
             "linecolor": "white",
             "minorgridcolor": "white",
             "startlinecolor": "#2a3f5f"
            },
            "type": "carpet"
           }
          ],
          "choropleth": [
           {
            "colorbar": {
             "outlinewidth": 0,
             "ticks": ""
            },
            "type": "choropleth"
           }
          ],
          "contour": [
           {
            "colorbar": {
             "outlinewidth": 0,
             "ticks": ""
            },
            "colorscale": [
             [
              0,
              "#0d0887"
             ],
             [
              0.1111111111111111,
              "#46039f"
             ],
             [
              0.2222222222222222,
              "#7201a8"
             ],
             [
              0.3333333333333333,
              "#9c179e"
             ],
             [
              0.4444444444444444,
              "#bd3786"
             ],
             [
              0.5555555555555556,
              "#d8576b"
             ],
             [
              0.6666666666666666,
              "#ed7953"
             ],
             [
              0.7777777777777778,
              "#fb9f3a"
             ],
             [
              0.8888888888888888,
              "#fdca26"
             ],
             [
              1,
              "#f0f921"
             ]
            ],
            "type": "contour"
           }
          ],
          "contourcarpet": [
           {
            "colorbar": {
             "outlinewidth": 0,
             "ticks": ""
            },
            "type": "contourcarpet"
           }
          ],
          "heatmap": [
           {
            "colorbar": {
             "outlinewidth": 0,
             "ticks": ""
            },
            "colorscale": [
             [
              0,
              "#0d0887"
             ],
             [
              0.1111111111111111,
              "#46039f"
             ],
             [
              0.2222222222222222,
              "#7201a8"
             ],
             [
              0.3333333333333333,
              "#9c179e"
             ],
             [
              0.4444444444444444,
              "#bd3786"
             ],
             [
              0.5555555555555556,
              "#d8576b"
             ],
             [
              0.6666666666666666,
              "#ed7953"
             ],
             [
              0.7777777777777778,
              "#fb9f3a"
             ],
             [
              0.8888888888888888,
              "#fdca26"
             ],
             [
              1,
              "#f0f921"
             ]
            ],
            "type": "heatmap"
           }
          ],
          "heatmapgl": [
           {
            "colorbar": {
             "outlinewidth": 0,
             "ticks": ""
            },
            "colorscale": [
             [
              0,
              "#0d0887"
             ],
             [
              0.1111111111111111,
              "#46039f"
             ],
             [
              0.2222222222222222,
              "#7201a8"
             ],
             [
              0.3333333333333333,
              "#9c179e"
             ],
             [
              0.4444444444444444,
              "#bd3786"
             ],
             [
              0.5555555555555556,
              "#d8576b"
             ],
             [
              0.6666666666666666,
              "#ed7953"
             ],
             [
              0.7777777777777778,
              "#fb9f3a"
             ],
             [
              0.8888888888888888,
              "#fdca26"
             ],
             [
              1,
              "#f0f921"
             ]
            ],
            "type": "heatmapgl"
           }
          ],
          "histogram": [
           {
            "marker": {
             "pattern": {
              "fillmode": "overlay",
              "size": 10,
              "solidity": 0.2
             }
            },
            "type": "histogram"
           }
          ],
          "histogram2d": [
           {
            "colorbar": {
             "outlinewidth": 0,
             "ticks": ""
            },
            "colorscale": [
             [
              0,
              "#0d0887"
             ],
             [
              0.1111111111111111,
              "#46039f"
             ],
             [
              0.2222222222222222,
              "#7201a8"
             ],
             [
              0.3333333333333333,
              "#9c179e"
             ],
             [
              0.4444444444444444,
              "#bd3786"
             ],
             [
              0.5555555555555556,
              "#d8576b"
             ],
             [
              0.6666666666666666,
              "#ed7953"
             ],
             [
              0.7777777777777778,
              "#fb9f3a"
             ],
             [
              0.8888888888888888,
              "#fdca26"
             ],
             [
              1,
              "#f0f921"
             ]
            ],
            "type": "histogram2d"
           }
          ],
          "histogram2dcontour": [
           {
            "colorbar": {
             "outlinewidth": 0,
             "ticks": ""
            },
            "colorscale": [
             [
              0,
              "#0d0887"
             ],
             [
              0.1111111111111111,
              "#46039f"
             ],
             [
              0.2222222222222222,
              "#7201a8"
             ],
             [
              0.3333333333333333,
              "#9c179e"
             ],
             [
              0.4444444444444444,
              "#bd3786"
             ],
             [
              0.5555555555555556,
              "#d8576b"
             ],
             [
              0.6666666666666666,
              "#ed7953"
             ],
             [
              0.7777777777777778,
              "#fb9f3a"
             ],
             [
              0.8888888888888888,
              "#fdca26"
             ],
             [
              1,
              "#f0f921"
             ]
            ],
            "type": "histogram2dcontour"
           }
          ],
          "mesh3d": [
           {
            "colorbar": {
             "outlinewidth": 0,
             "ticks": ""
            },
            "type": "mesh3d"
           }
          ],
          "parcoords": [
           {
            "line": {
             "colorbar": {
              "outlinewidth": 0,
              "ticks": ""
             }
            },
            "type": "parcoords"
           }
          ],
          "pie": [
           {
            "automargin": true,
            "type": "pie"
           }
          ],
          "scatter": [
           {
            "fillpattern": {
             "fillmode": "overlay",
             "size": 10,
             "solidity": 0.2
            },
            "type": "scatter"
           }
          ],
          "scatter3d": [
           {
            "line": {
             "colorbar": {
              "outlinewidth": 0,
              "ticks": ""
             }
            },
            "marker": {
             "colorbar": {
              "outlinewidth": 0,
              "ticks": ""
             }
            },
            "type": "scatter3d"
           }
          ],
          "scattercarpet": [
           {
            "marker": {
             "colorbar": {
              "outlinewidth": 0,
              "ticks": ""
             }
            },
            "type": "scattercarpet"
           }
          ],
          "scattergeo": [
           {
            "marker": {
             "colorbar": {
              "outlinewidth": 0,
              "ticks": ""
             }
            },
            "type": "scattergeo"
           }
          ],
          "scattergl": [
           {
            "marker": {
             "colorbar": {
              "outlinewidth": 0,
              "ticks": ""
             }
            },
            "type": "scattergl"
           }
          ],
          "scattermapbox": [
           {
            "marker": {
             "colorbar": {
              "outlinewidth": 0,
              "ticks": ""
             }
            },
            "type": "scattermapbox"
           }
          ],
          "scatterpolar": [
           {
            "marker": {
             "colorbar": {
              "outlinewidth": 0,
              "ticks": ""
             }
            },
            "type": "scatterpolar"
           }
          ],
          "scatterpolargl": [
           {
            "marker": {
             "colorbar": {
              "outlinewidth": 0,
              "ticks": ""
             }
            },
            "type": "scatterpolargl"
           }
          ],
          "scatterternary": [
           {
            "marker": {
             "colorbar": {
              "outlinewidth": 0,
              "ticks": ""
             }
            },
            "type": "scatterternary"
           }
          ],
          "surface": [
           {
            "colorbar": {
             "outlinewidth": 0,
             "ticks": ""
            },
            "colorscale": [
             [
              0,
              "#0d0887"
             ],
             [
              0.1111111111111111,
              "#46039f"
             ],
             [
              0.2222222222222222,
              "#7201a8"
             ],
             [
              0.3333333333333333,
              "#9c179e"
             ],
             [
              0.4444444444444444,
              "#bd3786"
             ],
             [
              0.5555555555555556,
              "#d8576b"
             ],
             [
              0.6666666666666666,
              "#ed7953"
             ],
             [
              0.7777777777777778,
              "#fb9f3a"
             ],
             [
              0.8888888888888888,
              "#fdca26"
             ],
             [
              1,
              "#f0f921"
             ]
            ],
            "type": "surface"
           }
          ],
          "table": [
           {
            "cells": {
             "fill": {
              "color": "#EBF0F8"
             },
             "line": {
              "color": "white"
             }
            },
            "header": {
             "fill": {
              "color": "#C8D4E3"
             },
             "line": {
              "color": "white"
             }
            },
            "type": "table"
           }
          ]
         },
         "layout": {
          "annotationdefaults": {
           "arrowcolor": "#2a3f5f",
           "arrowhead": 0,
           "arrowwidth": 1
          },
          "autotypenumbers": "strict",
          "coloraxis": {
           "colorbar": {
            "outlinewidth": 0,
            "ticks": ""
           }
          },
          "colorscale": {
           "diverging": [
            [
             0,
             "#8e0152"
            ],
            [
             0.1,
             "#c51b7d"
            ],
            [
             0.2,
             "#de77ae"
            ],
            [
             0.3,
             "#f1b6da"
            ],
            [
             0.4,
             "#fde0ef"
            ],
            [
             0.5,
             "#f7f7f7"
            ],
            [
             0.6,
             "#e6f5d0"
            ],
            [
             0.7,
             "#b8e186"
            ],
            [
             0.8,
             "#7fbc41"
            ],
            [
             0.9,
             "#4d9221"
            ],
            [
             1,
             "#276419"
            ]
           ],
           "sequential": [
            [
             0,
             "#0d0887"
            ],
            [
             0.1111111111111111,
             "#46039f"
            ],
            [
             0.2222222222222222,
             "#7201a8"
            ],
            [
             0.3333333333333333,
             "#9c179e"
            ],
            [
             0.4444444444444444,
             "#bd3786"
            ],
            [
             0.5555555555555556,
             "#d8576b"
            ],
            [
             0.6666666666666666,
             "#ed7953"
            ],
            [
             0.7777777777777778,
             "#fb9f3a"
            ],
            [
             0.8888888888888888,
             "#fdca26"
            ],
            [
             1,
             "#f0f921"
            ]
           ],
           "sequentialminus": [
            [
             0,
             "#0d0887"
            ],
            [
             0.1111111111111111,
             "#46039f"
            ],
            [
             0.2222222222222222,
             "#7201a8"
            ],
            [
             0.3333333333333333,
             "#9c179e"
            ],
            [
             0.4444444444444444,
             "#bd3786"
            ],
            [
             0.5555555555555556,
             "#d8576b"
            ],
            [
             0.6666666666666666,
             "#ed7953"
            ],
            [
             0.7777777777777778,
             "#fb9f3a"
            ],
            [
             0.8888888888888888,
             "#fdca26"
            ],
            [
             1,
             "#f0f921"
            ]
           ]
          },
          "colorway": [
           "#636efa",
           "#EF553B",
           "#00cc96",
           "#ab63fa",
           "#FFA15A",
           "#19d3f3",
           "#FF6692",
           "#B6E880",
           "#FF97FF",
           "#FECB52"
          ],
          "font": {
           "color": "#2a3f5f"
          },
          "geo": {
           "bgcolor": "white",
           "lakecolor": "white",
           "landcolor": "#E5ECF6",
           "showlakes": true,
           "showland": true,
           "subunitcolor": "white"
          },
          "hoverlabel": {
           "align": "left"
          },
          "hovermode": "closest",
          "mapbox": {
           "style": "light"
          },
          "paper_bgcolor": "white",
          "plot_bgcolor": "#E5ECF6",
          "polar": {
           "angularaxis": {
            "gridcolor": "white",
            "linecolor": "white",
            "ticks": ""
           },
           "bgcolor": "#E5ECF6",
           "radialaxis": {
            "gridcolor": "white",
            "linecolor": "white",
            "ticks": ""
           }
          },
          "scene": {
           "xaxis": {
            "backgroundcolor": "#E5ECF6",
            "gridcolor": "white",
            "gridwidth": 2,
            "linecolor": "white",
            "showbackground": true,
            "ticks": "",
            "zerolinecolor": "white"
           },
           "yaxis": {
            "backgroundcolor": "#E5ECF6",
            "gridcolor": "white",
            "gridwidth": 2,
            "linecolor": "white",
            "showbackground": true,
            "ticks": "",
            "zerolinecolor": "white"
           },
           "zaxis": {
            "backgroundcolor": "#E5ECF6",
            "gridcolor": "white",
            "gridwidth": 2,
            "linecolor": "white",
            "showbackground": true,
            "ticks": "",
            "zerolinecolor": "white"
           }
          },
          "shapedefaults": {
           "line": {
            "color": "#2a3f5f"
           }
          },
          "ternary": {
           "aaxis": {
            "gridcolor": "white",
            "linecolor": "white",
            "ticks": ""
           },
           "baxis": {
            "gridcolor": "white",
            "linecolor": "white",
            "ticks": ""
           },
           "bgcolor": "#E5ECF6",
           "caxis": {
            "gridcolor": "white",
            "linecolor": "white",
            "ticks": ""
           }
          },
          "title": {
           "x": 0.05
          },
          "xaxis": {
           "automargin": true,
           "gridcolor": "white",
           "linecolor": "white",
           "ticks": "",
           "title": {
            "standoff": 15
           },
           "zerolinecolor": "white",
           "zerolinewidth": 2
          },
          "yaxis": {
           "automargin": true,
           "gridcolor": "white",
           "linecolor": "white",
           "ticks": "",
           "title": {
            "standoff": 15
           },
           "zerolinecolor": "white",
           "zerolinewidth": 2
          }
         }
        },
        "title": {
         "text": "Superminicar keeps Up Like Normal and Sportscar Rose is Sales By 105%."
        },
        "width": 900,
        "xaxis": {
         "autorange": true,
         "range": [
          1977.512342729734,
          2022.487657270266
         ],
         "type": "linear"
        },
        "yaxis": {
         "autorange": true,
         "range": [
          -216.40144927536227,
          5381.301449275362
         ],
         "type": "linear"
        }
       }
      },
      "image/png": "[encoded data removed]",
      "text/html": [
       "<div>                            <div id=\"e0ccf337-1714-4b34-8ce3-d9aa06f0f8bf\" class=\"plotly-graph-div\" style=\"height:725px; width:900px;\"></div>            <script type=\"text/javascript\">                require([\"plotly\"], function(Plotly) {                    window.PLOTLYENV=window.PLOTLYENV || {};                                    if (document.getElementById(\"e0ccf337-1714-4b34-8ce3-d9aa06f0f8bf\")) {                    Plotly.newPlot(                        \"e0ccf337-1714-4b34-8ce3-d9aa06f0f8bf\",                        [{\"x\":[1980,1981,1990,1991,1992,2000,2001,2002,2008,2009],\"y\":[3179.2,2523.6,754.8,2600.2,686.1,2058.9,3430.2,1292.5,1426.8000000000002,2485.1],\"type\":\"scatter\"},{\"x\":[1980,1981,1982,1990,1991,1992,2000,2001,2002,2008,2009,2020],\"y\":[2882.5,1885.1999999999998,5062.9,1979.1999999999998,3210.7,1340.1,1966.8000000000002,3448.5,697.6,2544.8,2035.3999999999999,1289.9],\"type\":\"scatter\"},{\"x\":[1980,1981,1982,1983,1990,1991,2000,2001,2002,2008,2009,2020],\"y\":[2085.7,3192.1000000000004,2408.9,589.0,4404.8,1495.8,1246.8000000000002,1426.9,714.5,2131.7,3059.8,670.4],\"type\":\"scatter\"},{\"x\":[1982,2000,2020],\"y\":[102.0,195.0,214.0],\"type\":\"scatter\"},{\"x\":[1991],\"y\":[564.0],\"type\":\"scatter\"}],                        {\"template\":{\"data\":{\"histogram2dcontour\":[{\"type\":\"histogram2dcontour\",\"colorbar\":{\"outlinewidth\":0,\"ticks\":\"\"},\"colorscale\":[[0.0,\"#0d0887\"],[0.1111111111111111,\"#46039f\"],[0.2222222222222222,\"#7201a8\"],[0.3333333333333333,\"#9c179e\"],[0.4444444444444444,\"#bd3786\"],[0.5555555555555556,\"#d8576b\"],[0.6666666666666666,\"#ed7953\"],[0.7777777777777778,\"#fb9f3a\"],[0.8888888888888888,\"#fdca26\"],[1.0,\"#f0f921\"]]}],\"choropleth\":[{\"type\":\"choropleth\",\"colorbar\":{\"outlinewidth\":0,\"ticks\":\"\"}}],\"histogram2d\":[{\"type\":\"histogram2d\",\"colorbar\":{\"outlinewidth\":0,\"ticks\":\"\"},\"colorscale\":[[0.0,\"#0d0887\"],[0.1111111111111111,\"#46039f\"],[0.2222222222222222,\"#7201a8\"],[0.3333333333333333,\"#9c179e\"],[0.4444444444444444,\"#bd3786\"],[0.5555555555555556,\"#d8576b\"],[0.6666666666666666,\"#ed7953\"],[0.7777777777777778,\"#fb9f3a\"],[0.8888888888888888,\"#fdca26\"],[1.0,\"#f0f921\"]]}],\"heatmap\":[{\"type\":\"heatmap\",\"colorbar\":{\"outlinewidth\":0,\"ticks\":\"\"},\"colorscale\":[[0.0,\"#0d0887\"],[0.1111111111111111,\"#46039f\"],[0.2222222222222222,\"#7201a8\"],[0.3333333333333333,\"#9c179e\"],[0.4444444444444444,\"#bd3786\"],[0.5555555555555556,\"#d8576b\"],[0.6666666666666666,\"#ed7953\"],[0.7777777777777778,\"#fb9f3a\"],[0.8888888888888888,\"#fdca26\"],[1.0,\"#f0f921\"]]}],\"heatmapgl\":[{\"type\":\"heatmapgl\",\"colorbar\":{\"outlinewidth\":0,\"ticks\":\"\"},\"colorscale\":[[0.0,\"#0d0887\"],[0.1111111111111111,\"#46039f\"],[0.2222222222222222,\"#7201a8\"],[0.3333333333333333,\"#9c179e\"],[0.4444444444444444,\"#bd3786\"],[0.5555555555555556,\"#d8576b\"],[0.6666666666666666,\"#ed7953\"],[0.7777777777777778,\"#fb9f3a\"],[0.8888888888888888,\"#fdca26\"],[1.0,\"#f0f921\"]]}],\"contourcarpet\":[{\"type\":\"contourcarpet\",\"colorbar\":{\"outlinewidth\":0,\"ticks\":\"\"}}],\"contour\":[{\"type\":\"contour\",\"colorbar\":{\"outlinewidth\":0,\"ticks\":\"\"},\"colorscale\":[[0.0,\"#0d0887\"],[0.1111111111111111,\"#46039f\"],[0.2222222222222222,\"#7201a8\"],[0.3333333333333333,\"#9c179e\"],[0.4444444444444444,\"#bd3786\"],[0.5555555555555556,\"#d8576b\"],[0.6666666666666666,\"#ed7953\"],[0.7777777777777778,\"#fb9f3a\"],[0.8888888888888888,\"#fdca26\"],[1.0,\"#f0f921\"]]}],\"surface\":[{\"type\":\"surface\",\"colorbar\":{\"outlinewidth\":0,\"ticks\":\"\"},\"colorscale\":[[0.0,\"#0d0887\"],[0.1111111111111111,\"#46039f\"],[0.2222222222222222,\"#7201a8\"],[0.3333333333333333,\"#9c179e\"],[0.4444444444444444,\"#bd3786\"],[0.5555555555555556,\"#d8576b\"],[0.6666666666666666,\"#ed7953\"],[0.7777777777777778,\"#fb9f3a\"],[0.8888888888888888,\"#fdca26\"],[1.0,\"#f0f921\"]]}],\"mesh3d\":[{\"type\":\"mesh3d\",\"colorbar\":{\"outlinewidth\":0,\"ticks\":\"\"}}],\"scatter\":[{\"fillpattern\":{\"fillmode\":\"overlay\",\"size\":10,\"solidity\":0.2},\"type\":\"scatter\"}],\"parcoords\":[{\"type\":\"parcoords\",\"line\":{\"colorbar\":{\"outlinewidth\":0,\"ticks\":\"\"}}}],\"scatterpolargl\":[{\"type\":\"scatterpolargl\",\"marker\":{\"colorbar\":{\"outlinewidth\":0,\"ticks\":\"\"}}}],\"bar\":[{\"error_x\":{\"color\":\"#2a3f5f\"},\"error_y\":{\"color\":\"#2a3f5f\"},\"marker\":{\"line\":{\"color\":\"#E5ECF6\",\"width\":0.5},\"pattern\":{\"fillmode\":\"overlay\",\"size\":10,\"solidity\":0.2}},\"type\":\"bar\"}],\"scattergeo\":[{\"type\":\"scattergeo\",\"marker\":{\"colorbar\":{\"outlinewidth\":0,\"ticks\":\"\"}}}],\"scatterpolar\":[{\"type\":\"scatterpolar\",\"marker\":{\"colorbar\":{\"outlinewidth\":0,\"ticks\":\"\"}}}],\"histogram\":[{\"marker\":{\"pattern\":{\"fillmode\":\"overlay\",\"size\":10,\"solidity\":0.2}},\"type\":\"histogram\"}],\"scattergl\":[{\"type\":\"scattergl\",\"marker\":{\"colorbar\":{\"outlinewidth\":0,\"ticks\":\"\"}}}],\"scatter3d\":[{\"type\":\"scatter3d\",\"line\":{\"colorbar\":{\"outlinewidth\":0,\"ticks\":\"\"}},\"marker\":{\"colorbar\":{\"outlinewidth\":0,\"ticks\":\"\"}}}],\"scattermapbox\":[{\"type\":\"scattermapbox\",\"marker\":{\"colorbar\":{\"outlinewidth\":0,\"ticks\":\"\"}}}],\"scatterternary\":[{\"type\":\"scatterternary\",\"marker\":{\"colorbar\":{\"outlinewidth\":0,\"ticks\":\"\"}}}],\"scattercarpet\":[{\"type\":\"scattercarpet\",\"marker\":{\"colorbar\":{\"outlinewidth\":0,\"ticks\":\"\"}}}],\"carpet\":[{\"aaxis\":{\"endlinecolor\":\"#2a3f5f\",\"gridcolor\":\"white\",\"linecolor\":\"white\",\"minorgridcolor\":\"white\",\"startlinecolor\":\"#2a3f5f\"},\"baxis\":{\"endlinecolor\":\"#2a3f5f\",\"gridcolor\":\"white\",\"linecolor\":\"white\",\"minorgridcolor\":\"white\",\"startlinecolor\":\"#2a3f5f\"},\"type\":\"carpet\"}],\"table\":[{\"cells\":{\"fill\":{\"color\":\"#EBF0F8\"},\"line\":{\"color\":\"white\"}},\"header\":{\"fill\":{\"color\":\"#C8D4E3\"},\"line\":{\"color\":\"white\"}},\"type\":\"table\"}],\"barpolar\":[{\"marker\":{\"line\":{\"color\":\"#E5ECF6\",\"width\":0.5},\"pattern\":{\"fillmode\":\"overlay\",\"size\":10,\"solidity\":0.2}},\"type\":\"barpolar\"}],\"pie\":[{\"automargin\":true,\"type\":\"pie\"}]},\"layout\":{\"autotypenumbers\":\"strict\",\"colorway\":[\"#636efa\",\"#EF553B\",\"#00cc96\",\"#ab63fa\",\"#FFA15A\",\"#19d3f3\",\"#FF6692\",\"#B6E880\",\"#FF97FF\",\"#FECB52\"],\"font\":{\"color\":\"#2a3f5f\"},\"hovermode\":\"closest\",\"hoverlabel\":{\"align\":\"left\"},\"paper_bgcolor\":\"white\",\"plot_bgcolor\":\"#E5ECF6\",\"polar\":{\"bgcolor\":\"#E5ECF6\",\"angularaxis\":{\"gridcolor\":\"white\",\"linecolor\":\"white\",\"ticks\":\"\"},\"radialaxis\":{\"gridcolor\":\"white\",\"linecolor\":\"white\",\"ticks\":\"\"}},\"ternary\":{\"bgcolor\":\"#E5ECF6\",\"aaxis\":{\"gridcolor\":\"white\",\"linecolor\":\"white\",\"ticks\":\"\"},\"baxis\":{\"gridcolor\":\"white\",\"linecolor\":\"white\",\"ticks\":\"\"},\"caxis\":{\"gridcolor\":\"white\",\"linecolor\":\"white\",\"ticks\":\"\"}},\"coloraxis\":{\"colorbar\":{\"outlinewidth\":0,\"ticks\":\"\"}},\"colorscale\":{\"sequential\":[[0.0,\"#0d0887\"],[0.1111111111111111,\"#46039f\"],[0.2222222222222222,\"#7201a8\"],[0.3333333333333333,\"#9c179e\"],[0.4444444444444444,\"#bd3786\"],[0.5555555555555556,\"#d8576b\"],[0.6666666666666666,\"#ed7953\"],[0.7777777777777778,\"#fb9f3a\"],[0.8888888888888888,\"#fdca26\"],[1.0,\"#f0f921\"]],\"sequentialminus\":[[0.0,\"#0d0887\"],[0.1111111111111111,\"#46039f\"],[0.2222222222222222,\"#7201a8\"],[0.3333333333333333,\"#9c179e\"],[0.4444444444444444,\"#bd3786\"],[0.5555555555555556,\"#d8576b\"],[0.6666666666666666,\"#ed7953\"],[0.7777777777777778,\"#fb9f3a\"],[0.8888888888888888,\"#fdca26\"],[1.0,\"#f0f921\"]],\"diverging\":[[0,\"#8e0152\"],[0.1,\"#c51b7d\"],[0.2,\"#de77ae\"],[0.3,\"#f1b6da\"],[0.4,\"#fde0ef\"],[0.5,\"#f7f7f7\"],[0.6,\"#e6f5d0\"],[0.7,\"#b8e186\"],[0.8,\"#7fbc41\"],[0.9,\"#4d9221\"],[1,\"#276419\"]]},\"xaxis\":{\"gridcolor\":\"white\",\"linecolor\":\"white\",\"ticks\":\"\",\"title\":{\"standoff\":15},\"zerolinecolor\":\"white\",\"automargin\":true,\"zerolinewidth\":2},\"yaxis\":{\"gridcolor\":\"white\",\"linecolor\":\"white\",\"ticks\":\"\",\"title\":{\"standoff\":15},\"zerolinecolor\":\"white\",\"automargin\":true,\"zerolinewidth\":2},\"scene\":{\"xaxis\":{\"backgroundcolor\":\"#E5ECF6\",\"gridcolor\":\"white\",\"linecolor\":\"white\",\"showbackground\":true,\"ticks\":\"\",\"zerolinecolor\":\"white\",\"gridwidth\":2},\"yaxis\":{\"backgroundcolor\":\"#E5ECF6\",\"gridcolor\":\"white\",\"linecolor\":\"white\",\"showbackground\":true,\"ticks\":\"\",\"zerolinecolor\":\"white\",\"gridwidth\":2},\"zaxis\":{\"backgroundcolor\":\"#E5ECF6\",\"gridcolor\":\"white\",\"linecolor\":\"white\",\"showbackground\":true,\"ticks\":\"\",\"zerolinecolor\":\"white\",\"gridwidth\":2}},\"shapedefaults\":{\"line\":{\"color\":\"#2a3f5f\"}},\"annotationdefaults\":{\"arrowcolor\":\"#2a3f5f\",\"arrowhead\":0,\"arrowwidth\":1},\"geo\":{\"bgcolor\":\"white\",\"landcolor\":\"#E5ECF6\",\"subunitcolor\":\"white\",\"showland\":true,\"showlakes\":true,\"lakecolor\":\"white\"},\"title\":{\"x\":0.05},\"mapbox\":{\"style\":\"light\"}}},\"height\":725,\"width\":900,\"title\":{\"text\":\"Superminicar keeps Up Like Normal and Sportscar Rose is Sales By 105%.\"}},                        {\"responsive\": true}                    ).then(function(){\n",
       "                            \n",
       "var gd = document.getElementById('e0ccf337-1714-4b34-8ce3-d9aa06f0f8bf');\n",
       "var x = new MutationObserver(function (mutations, observer) {{\n",
       "        var display = window.getComputedStyle(gd).display;\n",
       "        if (!display || display === 'none') {{\n",
       "            console.log([gd, 'removed!']);\n",
       "            Plotly.purge(gd);\n",
       "            observer.disconnect();\n",
       "        }}\n",
       "}});\n",
       "\n",
       "// Listen for the removal of the full notebook cells\n",
       "var notebookContainer = gd.closest('#notebook-container');\n",
       "if (notebookContainer) {{\n",
       "    x.observe(notebookContainer, {childList: true});\n",
       "}}\n",
       "\n",
       "// Listen for the clearing of the current output cell\n",
       "var outputEl = gd.closest('.output');\n",
       "if (outputEl) {{\n",
       "    x.observe(outputEl, {childList: true});\n",
       "}}\n",
       "\n",
       "                        })                };                });            </script>        </div>"
      ]
     },
     "metadata": {},
     "output_type": "display_data"
    }
   ],
   "source": [
    "fig = go.Figure()\n",
    "fig.add_trace(go.Scatter(x=smini.index,y=smini))\n",
    "fig.add_trace(go.Scatter(x=mfc.index,y=mfc))\n",
    "fig.add_trace(go.Scatter(x=sfc.index,y=sfc))\n",
    "fig.add_trace(go.Scatter(x=sport.index,y=sport))\n",
    "fig.add_trace(go.Scatter(x=excar.index,y=excar))\n",
    "fig.update_layout(height=725,width=900,title='Superminicar keeps Up Like Normal and Sportscar Rose is Sales By 105%.')"
   ]
  },
  {
   "cell_type": "code",
   "execution_count": 54,
   "id": "b6e8a4d5-4978-4673-afbd-f4c349ffa2c3",
   "metadata": {
    "tags": []
   },
   "outputs": [
    {
     "data": {
      "text/plain": [
       "<Axes: xlabel='Vehicle_Type', ylabel='Automobile_Sales'>"
      ]
     },
     "execution_count": 54,
     "metadata": {},
     "output_type": "execute_result"
    },
    {
     "data": {
      "image/png": "[encoded data removed]",
      "text/plain": [
       "<Figure size 1000x700 with 1 Axes>"
      ]
     },
     "metadata": {},
     "output_type": "display_data"
    }
   ],
   "source": [
    "data = df[['Vehicle_Type','Recession','Automobile_Sales']].groupby(['Vehicle_Type','Recession'])['Automobile_Sales'].sum().reset_index()\n",
    "data['Res_Status'] = data['Recession'].map({1: 'During Recession',0: 'Non-Recession'})\n",
    "plt.figure(figsize=(10,7))\n",
    "sns.barplot(data,x='Vehicle_Type',y='Automobile_Sales',hue='Res_Status')"
   ]
  },
  {
   "cell_type": "code",
   "execution_count": 10,
   "id": "ef7b4fc0-c0cd-4c4d-a494-f19b5e336d88",
   "metadata": {},
   "outputs": [
    {
     "data": {
      "application/vnd.plotly.v1+json": {
       "config": {
        "plotlyServerURL": "https://plot.ly"
       },
       "data": [
        {
         "line": {
          "color": "cyan",
          "width": 3
         },
         "marker": {
          "color": "red",
          "size": 8
         },
         "type": "scatter",
         "x": [
          1980,
          1981,
          1982,
          1983,
          1990,
          1991,
          1992,
          2000,
          2001,
          2002,
          2008,
          2009,
          2020
         ],
         "xaxis": "x",
         "y": [
          493.223,
          427.38300000000004,
          474.968,
          22.287,
          401.249,
          405.999,
          124.756,
          356.293,
          445.46500000000003,
          165.123,
          328.534,
          494.527,
          121.613
         ],
         "yaxis": "y"
        },
        {
         "line": {
          "color": "green",
          "width": 3
         },
         "marker": {
          "color": "Blue",
          "size": 8
         },
         "mode": "lines+markers",
         "type": "scatter",
         "x": [
          1983,
          1984,
          1985,
          1986,
          1987,
          1988,
          1989,
          1990,
          1992,
          1993,
          1994,
          1995,
          1996,
          1997,
          1998,
          1999,
          2000,
          2002,
          2003,
          2004,
          2005,
          2006,
          2007,
          2008,
          2010,
          2011,
          2012,
          2013,
          2014,
          2015,
          2016,
          2017,
          2018,
          2019,
          2020,
          2021,
          2022,
          2023
         ],
         "xaxis": "x2",
         "y": [
          359.547,
          471.129,
          556.254,
          397.857,
          493.51,
          449.002,
          479.017,
          58.261,
          434.089,
          449.936,
          484.413,
          376.481,
          589.958,
          469.23199999999997,
          440.882,
          496.353,
          188.046,
          354.992,
          526.12,
          571.437,
          555.234,
          506.90599999999995,
          568.561,
          127.291,
          452.278,
          411.975,
          533.722,
          552.578,
          403.741,
          394.361,
          559.627,
          553.298,
          453.60699999999997,
          534.659,
          325.674,
          397.328,
          452.45,
          467.79499999999996
         ],
         "yaxis": "y2"
        }
       ],
       "layout": {
        "annotations": [
         {
          "font": {
           "size": 16
          },
          "showarrow": false,
          "text": "GDP in Recession = True",
          "x": 0.225,
          "xanchor": "center",
          "xref": "paper",
          "y": 1,
          "yanchor": "bottom",
          "yref": "paper"
         },
         {
          "font": {
           "size": 16
          },
          "showarrow": false,
          "text": "GDP in Recession = False",
          "x": 0.775,
          "xanchor": "center",
          "xref": "paper",
          "y": 1,
          "yanchor": "bottom",
          "yref": "paper"
         }
        ],
        "autosize": true,
        "template": {
         "data": {
          "bar": [
           {
            "error_x": {
             "color": "#2a3f5f"
            },
            "error_y": {
             "color": "#2a3f5f"
            },
            "marker": {
             "line": {
              "color": "#E5ECF6",
              "width": 0.5
             },
             "pattern": {
              "fillmode": "overlay",
              "size": 10,
              "solidity": 0.2
             }
            },
            "type": "bar"
           }
          ],
          "barpolar": [
           {
            "marker": {
             "line": {
              "color": "#E5ECF6",
              "width": 0.5
             },
             "pattern": {
              "fillmode": "overlay",
              "size": 10,
              "solidity": 0.2
             }
            },
            "type": "barpolar"
           }
          ],
          "carpet": [
           {
            "aaxis": {
             "endlinecolor": "#2a3f5f",
             "gridcolor": "white",
             "linecolor": "white",
             "minorgridcolor": "white",
             "startlinecolor": "#2a3f5f"
            },
            "baxis": {
             "endlinecolor": "#2a3f5f",
             "gridcolor": "white",
             "linecolor": "white",
             "minorgridcolor": "white",
             "startlinecolor": "#2a3f5f"
            },
            "type": "carpet"
           }
          ],
          "choropleth": [
           {
            "colorbar": {
             "outlinewidth": 0,
             "ticks": ""
            },
            "type": "choropleth"
           }
          ],
          "contour": [
           {
            "colorbar": {
             "outlinewidth": 0,
             "ticks": ""
            },
            "colorscale": [
             [
              0,
              "#0d0887"
             ],
             [
              0.1111111111111111,
              "#46039f"
             ],
             [
              0.2222222222222222,
              "#7201a8"
             ],
             [
              0.3333333333333333,
              "#9c179e"
             ],
             [
              0.4444444444444444,
              "#bd3786"
             ],
             [
              0.5555555555555556,
              "#d8576b"
             ],
             [
              0.6666666666666666,
              "#ed7953"
             ],
             [
              0.7777777777777778,
              "#fb9f3a"
             ],
             [
              0.8888888888888888,
              "#fdca26"
             ],
             [
              1,
              "#f0f921"
             ]
            ],
            "type": "contour"
           }
          ],
          "contourcarpet": [
           {
            "colorbar": {
             "outlinewidth": 0,
             "ticks": ""
            },
            "type": "contourcarpet"
           }
          ],
          "heatmap": [
           {
            "colorbar": {
             "outlinewidth": 0,
             "ticks": ""
            },
            "colorscale": [
             [
              0,
              "#0d0887"
             ],
             [
              0.1111111111111111,
              "#46039f"
             ],
             [
              0.2222222222222222,
              "#7201a8"
             ],
             [
              0.3333333333333333,
              "#9c179e"
             ],
             [
              0.4444444444444444,
              "#bd3786"
             ],
             [
              0.5555555555555556,
              "#d8576b"
             ],
             [
              0.6666666666666666,
              "#ed7953"
             ],
             [
              0.7777777777777778,
              "#fb9f3a"
             ],
             [
              0.8888888888888888,
              "#fdca26"
             ],
             [
              1,
              "#f0f921"
             ]
            ],
            "type": "heatmap"
           }
          ],
          "heatmapgl": [
           {
            "colorbar": {
             "outlinewidth": 0,
             "ticks": ""
            },
            "colorscale": [
             [
              0,
              "#0d0887"
             ],
             [
              0.1111111111111111,
              "#46039f"
             ],
             [
              0.2222222222222222,
              "#7201a8"
             ],
             [
              0.3333333333333333,
              "#9c179e"
             ],
             [
              0.4444444444444444,
              "#bd3786"
             ],
             [
              0.5555555555555556,
              "#d8576b"
             ],
             [
              0.6666666666666666,
              "#ed7953"
             ],
             [
              0.7777777777777778,
              "#fb9f3a"
             ],
             [
              0.8888888888888888,
              "#fdca26"
             ],
             [
              1,
              "#f0f921"
             ]
            ],
            "type": "heatmapgl"
           }
          ],
          "histogram": [
           {
            "marker": {
             "pattern": {
              "fillmode": "overlay",
              "size": 10,
              "solidity": 0.2
             }
            },
            "type": "histogram"
           }
          ],
          "histogram2d": [
           {
            "colorbar": {
             "outlinewidth": 0,
             "ticks": ""
            },
            "colorscale": [
             [
              0,
              "#0d0887"
             ],
             [
              0.1111111111111111,
              "#46039f"
             ],
             [
              0.2222222222222222,
              "#7201a8"
             ],
             [
              0.3333333333333333,
              "#9c179e"
             ],
             [
              0.4444444444444444,
              "#bd3786"
             ],
             [
              0.5555555555555556,
              "#d8576b"
             ],
             [
              0.6666666666666666,
              "#ed7953"
             ],
             [
              0.7777777777777778,
              "#fb9f3a"
             ],
             [
              0.8888888888888888,
              "#fdca26"
             ],
             [
              1,
              "#f0f921"
             ]
            ],
            "type": "histogram2d"
           }
          ],
          "histogram2dcontour": [
           {
            "colorbar": {
             "outlinewidth": 0,
             "ticks": ""
            },
            "colorscale": [
             [
              0,
              "#0d0887"
             ],
             [
              0.1111111111111111,
              "#46039f"
             ],
             [
              0.2222222222222222,
              "#7201a8"
             ],
             [
              0.3333333333333333,
              "#9c179e"
             ],
             [
              0.4444444444444444,
              "#bd3786"
             ],
             [
              0.5555555555555556,
              "#d8576b"
             ],
             [
              0.6666666666666666,
              "#ed7953"
             ],
             [
              0.7777777777777778,
              "#fb9f3a"
             ],
             [
              0.8888888888888888,
              "#fdca26"
             ],
             [
              1,
              "#f0f921"
             ]
            ],
            "type": "histogram2dcontour"
           }
          ],
          "mesh3d": [
           {
            "colorbar": {
             "outlinewidth": 0,
             "ticks": ""
            },
            "type": "mesh3d"
           }
          ],
          "parcoords": [
           {
            "line": {
             "colorbar": {
              "outlinewidth": 0,
              "ticks": ""
             }
            },
            "type": "parcoords"
           }
          ],
          "pie": [
           {
            "automargin": true,
            "type": "pie"
           }
          ],
          "scatter": [
           {
            "fillpattern": {
             "fillmode": "overlay",
             "size": 10,
             "solidity": 0.2
            },
            "type": "scatter"
           }
          ],
          "scatter3d": [
           {
            "line": {
             "colorbar": {
              "outlinewidth": 0,
              "ticks": ""
             }
            },
            "marker": {
             "colorbar": {
              "outlinewidth": 0,
              "ticks": ""
             }
            },
            "type": "scatter3d"
           }
          ],
          "scattercarpet": [
           {
            "marker": {
             "colorbar": {
              "outlinewidth": 0,
              "ticks": ""
             }
            },
            "type": "scattercarpet"
           }
          ],
          "scattergeo": [
           {
            "marker": {
             "colorbar": {
              "outlinewidth": 0,
              "ticks": ""
             }
            },
            "type": "scattergeo"
           }
          ],
          "scattergl": [
           {
            "marker": {
             "colorbar": {
              "outlinewidth": 0,
              "ticks": ""
             }
            },
            "type": "scattergl"
           }
          ],
          "scattermapbox": [
           {
            "marker": {
             "colorbar": {
              "outlinewidth": 0,
              "ticks": ""
             }
            },
            "type": "scattermapbox"
           }
          ],
          "scatterpolar": [
           {
            "marker": {
             "colorbar": {
              "outlinewidth": 0,
              "ticks": ""
             }
            },
            "type": "scatterpolar"
           }
          ],
          "scatterpolargl": [
           {
            "marker": {
             "colorbar": {
              "outlinewidth": 0,
              "ticks": ""
             }
            },
            "type": "scatterpolargl"
           }
          ],
          "scatterternary": [
           {
            "marker": {
             "colorbar": {
              "outlinewidth": 0,
              "ticks": ""
             }
            },
            "type": "scatterternary"
           }
          ],
          "surface": [
           {
            "colorbar": {
             "outlinewidth": 0,
             "ticks": ""
            },
            "colorscale": [
             [
              0,
              "#0d0887"
             ],
             [
              0.1111111111111111,
              "#46039f"
             ],
             [
              0.2222222222222222,
              "#7201a8"
             ],
             [
              0.3333333333333333,
              "#9c179e"
             ],
             [
              0.4444444444444444,
              "#bd3786"
             ],
             [
              0.5555555555555556,
              "#d8576b"
             ],
             [
              0.6666666666666666,
              "#ed7953"
             ],
             [
              0.7777777777777778,
              "#fb9f3a"
             ],
             [
              0.8888888888888888,
              "#fdca26"
             ],
             [
              1,
              "#f0f921"
             ]
            ],
            "type": "surface"
           }
          ],
          "table": [
           {
            "cells": {
             "fill": {
              "color": "#EBF0F8"
             },
             "line": {
              "color": "white"
             }
            },
            "header": {
             "fill": {
              "color": "#C8D4E3"
             },
             "line": {
              "color": "white"
             }
            },
            "type": "table"
           }
          ]
         },
         "layout": {
          "annotationdefaults": {
           "arrowcolor": "#2a3f5f",
           "arrowhead": 0,
           "arrowwidth": 1
          },
          "autotypenumbers": "strict",
          "coloraxis": {
           "colorbar": {
            "outlinewidth": 0,
            "ticks": ""
           }
          },
          "colorscale": {
           "diverging": [
            [
             0,
             "#8e0152"
            ],
            [
             0.1,
             "#c51b7d"
            ],
            [
             0.2,
             "#de77ae"
            ],
            [
             0.3,
             "#f1b6da"
            ],
            [
             0.4,
             "#fde0ef"
            ],
            [
             0.5,
             "#f7f7f7"
            ],
            [
             0.6,
             "#e6f5d0"
            ],
            [
             0.7,
             "#b8e186"
            ],
            [
             0.8,
             "#7fbc41"
            ],
            [
             0.9,
             "#4d9221"
            ],
            [
             1,
             "#276419"
            ]
           ],
           "sequential": [
            [
             0,
             "#0d0887"
            ],
            [
             0.1111111111111111,
             "#46039f"
            ],
            [
             0.2222222222222222,
             "#7201a8"
            ],
            [
             0.3333333333333333,
             "#9c179e"
            ],
            [
             0.4444444444444444,
             "#bd3786"
            ],
            [
             0.5555555555555556,
             "#d8576b"
            ],
            [
             0.6666666666666666,
             "#ed7953"
            ],
            [
             0.7777777777777778,
             "#fb9f3a"
            ],
            [
             0.8888888888888888,
             "#fdca26"
            ],
            [
             1,
             "#f0f921"
            ]
           ],
           "sequentialminus": [
            [
             0,
             "#0d0887"
            ],
            [
             0.1111111111111111,
             "#46039f"
            ],
            [
             0.2222222222222222,
             "#7201a8"
            ],
            [
             0.3333333333333333,
             "#9c179e"
            ],
            [
             0.4444444444444444,
             "#bd3786"
            ],
            [
             0.5555555555555556,
             "#d8576b"
            ],
            [
             0.6666666666666666,
             "#ed7953"
            ],
            [
             0.7777777777777778,
             "#fb9f3a"
            ],
            [
             0.8888888888888888,
             "#fdca26"
            ],
            [
             1,
             "#f0f921"
            ]
           ]
          },
          "colorway": [
           "#636efa",
           "#EF553B",
           "#00cc96",
           "#ab63fa",
           "#FFA15A",
           "#19d3f3",
           "#FF6692",
           "#B6E880",
           "#FF97FF",
           "#FECB52"
          ],
          "font": {
           "color": "#2a3f5f"
          },
          "geo": {
           "bgcolor": "white",
           "lakecolor": "white",
           "landcolor": "#E5ECF6",
           "showlakes": true,
           "showland": true,
           "subunitcolor": "white"
          },
          "hoverlabel": {
           "align": "left"
          },
          "hovermode": "closest",
          "mapbox": {
           "style": "light"
          },
          "paper_bgcolor": "white",
          "plot_bgcolor": "#E5ECF6",
          "polar": {
           "angularaxis": {
            "gridcolor": "white",
            "linecolor": "white",
            "ticks": ""
           },
           "bgcolor": "#E5ECF6",
           "radialaxis": {
            "gridcolor": "white",
            "linecolor": "white",
            "ticks": ""
           }
          },
          "scene": {
           "xaxis": {
            "backgroundcolor": "#E5ECF6",
            "gridcolor": "white",
            "gridwidth": 2,
            "linecolor": "white",
            "showbackground": true,
            "ticks": "",
            "zerolinecolor": "white"
           },
           "yaxis": {
            "backgroundcolor": "#E5ECF6",
            "gridcolor": "white",
            "gridwidth": 2,
            "linecolor": "white",
            "showbackground": true,
            "ticks": "",
            "zerolinecolor": "white"
           },
           "zaxis": {
            "backgroundcolor": "#E5ECF6",
            "gridcolor": "white",
            "gridwidth": 2,
            "linecolor": "white",
            "showbackground": true,
            "ticks": "",
            "zerolinecolor": "white"
           }
          },
          "shapedefaults": {
           "line": {
            "color": "#2a3f5f"
           }
          },
          "ternary": {
           "aaxis": {
            "gridcolor": "white",
            "linecolor": "white",
            "ticks": ""
           },
           "baxis": {
            "gridcolor": "white",
            "linecolor": "white",
            "ticks": ""
           },
           "bgcolor": "#E5ECF6",
           "caxis": {
            "gridcolor": "white",
            "linecolor": "white",
            "ticks": ""
           }
          },
          "title": {
           "x": 0.05
          },
          "xaxis": {
           "automargin": true,
           "gridcolor": "white",
           "linecolor": "white",
           "ticks": "",
           "title": {
            "standoff": 15
           },
           "zerolinecolor": "white",
           "zerolinewidth": 2
          },
          "yaxis": {
           "automargin": true,
           "gridcolor": "white",
           "linecolor": "white",
           "ticks": "",
           "title": {
            "standoff": 15
           },
           "zerolinecolor": "white",
           "zerolinewidth": 2
          }
         }
        },
        "title": {
         "font": {
          "color": "darkred"
         },
         "text": "GDP In Recession Period"
        },
        "xaxis": {
         "anchor": "y",
         "autorange": true,
         "domain": [
          0,
          0.45
         ],
         "range": [
          1977.0415769421897,
          2022.9584230578103
         ],
         "type": "linear"
        },
        "xaxis2": {
         "anchor": "y2",
         "autorange": true,
         "domain": [
          0.55,
          1
         ],
         "range": [
          1980.0415769421897,
          2025.9584230578103
         ],
         "type": "linear"
        },
        "yaxis": {
         "anchor": "x",
         "autorange": true,
         "domain": [
          0,
          1
         ],
         "range": [
          -21.208789473684213,
          538.0227894736842
         ],
         "type": "linear"
        },
        "yaxis2": {
         "anchor": "x2",
         "autorange": true,
         "domain": [
          0,
          1
         ],
         "range": [
          9.288907894736845,
          638.9300921052632
         ],
         "type": "linear"
        }
       }
      },
      "image/png": "[encoded data removed]",
      "text/html": [
       "<div>                            <div id=\"1ce39e76-ca2f-49e3-996b-33d066373281\" class=\"plotly-graph-div\" style=\"height:525px; width:100%;\"></div>            <script type=\"text/javascript\">                require([\"plotly\"], function(Plotly) {                    window.PLOTLYENV=window.PLOTLYENV || {};                                    if (document.getElementById(\"1ce39e76-ca2f-49e3-996b-33d066373281\")) {                    Plotly.newPlot(                        \"1ce39e76-ca2f-49e3-996b-33d066373281\",                        [{\"line\":{\"color\":\"cyan\",\"width\":3},\"marker\":{\"color\":\"red\",\"size\":8},\"x\":[1980,1981,1982,1983,1990,1991,1992,2000,2001,2002,2008,2009,2020],\"y\":[493.223,427.38300000000004,474.968,22.287,401.249,405.999,124.756,356.293,445.46500000000003,165.123,328.534,494.527,121.613],\"type\":\"scatter\",\"xaxis\":\"x\",\"yaxis\":\"y\"},{\"line\":{\"color\":\"green\",\"width\":3},\"marker\":{\"color\":\"Blue\",\"size\":8},\"mode\":\"lines+markers\",\"x\":[1983,1984,1985,1986,1987,1988,1989,1990,1992,1993,1994,1995,1996,1997,1998,1999,2000,2002,2003,2004,2005,2006,2007,2008,2010,2011,2012,2013,2014,2015,2016,2017,2018,2019,2020,2021,2022,2023],\"y\":[359.547,471.129,556.254,397.857,493.51,449.002,479.017,58.261,434.089,449.936,484.413,376.481,589.958,469.23199999999997,440.882,496.353,188.046,354.992,526.12,571.437,555.234,506.90599999999995,568.561,127.291,452.278,411.975,533.722,552.578,403.741,394.361,559.627,553.298,453.60699999999997,534.659,325.674,397.328,452.45,467.79499999999996],\"type\":\"scatter\",\"xaxis\":\"x2\",\"yaxis\":\"y2\"}],                        {\"template\":{\"data\":{\"histogram2dcontour\":[{\"type\":\"histogram2dcontour\",\"colorbar\":{\"outlinewidth\":0,\"ticks\":\"\"},\"colorscale\":[[0.0,\"#0d0887\"],[0.1111111111111111,\"#46039f\"],[0.2222222222222222,\"#7201a8\"],[0.3333333333333333,\"#9c179e\"],[0.4444444444444444,\"#bd3786\"],[0.5555555555555556,\"#d8576b\"],[0.6666666666666666,\"#ed7953\"],[0.7777777777777778,\"#fb9f3a\"],[0.8888888888888888,\"#fdca26\"],[1.0,\"#f0f921\"]]}],\"choropleth\":[{\"type\":\"choropleth\",\"colorbar\":{\"outlinewidth\":0,\"ticks\":\"\"}}],\"histogram2d\":[{\"type\":\"histogram2d\",\"colorbar\":{\"outlinewidth\":0,\"ticks\":\"\"},\"colorscale\":[[0.0,\"#0d0887\"],[0.1111111111111111,\"#46039f\"],[0.2222222222222222,\"#7201a8\"],[0.3333333333333333,\"#9c179e\"],[0.4444444444444444,\"#bd3786\"],[0.5555555555555556,\"#d8576b\"],[0.6666666666666666,\"#ed7953\"],[0.7777777777777778,\"#fb9f3a\"],[0.8888888888888888,\"#fdca26\"],[1.0,\"#f0f921\"]]}],\"heatmap\":[{\"type\":\"heatmap\",\"colorbar\":{\"outlinewidth\":0,\"ticks\":\"\"},\"colorscale\":[[0.0,\"#0d0887\"],[0.1111111111111111,\"#46039f\"],[0.2222222222222222,\"#7201a8\"],[0.3333333333333333,\"#9c179e\"],[0.4444444444444444,\"#bd3786\"],[0.5555555555555556,\"#d8576b\"],[0.6666666666666666,\"#ed7953\"],[0.7777777777777778,\"#fb9f3a\"],[0.8888888888888888,\"#fdca26\"],[1.0,\"#f0f921\"]]}],\"heatmapgl\":[{\"type\":\"heatmapgl\",\"colorbar\":{\"outlinewidth\":0,\"ticks\":\"\"},\"colorscale\":[[0.0,\"#0d0887\"],[0.1111111111111111,\"#46039f\"],[0.2222222222222222,\"#7201a8\"],[0.3333333333333333,\"#9c179e\"],[0.4444444444444444,\"#bd3786\"],[0.5555555555555556,\"#d8576b\"],[0.6666666666666666,\"#ed7953\"],[0.7777777777777778,\"#fb9f3a\"],[0.8888888888888888,\"#fdca26\"],[1.0,\"#f0f921\"]]}],\"contourcarpet\":[{\"type\":\"contourcarpet\",\"colorbar\":{\"outlinewidth\":0,\"ticks\":\"\"}}],\"contour\":[{\"type\":\"contour\",\"colorbar\":{\"outlinewidth\":0,\"ticks\":\"\"},\"colorscale\":[[0.0,\"#0d0887\"],[0.1111111111111111,\"#46039f\"],[0.2222222222222222,\"#7201a8\"],[0.3333333333333333,\"#9c179e\"],[0.4444444444444444,\"#bd3786\"],[0.5555555555555556,\"#d8576b\"],[0.6666666666666666,\"#ed7953\"],[0.7777777777777778,\"#fb9f3a\"],[0.8888888888888888,\"#fdca26\"],[1.0,\"#f0f921\"]]}],\"surface\":[{\"type\":\"surface\",\"colorbar\":{\"outlinewidth\":0,\"ticks\":\"\"},\"colorscale\":[[0.0,\"#0d0887\"],[0.1111111111111111,\"#46039f\"],[0.2222222222222222,\"#7201a8\"],[0.3333333333333333,\"#9c179e\"],[0.4444444444444444,\"#bd3786\"],[0.5555555555555556,\"#d8576b\"],[0.6666666666666666,\"#ed7953\"],[0.7777777777777778,\"#fb9f3a\"],[0.8888888888888888,\"#fdca26\"],[1.0,\"#f0f921\"]]}],\"mesh3d\":[{\"type\":\"mesh3d\",\"colorbar\":{\"outlinewidth\":0,\"ticks\":\"\"}}],\"scatter\":[{\"fillpattern\":{\"fillmode\":\"overlay\",\"size\":10,\"solidity\":0.2},\"type\":\"scatter\"}],\"parcoords\":[{\"type\":\"parcoords\",\"line\":{\"colorbar\":{\"outlinewidth\":0,\"ticks\":\"\"}}}],\"scatterpolargl\":[{\"type\":\"scatterpolargl\",\"marker\":{\"colorbar\":{\"outlinewidth\":0,\"ticks\":\"\"}}}],\"bar\":[{\"error_x\":{\"color\":\"#2a3f5f\"},\"error_y\":{\"color\":\"#2a3f5f\"},\"marker\":{\"line\":{\"color\":\"#E5ECF6\",\"width\":0.5},\"pattern\":{\"fillmode\":\"overlay\",\"size\":10,\"solidity\":0.2}},\"type\":\"bar\"}],\"scattergeo\":[{\"type\":\"scattergeo\",\"marker\":{\"colorbar\":{\"outlinewidth\":0,\"ticks\":\"\"}}}],\"scatterpolar\":[{\"type\":\"scatterpolar\",\"marker\":{\"colorbar\":{\"outlinewidth\":0,\"ticks\":\"\"}}}],\"histogram\":[{\"marker\":{\"pattern\":{\"fillmode\":\"overlay\",\"size\":10,\"solidity\":0.2}},\"type\":\"histogram\"}],\"scattergl\":[{\"type\":\"scattergl\",\"marker\":{\"colorbar\":{\"outlinewidth\":0,\"ticks\":\"\"}}}],\"scatter3d\":[{\"type\":\"scatter3d\",\"line\":{\"colorbar\":{\"outlinewidth\":0,\"ticks\":\"\"}},\"marker\":{\"colorbar\":{\"outlinewidth\":0,\"ticks\":\"\"}}}],\"scattermapbox\":[{\"type\":\"scattermapbox\",\"marker\":{\"colorbar\":{\"outlinewidth\":0,\"ticks\":\"\"}}}],\"scatterternary\":[{\"type\":\"scatterternary\",\"marker\":{\"colorbar\":{\"outlinewidth\":0,\"ticks\":\"\"}}}],\"scattercarpet\":[{\"type\":\"scattercarpet\",\"marker\":{\"colorbar\":{\"outlinewidth\":0,\"ticks\":\"\"}}}],\"carpet\":[{\"aaxis\":{\"endlinecolor\":\"#2a3f5f\",\"gridcolor\":\"white\",\"linecolor\":\"white\",\"minorgridcolor\":\"white\",\"startlinecolor\":\"#2a3f5f\"},\"baxis\":{\"endlinecolor\":\"#2a3f5f\",\"gridcolor\":\"white\",\"linecolor\":\"white\",\"minorgridcolor\":\"white\",\"startlinecolor\":\"#2a3f5f\"},\"type\":\"carpet\"}],\"table\":[{\"cells\":{\"fill\":{\"color\":\"#EBF0F8\"},\"line\":{\"color\":\"white\"}},\"header\":{\"fill\":{\"color\":\"#C8D4E3\"},\"line\":{\"color\":\"white\"}},\"type\":\"table\"}],\"barpolar\":[{\"marker\":{\"line\":{\"color\":\"#E5ECF6\",\"width\":0.5},\"pattern\":{\"fillmode\":\"overlay\",\"size\":10,\"solidity\":0.2}},\"type\":\"barpolar\"}],\"pie\":[{\"automargin\":true,\"type\":\"pie\"}]},\"layout\":{\"autotypenumbers\":\"strict\",\"colorway\":[\"#636efa\",\"#EF553B\",\"#00cc96\",\"#ab63fa\",\"#FFA15A\",\"#19d3f3\",\"#FF6692\",\"#B6E880\",\"#FF97FF\",\"#FECB52\"],\"font\":{\"color\":\"#2a3f5f\"},\"hovermode\":\"closest\",\"hoverlabel\":{\"align\":\"left\"},\"paper_bgcolor\":\"white\",\"plot_bgcolor\":\"#E5ECF6\",\"polar\":{\"bgcolor\":\"#E5ECF6\",\"angularaxis\":{\"gridcolor\":\"white\",\"linecolor\":\"white\",\"ticks\":\"\"},\"radialaxis\":{\"gridcolor\":\"white\",\"linecolor\":\"white\",\"ticks\":\"\"}},\"ternary\":{\"bgcolor\":\"#E5ECF6\",\"aaxis\":{\"gridcolor\":\"white\",\"linecolor\":\"white\",\"ticks\":\"\"},\"baxis\":{\"gridcolor\":\"white\",\"linecolor\":\"white\",\"ticks\":\"\"},\"caxis\":{\"gridcolor\":\"white\",\"linecolor\":\"white\",\"ticks\":\"\"}},\"coloraxis\":{\"colorbar\":{\"outlinewidth\":0,\"ticks\":\"\"}},\"colorscale\":{\"sequential\":[[0.0,\"#0d0887\"],[0.1111111111111111,\"#46039f\"],[0.2222222222222222,\"#7201a8\"],[0.3333333333333333,\"#9c179e\"],[0.4444444444444444,\"#bd3786\"],[0.5555555555555556,\"#d8576b\"],[0.6666666666666666,\"#ed7953\"],[0.7777777777777778,\"#fb9f3a\"],[0.8888888888888888,\"#fdca26\"],[1.0,\"#f0f921\"]],\"sequentialminus\":[[0.0,\"#0d0887\"],[0.1111111111111111,\"#46039f\"],[0.2222222222222222,\"#7201a8\"],[0.3333333333333333,\"#9c179e\"],[0.4444444444444444,\"#bd3786\"],[0.5555555555555556,\"#d8576b\"],[0.6666666666666666,\"#ed7953\"],[0.7777777777777778,\"#fb9f3a\"],[0.8888888888888888,\"#fdca26\"],[1.0,\"#f0f921\"]],\"diverging\":[[0,\"#8e0152\"],[0.1,\"#c51b7d\"],[0.2,\"#de77ae\"],[0.3,\"#f1b6da\"],[0.4,\"#fde0ef\"],[0.5,\"#f7f7f7\"],[0.6,\"#e6f5d0\"],[0.7,\"#b8e186\"],[0.8,\"#7fbc41\"],[0.9,\"#4d9221\"],[1,\"#276419\"]]},\"xaxis\":{\"gridcolor\":\"white\",\"linecolor\":\"white\",\"ticks\":\"\",\"title\":{\"standoff\":15},\"zerolinecolor\":\"white\",\"automargin\":true,\"zerolinewidth\":2},\"yaxis\":{\"gridcolor\":\"white\",\"linecolor\":\"white\",\"ticks\":\"\",\"title\":{\"standoff\":15},\"zerolinecolor\":\"white\",\"automargin\":true,\"zerolinewidth\":2},\"scene\":{\"xaxis\":{\"backgroundcolor\":\"#E5ECF6\",\"gridcolor\":\"white\",\"linecolor\":\"white\",\"showbackground\":true,\"ticks\":\"\",\"zerolinecolor\":\"white\",\"gridwidth\":2},\"yaxis\":{\"backgroundcolor\":\"#E5ECF6\",\"gridcolor\":\"white\",\"linecolor\":\"white\",\"showbackground\":true,\"ticks\":\"\",\"zerolinecolor\":\"white\",\"gridwidth\":2},\"zaxis\":{\"backgroundcolor\":\"#E5ECF6\",\"gridcolor\":\"white\",\"linecolor\":\"white\",\"showbackground\":true,\"ticks\":\"\",\"zerolinecolor\":\"white\",\"gridwidth\":2}},\"shapedefaults\":{\"line\":{\"color\":\"#2a3f5f\"}},\"annotationdefaults\":{\"arrowcolor\":\"#2a3f5f\",\"arrowhead\":0,\"arrowwidth\":1},\"geo\":{\"bgcolor\":\"white\",\"landcolor\":\"#E5ECF6\",\"subunitcolor\":\"white\",\"showland\":true,\"showlakes\":true,\"lakecolor\":\"white\"},\"title\":{\"x\":0.05},\"mapbox\":{\"style\":\"light\"}}},\"xaxis\":{\"anchor\":\"y\",\"domain\":[0.0,0.45]},\"yaxis\":{\"anchor\":\"x\",\"domain\":[0.0,1.0]},\"xaxis2\":{\"anchor\":\"y2\",\"domain\":[0.55,1.0]},\"yaxis2\":{\"anchor\":\"x2\",\"domain\":[0.0,1.0]},\"annotations\":[{\"font\":{\"size\":16},\"showarrow\":false,\"text\":\"GDP in Recession = True\",\"x\":0.225,\"xanchor\":\"center\",\"xref\":\"paper\",\"y\":1.0,\"yanchor\":\"bottom\",\"yref\":\"paper\"},{\"font\":{\"size\":16},\"showarrow\":false,\"text\":\"GDP in Recession = False\",\"x\":0.775,\"xanchor\":\"center\",\"xref\":\"paper\",\"y\":1.0,\"yanchor\":\"bottom\",\"yref\":\"paper\"}],\"title\":{\"text\":\"GDP In Recession Period\",\"font\":{\"color\":\"darkred\"}}},                        {\"responsive\": true}                    ).then(function(){\n",
       "                            \n",
       "var gd = document.getElementById('1ce39e76-ca2f-49e3-996b-33d066373281');\n",
       "var x = new MutationObserver(function (mutations, observer) {{\n",
       "        var display = window.getComputedStyle(gd).display;\n",
       "        if (!display || display === 'none') {{\n",
       "            console.log([gd, 'removed!']);\n",
       "            Plotly.purge(gd);\n",
       "            observer.disconnect();\n",
       "        }}\n",
       "}});\n",
       "\n",
       "// Listen for the removal of the full notebook cells\n",
       "var notebookContainer = gd.closest('#notebook-container');\n",
       "if (notebookContainer) {{\n",
       "    x.observe(notebookContainer, {childList: true});\n",
       "}}\n",
       "\n",
       "// Listen for the clearing of the current output cell\n",
       "var outputEl = gd.closest('.output');\n",
       "if (outputEl) {{\n",
       "    x.observe(outputEl, {childList: true});\n",
       "}}\n",
       "\n",
       "                        })                };                });            </script>        </div>"
      ]
     },
     "metadata": {},
     "output_type": "display_data"
    }
   ],
   "source": [
    "gdp = df[['Year','Recession','GDP']].query('Recession == 1')\n",
    "gdpn = df[['Year','Recession','GDP']].query('Recession == 0')\n",
    "rec1_gdp = gdp.groupby('Year')['GDP'].sum()\n",
    "rec0_gdp = gdpn.groupby('Year')['GDP'].sum()\n",
    "figure = msplots(rows = 1,cols = 2,subplot_titles=('GDP in Recession = True','GDP in Recession = False'))\n",
    "figure.add_trace(go.Scatter(x=rec1_gdp.index,y=rec1_gdp,line=dict(color='cyan',width=3),marker=dict(size=8,color='red')),row = 1,col = 1)\n",
    "figure.add_trace(go.Scatter(x=rec0_gdp.index,y=rec0_gdp,mode='lines+markers',line=dict(color='green',width=3),marker=dict(size=8,color='Blue')),row = 1,col = 2)\n",
    "figure.update_layout(title='GDP In Recession Period',title_font_color='darkred')"
   ]
  },
  {
   "cell_type": "code",
   "execution_count": 11,
   "id": "0e0e27d5-27b7-4aed-82f7-b80f1b0f54d5",
   "metadata": {},
   "outputs": [
    {
     "data": {
      "application/vnd.plotly.v1+json": {
       "config": {
        "plotlyServerURL": "https://plot.ly"
       },
       "data": [
        {
         "hovertemplate": "Year=%{x}<br>Automobile_Sales=%{y}<br>Seasonality_Weight=%{marker.color}<extra></extra>",
         "legendgroup": "",
         "marker": {
          "color": [
           0.5,
           0.75,
           0.2,
           1,
           0.2,
           0.75,
           0.5,
           0.25,
           0.07,
           0,
           0.07,
           0.25,
           0.5,
           0.75,
           0.2,
           1,
           0.2,
           0.75,
           0.5,
           0.25,
           0.07,
           0,
           0.07,
           0.25,
           0.5,
           0.75,
           0.2,
           1,
           0.2,
           0.75,
           0.5,
           0.25,
           0.07,
           0,
           0.07,
           0.25,
           0.5,
           0.75,
           0.2,
           1,
           0.2,
           0.75,
           0.5,
           0.25,
           0.07,
           0,
           0.07,
           0.25,
           0.5,
           0.75,
           0.2,
           1,
           0.2,
           0.75,
           0.5,
           0.25,
           0.07,
           0,
           0.07,
           0.25,
           0.5,
           0.75,
           0.2,
           1,
           0.2,
           0.75,
           0.5,
           0.25,
           0.07,
           0,
           0.07,
           0.25,
           0.5,
           0.75,
           0.2,
           1,
           0.2,
           0.75,
           0.5,
           0.25,
           0.07,
           0,
           0.07,
           0.25,
           0.5,
           0.75,
           0.2,
           1,
           1,
           0.2,
           0.75,
           0.5,
           0.25,
           0.07,
           0,
           0.07,
           0.25,
           0.5,
           0.75,
           0.2,
           1,
           0.2,
           0.75,
           0.5,
           0.25,
           0.07,
           0,
           0.07,
           0.25,
           0.07,
           0,
           0.07,
           0.25,
           0.75,
           1.5,
           1,
           1.5,
           0.75,
           0.5,
           0.25,
           0.07,
           0.12,
           0.25,
           0.34,
           0.5,
           0.75,
           1.5,
           1,
           1.5,
           0.75,
           0.5,
           0.25,
           0.07,
           0.12,
           0.25,
           0.34,
           0.5,
           0.75,
           1.5,
           1,
           1.5,
           0.75,
           0.5,
           0.25,
           0.07,
           0.12,
           0.25,
           0.34,
           0.5,
           0.75,
           1.5,
           1,
           1.5,
           0.75,
           0.5,
           0.25,
           0.07,
           0.12,
           0.25,
           0.34,
           0.5,
           0.75,
           1.5,
           1,
           1.5,
           0.75,
           0.5,
           0.25,
           0.07,
           0.12,
           0.25,
           0.34,
           0.5,
           0.75,
           1.5,
           1,
           1.5,
           0.75,
           0.5,
           0.25,
           0.07,
           0.12,
           0.25,
           0.34,
           0.5,
           0.75,
           1.5,
           1,
           1.5,
           0.75,
           0.5,
           0.25,
           0.07,
           0.12,
           0.25,
           0.34,
           0.5,
           1,
           1.5,
           0.75,
           0.5,
           0.25,
           0.07,
           0.12,
           0.25,
           0.34,
           0.5,
           0.75,
           1.5,
           1,
           1.5,
           0.75,
           0.5,
           0.25,
           0.07,
           0.12,
           0.25,
           0.34,
           0.5,
           0.75,
           1.5,
           1,
           1.5,
           0.75,
           0.5,
           0.25,
           0.07,
           0.12,
           0.25,
           0.34,
           0.5,
           0.75,
           1.5,
           1,
           1.5,
           0.75,
           0.5,
           0.25,
           0.07,
           0.12,
           0.25,
           0.34,
           0.5,
           0.75,
           1.5,
           1,
           1.5,
           0.75,
           0.5,
           0.25,
           0.07,
           0.12,
           0.25,
           0.34,
           0.5,
           0.75,
           1.5,
           1,
           1.5,
           0.75,
           0.5,
           0.25,
           0.07,
           0.12,
           0.25,
           0.34,
           0.5,
           0.75,
           1.5,
           1,
           1.5,
           0.75,
           0.5,
           0.25,
           0.07,
           0.12,
           0.25,
           0.34,
           0.5,
           0.75,
           1.5,
           1,
           1.5,
           0.75,
           0.5,
           0.25,
           0.07,
           0.12,
           0.25,
           0.34,
           0.5,
           0.75,
           1.5,
           1.5,
           0.75,
           0.5,
           0.25,
           0.07,
           0.12,
           0.25,
           0.34,
           0.5,
           0.75,
           1.5,
           1,
           1.5,
           0.75,
           0.5,
           0.25,
           0.07,
           0.12,
           0.25,
           0.34,
           0.5,
           0.75,
           1.5,
           1,
           1.5,
           0.75,
           0.5,
           0.25,
           0.07,
           0.12,
           0.25,
           0.34,
           0.5,
           0.75,
           1.5,
           1,
           1.5,
           0.75,
           0.5,
           0.25,
           0.07,
           0.12,
           0.25,
           0.34,
           0.5,
           0.75,
           1.5,
           1,
           1.5,
           0.75,
           0.5,
           0.25,
           0.07,
           0.12,
           0.25,
           0.34,
           0.5,
           0.75,
           1.5,
           1,
           1.5,
           0.75,
           0.5,
           0.25,
           0.07,
           0.12,
           0.25,
           0.34,
           0.5,
           0.75,
           1.5,
           0.5,
           0.75,
           1.5,
           1,
           1.5,
           0.75,
           0.5,
           0.25,
           0.07,
           0.12,
           0.25,
           0.34,
           0.5,
           0.75,
           1.5,
           1,
           1.5,
           0.75,
           0.5,
           0.25,
           0.07,
           0.12,
           0.25,
           0.34,
           0.5,
           0.75,
           1.5,
           1,
           1.5,
           0.75,
           0.5,
           0.25,
           0.07,
           0.12,
           0.25,
           0.34,
           0.5,
           0.75,
           1.5,
           1,
           1.5,
           0.75,
           0.5,
           0.25,
           0.07,
           0.12,
           0.25,
           0.34,
           0.5,
           0.75,
           1.5,
           1,
           1.5,
           0.75,
           0.5,
           0.25,
           0.07,
           0.12,
           0.25,
           0.34,
           0.5,
           0.75,
           1.5,
           1,
           1.5,
           0.75,
           0.5,
           0.25,
           0.07,
           0.12,
           0.25,
           0.34,
           0.5,
           0.75,
           1.5,
           1,
           1.5,
           0.75,
           0.5,
           0.25,
           0.07,
           0.12,
           0.25,
           0.34,
           0.5,
           0.75,
           1.5,
           1,
           1.5,
           0.75,
           0.5,
           0.25,
           0.07,
           0.12,
           0.25,
           0.34,
           0.5,
           0.75,
           1.5,
           1,
           1.5,
           0.75,
           0.5,
           0.25,
           0.07,
           0.12,
           0.25,
           0.34,
           0.5,
           0.75,
           1.5,
           1,
           1.5,
           0.75,
           0.5,
           0.25,
           0.07,
           0.12,
           0.25,
           0.34,
           0.5,
           0.75,
           1.5,
           1,
           1.5,
           0.75,
           0.5,
           0.25,
           0.5,
           0.75,
           1.5,
           1,
           1.5,
           0.75,
           0.5,
           0.25,
           0.07,
           0.12,
           0.25,
           0.34,
           0.5,
           0.75,
           1.5,
           1,
           1.5,
           0.75,
           0.5,
           0.25,
           0.07,
           0.12,
           0.25,
           0.34,
           0.5,
           0.75,
           1.5,
           1,
           1.5,
           0.75,
           0.5,
           0.25,
           0.07,
           0.12,
           0.25,
           0.34
          ],
          "coloraxis": "coloraxis",
          "symbol": "circle"
         },
         "mode": "markers",
         "name": "",
         "orientation": "v",
         "showlegend": false,
         "type": "scatter",
         "x": [
          1980,
          1980,
          1980,
          1980,
          1980,
          1980,
          1980,
          1980,
          1980,
          1980,
          1980,
          1980,
          1981,
          1981,
          1981,
          1981,
          1981,
          1981,
          1981,
          1981,
          1981,
          1981,
          1981,
          1981,
          1982,
          1982,
          1982,
          1982,
          1982,
          1982,
          1982,
          1982,
          1982,
          1982,
          1982,
          1982,
          1983,
          1990,
          1990,
          1990,
          1990,
          1990,
          1990,
          1990,
          1990,
          1990,
          1990,
          1990,
          1991,
          1991,
          1991,
          1991,
          1991,
          1991,
          1991,
          1991,
          1991,
          1991,
          1991,
          1991,
          1992,
          1992,
          1992,
          2000,
          2000,
          2000,
          2000,
          2000,
          2000,
          2000,
          2000,
          2000,
          2001,
          2001,
          2001,
          2001,
          2001,
          2001,
          2001,
          2001,
          2001,
          2001,
          2001,
          2001,
          2002,
          2002,
          2002,
          2002,
          2008,
          2008,
          2008,
          2008,
          2008,
          2008,
          2008,
          2008,
          2008,
          2009,
          2009,
          2009,
          2009,
          2009,
          2009,
          2009,
          2009,
          2009,
          2009,
          2009,
          2009,
          2020,
          2020,
          2020,
          2020,
          1983,
          1983,
          1983,
          1983,
          1983,
          1983,
          1983,
          1983,
          1983,
          1983,
          1983,
          1984,
          1984,
          1984,
          1984,
          1984,
          1984,
          1984,
          1984,
          1984,
          1984,
          1984,
          1984,
          1985,
          1985,
          1985,
          1985,
          1985,
          1985,
          1985,
          1985,
          1985,
          1985,
          1985,
          1985,
          1986,
          1986,
          1986,
          1986,
          1986,
          1986,
          1986,
          1986,
          1986,
          1986,
          1986,
          1986,
          1987,
          1987,
          1987,
          1987,
          1987,
          1987,
          1987,
          1987,
          1987,
          1987,
          1987,
          1987,
          1988,
          1988,
          1988,
          1988,
          1988,
          1988,
          1988,
          1988,
          1988,
          1988,
          1988,
          1988,
          1989,
          1989,
          1989,
          1989,
          1989,
          1989,
          1989,
          1989,
          1989,
          1989,
          1989,
          1989,
          1990,
          1992,
          1992,
          1992,
          1992,
          1992,
          1992,
          1992,
          1992,
          1992,
          1993,
          1993,
          1993,
          1993,
          1993,
          1993,
          1993,
          1993,
          1993,
          1993,
          1993,
          1993,
          1994,
          1994,
          1994,
          1994,
          1994,
          1994,
          1994,
          1994,
          1994,
          1994,
          1994,
          1994,
          1995,
          1995,
          1995,
          1995,
          1995,
          1995,
          1995,
          1995,
          1995,
          1995,
          1995,
          1995,
          1996,
          1996,
          1996,
          1996,
          1996,
          1996,
          1996,
          1996,
          1996,
          1996,
          1996,
          1996,
          1997,
          1997,
          1997,
          1997,
          1997,
          1997,
          1997,
          1997,
          1997,
          1997,
          1997,
          1997,
          1998,
          1998,
          1998,
          1998,
          1998,
          1998,
          1998,
          1998,
          1998,
          1998,
          1998,
          1998,
          1999,
          1999,
          1999,
          1999,
          1999,
          1999,
          1999,
          1999,
          1999,
          1999,
          1999,
          1999,
          2000,
          2000,
          2000,
          2002,
          2002,
          2002,
          2002,
          2002,
          2002,
          2002,
          2002,
          2003,
          2003,
          2003,
          2003,
          2003,
          2003,
          2003,
          2003,
          2003,
          2003,
          2003,
          2003,
          2004,
          2004,
          2004,
          2004,
          2004,
          2004,
          2004,
          2004,
          2004,
          2004,
          2004,
          2004,
          2005,
          2005,
          2005,
          2005,
          2005,
          2005,
          2005,
          2005,
          2005,
          2005,
          2005,
          2005,
          2006,
          2006,
          2006,
          2006,
          2006,
          2006,
          2006,
          2006,
          2006,
          2006,
          2006,
          2006,
          2007,
          2007,
          2007,
          2007,
          2007,
          2007,
          2007,
          2007,
          2007,
          2007,
          2007,
          2007,
          2008,
          2008,
          2008,
          2010,
          2010,
          2010,
          2010,
          2010,
          2010,
          2010,
          2010,
          2010,
          2010,
          2010,
          2010,
          2011,
          2011,
          2011,
          2011,
          2011,
          2011,
          2011,
          2011,
          2011,
          2011,
          2011,
          2011,
          2012,
          2012,
          2012,
          2012,
          2012,
          2012,
          2012,
          2012,
          2012,
          2012,
          2012,
          2012,
          2013,
          2013,
          2013,
          2013,
          2013,
          2013,
          2013,
          2013,
          2013,
          2013,
          2013,
          2013,
          2014,
          2014,
          2014,
          2014,
          2014,
          2014,
          2014,
          2014,
          2014,
          2014,
          2014,
          2014,
          2015,
          2015,
          2015,
          2015,
          2015,
          2015,
          2015,
          2015,
          2015,
          2015,
          2015,
          2015,
          2016,
          2016,
          2016,
          2016,
          2016,
          2016,
          2016,
          2016,
          2016,
          2016,
          2016,
          2016,
          2017,
          2017,
          2017,
          2017,
          2017,
          2017,
          2017,
          2017,
          2017,
          2017,
          2017,
          2017,
          2018,
          2018,
          2018,
          2018,
          2018,
          2018,
          2018,
          2018,
          2018,
          2018,
          2018,
          2018,
          2019,
          2019,
          2019,
          2019,
          2019,
          2019,
          2019,
          2019,
          2019,
          2019,
          2019,
          2019,
          2020,
          2020,
          2020,
          2020,
          2020,
          2020,
          2020,
          2020,
          2021,
          2021,
          2021,
          2021,
          2021,
          2021,
          2021,
          2021,
          2021,
          2021,
          2021,
          2021,
          2022,
          2022,
          2022,
          2022,
          2022,
          2022,
          2022,
          2022,
          2022,
          2022,
          2022,
          2022,
          2023,
          2023,
          2023,
          2023,
          2023,
          2023,
          2023,
          2023,
          2023,
          2023,
          2023,
          2023
         ],
         "xaxis": "x",
         "y": [
          456,
          555.9,
          620,
          702.8,
          770.4,
          754.5,
          729.6,
          734.9,
          705.6,
          609.7,
          763,
          745,
          325,
          574.3,
          654,
          657.1,
          752.9,
          677.6,
          638.2,
          779.5,
          574.2,
          648.1,
          558,
          762,
          466,
          614.4,
          751.4,
          617.3,
          763.9,
          726.7,
          738.8,
          552.3,
          776.2,
          720.2,
          102,
          744.6,
          589,
          754.8,
          574.7,
          714.8,
          676.1,
          570.9,
          605.3,
          550.9,
          659.1,
          619.4,
          689.8,
          723,
          619.1,
          724.1,
          559.4,
          564,
          750,
          706.3,
          688.6,
          759.5,
          591.9,
          566.7,
          604.8,
          736.3,
          556.2,
          686.1,
          783.9,
          750.8,
          671.6,
          563.1,
          745,
          690,
          575.2,
          570.2,
          195,
          706.6,
          744.5,
          756.3,
          683.5,
          670.6,
          650,
          623.1,
          651,
          731.4,
          690.7,
          759.5,
          653.1,
          691.9,
          697.6,
          688.2,
          714.5,
          604.3,
          669.4,
          572.7,
          639.1,
          663.6,
          702.6,
          773.3,
          690.4,
          724.2,
          668,
          698.3,
          564.8,
          608.3,
          633.8,
          660,
          558.8,
          581.2,
          613.6,
          778.3,
          626.5,
          662.2,
          594.5,
          692.8,
          214,
          597.1,
          670.4,
          3799.1,
          3533.5,
          3240.4,
          908.1,
          4769.8,
          426.5,
          4120.2,
          4199.6,
          4686.4,
          2962.9,
          1436.7,
          3284.7,
          3844.2,
          3822.1,
          2514,
          851.8,
          2194.6,
          4633.4,
          3141.2,
          2936.6,
          1740.9,
          2182.8,
          4520.7,
          3505.1,
          4041.6,
          2563.9,
          2861,
          3336.3,
          3678.1,
          2445.3,
          2511.6,
          3429,
          4702.3,
          832,
          4207.4,
          1845.3,
          2517.7,
          645.2,
          1345.2,
          2778.2,
          797.3,
          2727,
          4661.6,
          1015.6,
          3939.8,
          2365.7,
          3455,
          1702.7,
          1255.7,
          1260,
          860.8,
          1883.7,
          3495.1,
          4460.1,
          4160.3,
          3587.9,
          1038,
          1831.1,
          1922.6,
          1657.1,
          2833.1,
          2924.3,
          2131.5,
          3663.4,
          4224.3,
          4050.1,
          1913.7,
          4602.5,
          4775.6,
          1997.8,
          2120.6,
          2791.5,
          4723.8,
          4436.2,
          1003.1,
          2290.5,
          3003.3,
          2780.4,
          1408.2,
          4358.6,
          3551.6,
          4265.8,
          4358.3,
          3868.5,
          804.6,
          3257,
          1259.5,
          3537,
          1343.3,
          3627.1,
          1566.7,
          1069.6,
          1281.4,
          556.8,
          3737,
          3797.7,
          2832.8,
          1264,
          918.7,
          632.9,
          1283.4,
          4500.7,
          1619.7,
          2119.9,
          1015.4,
          1534.6,
          2851.8,
          3244.6,
          1636.6,
          2496.8,
          2283,
          1587.2,
          1522.2,
          4806.9,
          3282.5,
          3018.9,
          2392.8,
          2451.2,
          2948,
          3638.1,
          21147,
          1309.8,
          2767,
          2375.9,
          4410.5,
          3349.6,
          2910.7,
          1060,
          3235.2,
          1068,
          2044.2,
          1181.8,
          3618.7,
          1463.1,
          2286.7,
          4522.1,
          1454.6,
          2801.1,
          2408.3,
          628.4,
          4065.5,
          854.4,
          2652.3,
          3035.7,
          1650.1,
          3603.5,
          1671.8,
          592.3,
          3757.9,
          2924.7,
          4257.9,
          4192.5,
          4289.8,
          2700.4,
          2028.3,
          4060.1,
          2550.4,
          1361.9,
          4341.5,
          4463.9,
          2617,
          883.9,
          2268.8,
          4113.3,
          4549.2,
          1450.8,
          845.2,
          4440.8,
          2275.8,
          2951.8,
          4843.3,
          843.3,
          3424.6,
          876.8,
          2214,
          4114.5,
          2471.3,
          4972.5,
          3028.5,
          1973,
          1524.6,
          2103.3,
          2200.9,
          852.9,
          2187.8,
          2607.8,
          3754.8,
          3461.9,
          3692.8,
          585.1,
          3483.9,
          1513.4,
          2695.5,
          571.6,
          4117.5,
          3977,
          2981.3,
          842.9,
          3949,
          3137.9,
          4017.6,
          3883.5,
          4110.9,
          2846.4,
          1170.6,
          3525.9,
          3301,
          3841.4,
          1301.8,
          1413.1,
          4498.7,
          3875.7,
          4577.8,
          3914.4,
          3197.6,
          3450.4,
          4493.1,
          3116.2,
          3353.9,
          1242.3,
          2650.8,
          3726.7,
          1750.2,
          1445.4,
          1940.4,
          1619.5,
          1501.6,
          2433.1,
          4576.1,
          2797.8,
          1381.8,
          889.5,
          3636.8,
          2246.5,
          4194.5,
          3474.2,
          4080.9,
          1754.6,
          3620,
          1719.6,
          4714.6,
          3371.6,
          1987.9,
          1743.8,
          1395.1,
          3630.1,
          1518.4,
          3189.4,
          1722.2,
          3485.2,
          4163.9,
          4000.1,
          3923.9,
          1380.9,
          940.2,
          3649.2,
          2182.4,
          2466.3,
          686.2,
          1699.7,
          697.4,
          4448.9,
          1628,
          3020.9,
          721,
          3506.8,
          1981.3,
          4532.1,
          4488.6,
          1991.3,
          4545.6,
          4968,
          4210.4,
          4296.7,
          1652.9,
          3106.8,
          846.4,
          969.2,
          4423.5,
          1997.3,
          3867.7,
          4127.2,
          4355,
          4974.5,
          1619.5,
          727,
          2372.5,
          1125.2,
          647.5,
          2147.2,
          4025.4,
          3060.1,
          1935.8,
          3451.3,
          1577.5,
          611.8,
          3939.4,
          3315.5,
          3930.3,
          720.8,
          4262.3,
          3296.8,
          3047.8,
          3319.4,
          4383.5,
          3152.2,
          3125.7,
          4943.6,
          3905.6,
          2510.5,
          3686.7,
          2275,
          1563.5,
          3196.2,
          4666.3,
          4670.6,
          2065,
          2889.3,
          1487,
          4965.6,
          4901.2,
          3429.9,
          4117.2,
          3720.9,
          3179.8,
          985.14,
          2565.8,
          1420.6,
          3554.2,
          2203.5,
          4726.3,
          1290.6,
          2768.1,
          3613.5,
          3641.2,
          3426,
          1769.5,
          1241.1,
          3369.7,
          3207.1,
          1343.8,
          3676.7,
          2567.6,
          3510.9,
          4263.4,
          1301.1,
          632.9,
          4004.9,
          3253.2,
          3652.3,
          4266.9,
          4110.1,
          4811.6,
          2925.9,
          2715.5,
          2331.2,
          1229.9,
          3088.7,
          1777.1,
          4635.8,
          3135.6,
          3178.4,
          2122.8,
          778.7,
          688.8,
          2426.3,
          923.2,
          3240.6,
          4456.9,
          4465.5,
          3472.2,
          1485.2,
          4377.1,
          4479.6,
          1024.5,
          3820,
          1819.3,
          4109.3,
          4972.7,
          681.2,
          4529.6,
          3310.6,
          4866.9,
          2611.2,
          4307.9,
          824.8,
          2035.6,
          845.4,
          4875.6,
          4172.9,
          4330.8,
          4709.8,
          925.6,
          2258.9,
          863.2,
          1483.3,
          1565.7,
          2629.4,
          1739.6,
          996,
          1291.2,
          1201.5,
          4865.5,
          3917,
          4842,
          2499.1,
          1783.1,
          4090,
          1995.6,
          1876.4,
          1579.6,
          1123.4,
          1685.9,
          2124.6,
          3538.5
         ],
         "yaxis": "y"
        }
       ],
       "layout": {
        "autosize": true,
        "coloraxis": {
         "colorbar": {
          "title": {
           "text": "Seasonality_Weight"
          }
         },
         "colorscale": [
          [
           0,
           "#0d0887"
          ],
          [
           0.1111111111111111,
           "#46039f"
          ],
          [
           0.2222222222222222,
           "#7201a8"
          ],
          [
           0.3333333333333333,
           "#9c179e"
          ],
          [
           0.4444444444444444,
           "#bd3786"
          ],
          [
           0.5555555555555556,
           "#d8576b"
          ],
          [
           0.6666666666666666,
           "#ed7953"
          ],
          [
           0.7777777777777778,
           "#fb9f3a"
          ],
          [
           0.8888888888888888,
           "#fdca26"
          ],
          [
           1,
           "#f0f921"
          ]
         ]
        },
        "legend": {
         "tracegroupgap": 0
        },
        "margin": {
         "t": 60
        },
        "template": {
         "data": {
          "bar": [
           {
            "error_x": {
             "color": "#2a3f5f"
            },
            "error_y": {
             "color": "#2a3f5f"
            },
            "marker": {
             "line": {
              "color": "#E5ECF6",
              "width": 0.5
             },
             "pattern": {
              "fillmode": "overlay",
              "size": 10,
              "solidity": 0.2
             }
            },
            "type": "bar"
           }
          ],
          "barpolar": [
           {
            "marker": {
             "line": {
              "color": "#E5ECF6",
              "width": 0.5
             },
             "pattern": {
              "fillmode": "overlay",
              "size": 10,
              "solidity": 0.2
             }
            },
            "type": "barpolar"
           }
          ],
          "carpet": [
           {
            "aaxis": {
             "endlinecolor": "#2a3f5f",
             "gridcolor": "white",
             "linecolor": "white",
             "minorgridcolor": "white",
             "startlinecolor": "#2a3f5f"
            },
            "baxis": {
             "endlinecolor": "#2a3f5f",
             "gridcolor": "white",
             "linecolor": "white",
             "minorgridcolor": "white",
             "startlinecolor": "#2a3f5f"
            },
            "type": "carpet"
           }
          ],
          "choropleth": [
           {
            "colorbar": {
             "outlinewidth": 0,
             "ticks": ""
            },
            "type": "choropleth"
           }
          ],
          "contour": [
           {
            "colorbar": {
             "outlinewidth": 0,
             "ticks": ""
            },
            "colorscale": [
             [
              0,
              "#0d0887"
             ],
             [
              0.1111111111111111,
              "#46039f"
             ],
             [
              0.2222222222222222,
              "#7201a8"
             ],
             [
              0.3333333333333333,
              "#9c179e"
             ],
             [
              0.4444444444444444,
              "#bd3786"
             ],
             [
              0.5555555555555556,
              "#d8576b"
             ],
             [
              0.6666666666666666,
              "#ed7953"
             ],
             [
              0.7777777777777778,
              "#fb9f3a"
             ],
             [
              0.8888888888888888,
              "#fdca26"
             ],
             [
              1,
              "#f0f921"
             ]
            ],
            "type": "contour"
           }
          ],
          "contourcarpet": [
           {
            "colorbar": {
             "outlinewidth": 0,
             "ticks": ""
            },
            "type": "contourcarpet"
           }
          ],
          "heatmap": [
           {
            "colorbar": {
             "outlinewidth": 0,
             "ticks": ""
            },
            "colorscale": [
             [
              0,
              "#0d0887"
             ],
             [
              0.1111111111111111,
              "#46039f"
             ],
             [
              0.2222222222222222,
              "#7201a8"
             ],
             [
              0.3333333333333333,
              "#9c179e"
             ],
             [
              0.4444444444444444,
              "#bd3786"
             ],
             [
              0.5555555555555556,
              "#d8576b"
             ],
             [
              0.6666666666666666,
              "#ed7953"
             ],
             [
              0.7777777777777778,
              "#fb9f3a"
             ],
             [
              0.8888888888888888,
              "#fdca26"
             ],
             [
              1,
              "#f0f921"
             ]
            ],
            "type": "heatmap"
           }
          ],
          "heatmapgl": [
           {
            "colorbar": {
             "outlinewidth": 0,
             "ticks": ""
            },
            "colorscale": [
             [
              0,
              "#0d0887"
             ],
             [
              0.1111111111111111,
              "#46039f"
             ],
             [
              0.2222222222222222,
              "#7201a8"
             ],
             [
              0.3333333333333333,
              "#9c179e"
             ],
             [
              0.4444444444444444,
              "#bd3786"
             ],
             [
              0.5555555555555556,
              "#d8576b"
             ],
             [
              0.6666666666666666,
              "#ed7953"
             ],
             [
              0.7777777777777778,
              "#fb9f3a"
             ],
             [
              0.8888888888888888,
              "#fdca26"
             ],
             [
              1,
              "#f0f921"
             ]
            ],
            "type": "heatmapgl"
           }
          ],
          "histogram": [
           {
            "marker": {
             "pattern": {
              "fillmode": "overlay",
              "size": 10,
              "solidity": 0.2
             }
            },
            "type": "histogram"
           }
          ],
          "histogram2d": [
           {
            "colorbar": {
             "outlinewidth": 0,
             "ticks": ""
            },
            "colorscale": [
             [
              0,
              "#0d0887"
             ],
             [
              0.1111111111111111,
              "#46039f"
             ],
             [
              0.2222222222222222,
              "#7201a8"
             ],
             [
              0.3333333333333333,
              "#9c179e"
             ],
             [
              0.4444444444444444,
              "#bd3786"
             ],
             [
              0.5555555555555556,
              "#d8576b"
             ],
             [
              0.6666666666666666,
              "#ed7953"
             ],
             [
              0.7777777777777778,
              "#fb9f3a"
             ],
             [
              0.8888888888888888,
              "#fdca26"
             ],
             [
              1,
              "#f0f921"
             ]
            ],
            "type": "histogram2d"
           }
          ],
          "histogram2dcontour": [
           {
            "colorbar": {
             "outlinewidth": 0,
             "ticks": ""
            },
            "colorscale": [
             [
              0,
              "#0d0887"
             ],
             [
              0.1111111111111111,
              "#46039f"
             ],
             [
              0.2222222222222222,
              "#7201a8"
             ],
             [
              0.3333333333333333,
              "#9c179e"
             ],
             [
              0.4444444444444444,
              "#bd3786"
             ],
             [
              0.5555555555555556,
              "#d8576b"
             ],
             [
              0.6666666666666666,
              "#ed7953"
             ],
             [
              0.7777777777777778,
              "#fb9f3a"
             ],
             [
              0.8888888888888888,
              "#fdca26"
             ],
             [
              1,
              "#f0f921"
             ]
            ],
            "type": "histogram2dcontour"
           }
          ],
          "mesh3d": [
           {
            "colorbar": {
             "outlinewidth": 0,
             "ticks": ""
            },
            "type": "mesh3d"
           }
          ],
          "parcoords": [
           {
            "line": {
             "colorbar": {
              "outlinewidth": 0,
              "ticks": ""
             }
            },
            "type": "parcoords"
           }
          ],
          "pie": [
           {
            "automargin": true,
            "type": "pie"
           }
          ],
          "scatter": [
           {
            "fillpattern": {
             "fillmode": "overlay",
             "size": 10,
             "solidity": 0.2
            },
            "type": "scatter"
           }
          ],
          "scatter3d": [
           {
            "line": {
             "colorbar": {
              "outlinewidth": 0,
              "ticks": ""
             }
            },
            "marker": {
             "colorbar": {
              "outlinewidth": 0,
              "ticks": ""
             }
            },
            "type": "scatter3d"
           }
          ],
          "scattercarpet": [
           {
            "marker": {
             "colorbar": {
              "outlinewidth": 0,
              "ticks": ""
             }
            },
            "type": "scattercarpet"
           }
          ],
          "scattergeo": [
           {
            "marker": {
             "colorbar": {
              "outlinewidth": 0,
              "ticks": ""
             }
            },
            "type": "scattergeo"
           }
          ],
          "scattergl": [
           {
            "marker": {
             "colorbar": {
              "outlinewidth": 0,
              "ticks": ""
             }
            },
            "type": "scattergl"
           }
          ],
          "scattermapbox": [
           {
            "marker": {
             "colorbar": {
              "outlinewidth": 0,
              "ticks": ""
             }
            },
            "type": "scattermapbox"
           }
          ],
          "scatterpolar": [
           {
            "marker": {
             "colorbar": {
              "outlinewidth": 0,
              "ticks": ""
             }
            },
            "type": "scatterpolar"
           }
          ],
          "scatterpolargl": [
           {
            "marker": {
             "colorbar": {
              "outlinewidth": 0,
              "ticks": ""
             }
            },
            "type": "scatterpolargl"
           }
          ],
          "scatterternary": [
           {
            "marker": {
             "colorbar": {
              "outlinewidth": 0,
              "ticks": ""
             }
            },
            "type": "scatterternary"
           }
          ],
          "surface": [
           {
            "colorbar": {
             "outlinewidth": 0,
             "ticks": ""
            },
            "colorscale": [
             [
              0,
              "#0d0887"
             ],
             [
              0.1111111111111111,
              "#46039f"
             ],
             [
              0.2222222222222222,
              "#7201a8"
             ],
             [
              0.3333333333333333,
              "#9c179e"
             ],
             [
              0.4444444444444444,
              "#bd3786"
             ],
             [
              0.5555555555555556,
              "#d8576b"
             ],
             [
              0.6666666666666666,
              "#ed7953"
             ],
             [
              0.7777777777777778,
              "#fb9f3a"
             ],
             [
              0.8888888888888888,
              "#fdca26"
             ],
             [
              1,
              "#f0f921"
             ]
            ],
            "type": "surface"
           }
          ],
          "table": [
           {
            "cells": {
             "fill": {
              "color": "#EBF0F8"
             },
             "line": {
              "color": "white"
             }
            },
            "header": {
             "fill": {
              "color": "#C8D4E3"
             },
             "line": {
              "color": "white"
             }
            },
            "type": "table"
           }
          ]
         },
         "layout": {
          "annotationdefaults": {
           "arrowcolor": "#2a3f5f",
           "arrowhead": 0,
           "arrowwidth": 1
          },
          "autotypenumbers": "strict",
          "coloraxis": {
           "colorbar": {
            "outlinewidth": 0,
            "ticks": ""
           }
          },
          "colorscale": {
           "diverging": [
            [
             0,
             "#8e0152"
            ],
            [
             0.1,
             "#c51b7d"
            ],
            [
             0.2,
             "#de77ae"
            ],
            [
             0.3,
             "#f1b6da"
            ],
            [
             0.4,
             "#fde0ef"
            ],
            [
             0.5,
             "#f7f7f7"
            ],
            [
             0.6,
             "#e6f5d0"
            ],
            [
             0.7,
             "#b8e186"
            ],
            [
             0.8,
             "#7fbc41"
            ],
            [
             0.9,
             "#4d9221"
            ],
            [
             1,
             "#276419"
            ]
           ],
           "sequential": [
            [
             0,
             "#0d0887"
            ],
            [
             0.1111111111111111,
             "#46039f"
            ],
            [
             0.2222222222222222,
             "#7201a8"
            ],
            [
             0.3333333333333333,
             "#9c179e"
            ],
            [
             0.4444444444444444,
             "#bd3786"
            ],
            [
             0.5555555555555556,
             "#d8576b"
            ],
            [
             0.6666666666666666,
             "#ed7953"
            ],
            [
             0.7777777777777778,
             "#fb9f3a"
            ],
            [
             0.8888888888888888,
             "#fdca26"
            ],
            [
             1,
             "#f0f921"
            ]
           ],
           "sequentialminus": [
            [
             0,
             "#0d0887"
            ],
            [
             0.1111111111111111,
             "#46039f"
            ],
            [
             0.2222222222222222,
             "#7201a8"
            ],
            [
             0.3333333333333333,
             "#9c179e"
            ],
            [
             0.4444444444444444,
             "#bd3786"
            ],
            [
             0.5555555555555556,
             "#d8576b"
            ],
            [
             0.6666666666666666,
             "#ed7953"
            ],
            [
             0.7777777777777778,
             "#fb9f3a"
            ],
            [
             0.8888888888888888,
             "#fdca26"
            ],
            [
             1,
             "#f0f921"
            ]
           ]
          },
          "colorway": [
           "#636efa",
           "#EF553B",
           "#00cc96",
           "#ab63fa",
           "#FFA15A",
           "#19d3f3",
           "#FF6692",
           "#B6E880",
           "#FF97FF",
           "#FECB52"
          ],
          "font": {
           "color": "#2a3f5f"
          },
          "geo": {
           "bgcolor": "white",
           "lakecolor": "white",
           "landcolor": "#E5ECF6",
           "showlakes": true,
           "showland": true,
           "subunitcolor": "white"
          },
          "hoverlabel": {
           "align": "left"
          },
          "hovermode": "closest",
          "mapbox": {
           "style": "light"
          },
          "paper_bgcolor": "white",
          "plot_bgcolor": "#E5ECF6",
          "polar": {
           "angularaxis": {
            "gridcolor": "white",
            "linecolor": "white",
            "ticks": ""
           },
           "bgcolor": "#E5ECF6",
           "radialaxis": {
            "gridcolor": "white",
            "linecolor": "white",
            "ticks": ""
           }
          },
          "scene": {
           "xaxis": {
            "backgroundcolor": "#E5ECF6",
            "gridcolor": "white",
            "gridwidth": 2,
            "linecolor": "white",
            "showbackground": true,
            "ticks": "",
            "zerolinecolor": "white"
           },
           "yaxis": {
            "backgroundcolor": "#E5ECF6",
            "gridcolor": "white",
            "gridwidth": 2,
            "linecolor": "white",
            "showbackground": true,
            "ticks": "",
            "zerolinecolor": "white"
           },
           "zaxis": {
            "backgroundcolor": "#E5ECF6",
            "gridcolor": "white",
            "gridwidth": 2,
            "linecolor": "white",
            "showbackground": true,
            "ticks": "",
            "zerolinecolor": "white"
           }
          },
          "shapedefaults": {
           "line": {
            "color": "#2a3f5f"
           }
          },
          "ternary": {
           "aaxis": {
            "gridcolor": "white",
            "linecolor": "white",
            "ticks": ""
           },
           "baxis": {
            "gridcolor": "white",
            "linecolor": "white",
            "ticks": ""
           },
           "bgcolor": "#E5ECF6",
           "caxis": {
            "gridcolor": "white",
            "linecolor": "white",
            "ticks": ""
           }
          },
          "title": {
           "x": 0.05
          },
          "xaxis": {
           "automargin": true,
           "gridcolor": "white",
           "linecolor": "white",
           "ticks": "",
           "title": {
            "standoff": 15
           },
           "zerolinecolor": "white",
           "zerolinewidth": 2
          },
          "yaxis": {
           "automargin": true,
           "gridcolor": "white",
           "linecolor": "white",
           "ticks": "",
           "title": {
            "standoff": 15
           },
           "zerolinecolor": "white",
           "zerolinewidth": 2
          }
         }
        },
        "xaxis": {
         "anchor": "y",
         "autorange": true,
         "domain": [
          0,
          1
         ],
         "range": [
          1977.3232931726907,
          2025.6767068273093
         ],
         "title": {
          "text": "Year"
         },
         "type": "linear"
        },
        "yaxis": {
         "anchor": "x",
         "autorange": true,
         "domain": [
          0,
          1
         ],
         "range": [
          -1527.4685039370079,
          22776.46850393701
         ],
         "title": {
          "text": "Automobile_Sales"
         },
         "type": "linear"
        }
       }
      },
      "image/png": "[encoded data removed]",
      "text/html": [
       "<div>                            <div id=\"273bbb2f-b318-4dd6-90ac-aa7dd37a6edf\" class=\"plotly-graph-div\" style=\"height:525px; width:100%;\"></div>            <script type=\"text/javascript\">                require([\"plotly\"], function(Plotly) {                    window.PLOTLYENV=window.PLOTLYENV || {};                                    if (document.getElementById(\"273bbb2f-b318-4dd6-90ac-aa7dd37a6edf\")) {                    Plotly.newPlot(                        \"273bbb2f-b318-4dd6-90ac-aa7dd37a6edf\",                        [{\"hovertemplate\":\"Year=%{x}<br>Automobile_Sales=%{y}<br>Seasonality_Weight=%{marker.color}<extra></extra>\",\"legendgroup\":\"\",\"marker\":{\"color\":[0.5,0.75,0.2,1.0,0.2,0.75,0.5,0.25,0.07,0.0,0.07,0.25,0.5,0.75,0.2,1.0,0.2,0.75,0.5,0.25,0.07,0.0,0.07,0.25,0.5,0.75,0.2,1.0,0.2,0.75,0.5,0.25,0.07,0.0,0.07,0.25,0.5,0.75,0.2,1.0,0.2,0.75,0.5,0.25,0.07,0.0,0.07,0.25,0.5,0.75,0.2,1.0,0.2,0.75,0.5,0.25,0.07,0.0,0.07,0.25,0.5,0.75,0.2,1.0,0.2,0.75,0.5,0.25,0.07,0.0,0.07,0.25,0.5,0.75,0.2,1.0,0.2,0.75,0.5,0.25,0.07,0.0,0.07,0.25,0.5,0.75,0.2,1.0,1.0,0.2,0.75,0.5,0.25,0.07,0.0,0.07,0.25,0.5,0.75,0.2,1.0,0.2,0.75,0.5,0.25,0.07,0.0,0.07,0.25,0.07,0.0,0.07,0.25,0.75,1.5,1.0,1.5,0.75,0.5,0.25,0.07,0.12,0.25,0.34,0.5,0.75,1.5,1.0,1.5,0.75,0.5,0.25,0.07,0.12,0.25,0.34,0.5,0.75,1.5,1.0,1.5,0.75,0.5,0.25,0.07,0.12,0.25,0.34,0.5,0.75,1.5,1.0,1.5,0.75,0.5,0.25,0.07,0.12,0.25,0.34,0.5,0.75,1.5,1.0,1.5,0.75,0.5,0.25,0.07,0.12,0.25,0.34,0.5,0.75,1.5,1.0,1.5,0.75,0.5,0.25,0.07,0.12,0.25,0.34,0.5,0.75,1.5,1.0,1.5,0.75,0.5,0.25,0.07,0.12,0.25,0.34,0.5,1.0,1.5,0.75,0.5,0.25,0.07,0.12,0.25,0.34,0.5,0.75,1.5,1.0,1.5,0.75,0.5,0.25,0.07,0.12,0.25,0.34,0.5,0.75,1.5,1.0,1.5,0.75,0.5,0.25,0.07,0.12,0.25,0.34,0.5,0.75,1.5,1.0,1.5,0.75,0.5,0.25,0.07,0.12,0.25,0.34,0.5,0.75,1.5,1.0,1.5,0.75,0.5,0.25,0.07,0.12,0.25,0.34,0.5,0.75,1.5,1.0,1.5,0.75,0.5,0.25,0.07,0.12,0.25,0.34,0.5,0.75,1.5,1.0,1.5,0.75,0.5,0.25,0.07,0.12,0.25,0.34,0.5,0.75,1.5,1.0,1.5,0.75,0.5,0.25,0.07,0.12,0.25,0.34,0.5,0.75,1.5,1.5,0.75,0.5,0.25,0.07,0.12,0.25,0.34,0.5,0.75,1.5,1.0,1.5,0.75,0.5,0.25,0.07,0.12,0.25,0.34,0.5,0.75,1.5,1.0,1.5,0.75,0.5,0.25,0.07,0.12,0.25,0.34,0.5,0.75,1.5,1.0,1.5,0.75,0.5,0.25,0.07,0.12,0.25,0.34,0.5,0.75,1.5,1.0,1.5,0.75,0.5,0.25,0.07,0.12,0.25,0.34,0.5,0.75,1.5,1.0,1.5,0.75,0.5,0.25,0.07,0.12,0.25,0.34,0.5,0.75,1.5,0.5,0.75,1.5,1.0,1.5,0.75,0.5,0.25,0.07,0.12,0.25,0.34,0.5,0.75,1.5,1.0,1.5,0.75,0.5,0.25,0.07,0.12,0.25,0.34,0.5,0.75,1.5,1.0,1.5,0.75,0.5,0.25,0.07,0.12,0.25,0.34,0.5,0.75,1.5,1.0,1.5,0.75,0.5,0.25,0.07,0.12,0.25,0.34,0.5,0.75,1.5,1.0,1.5,0.75,0.5,0.25,0.07,0.12,0.25,0.34,0.5,0.75,1.5,1.0,1.5,0.75,0.5,0.25,0.07,0.12,0.25,0.34,0.5,0.75,1.5,1.0,1.5,0.75,0.5,0.25,0.07,0.12,0.25,0.34,0.5,0.75,1.5,1.0,1.5,0.75,0.5,0.25,0.07,0.12,0.25,0.34,0.5,0.75,1.5,1.0,1.5,0.75,0.5,0.25,0.07,0.12,0.25,0.34,0.5,0.75,1.5,1.0,1.5,0.75,0.5,0.25,0.07,0.12,0.25,0.34,0.5,0.75,1.5,1.0,1.5,0.75,0.5,0.25,0.5,0.75,1.5,1.0,1.5,0.75,0.5,0.25,0.07,0.12,0.25,0.34,0.5,0.75,1.5,1.0,1.5,0.75,0.5,0.25,0.07,0.12,0.25,0.34,0.5,0.75,1.5,1.0,1.5,0.75,0.5,0.25,0.07,0.12,0.25,0.34],\"coloraxis\":\"coloraxis\",\"symbol\":\"circle\"},\"mode\":\"markers\",\"name\":\"\",\"orientation\":\"v\",\"showlegend\":false,\"x\":[1980,1980,1980,1980,1980,1980,1980,1980,1980,1980,1980,1980,1981,1981,1981,1981,1981,1981,1981,1981,1981,1981,1981,1981,1982,1982,1982,1982,1982,1982,1982,1982,1982,1982,1982,1982,1983,1990,1990,1990,1990,1990,1990,1990,1990,1990,1990,1990,1991,1991,1991,1991,1991,1991,1991,1991,1991,1991,1991,1991,1992,1992,1992,2000,2000,2000,2000,2000,2000,2000,2000,2000,2001,2001,2001,2001,2001,2001,2001,2001,2001,2001,2001,2001,2002,2002,2002,2002,2008,2008,2008,2008,2008,2008,2008,2008,2008,2009,2009,2009,2009,2009,2009,2009,2009,2009,2009,2009,2009,2020,2020,2020,2020,1983,1983,1983,1983,1983,1983,1983,1983,1983,1983,1983,1984,1984,1984,1984,1984,1984,1984,1984,1984,1984,1984,1984,1985,1985,1985,1985,1985,1985,1985,1985,1985,1985,1985,1985,1986,1986,1986,1986,1986,1986,1986,1986,1986,1986,1986,1986,1987,1987,1987,1987,1987,1987,1987,1987,1987,1987,1987,1987,1988,1988,1988,1988,1988,1988,1988,1988,1988,1988,1988,1988,1989,1989,1989,1989,1989,1989,1989,1989,1989,1989,1989,1989,1990,1992,1992,1992,1992,1992,1992,1992,1992,1992,1993,1993,1993,1993,1993,1993,1993,1993,1993,1993,1993,1993,1994,1994,1994,1994,1994,1994,1994,1994,1994,1994,1994,1994,1995,1995,1995,1995,1995,1995,1995,1995,1995,1995,1995,1995,1996,1996,1996,1996,1996,1996,1996,1996,1996,1996,1996,1996,1997,1997,1997,1997,1997,1997,1997,1997,1997,1997,1997,1997,1998,1998,1998,1998,1998,1998,1998,1998,1998,1998,1998,1998,1999,1999,1999,1999,1999,1999,1999,1999,1999,1999,1999,1999,2000,2000,2000,2002,2002,2002,2002,2002,2002,2002,2002,2003,2003,2003,2003,2003,2003,2003,2003,2003,2003,2003,2003,2004,2004,2004,2004,2004,2004,2004,2004,2004,2004,2004,2004,2005,2005,2005,2005,2005,2005,2005,2005,2005,2005,2005,2005,2006,2006,2006,2006,2006,2006,2006,2006,2006,2006,2006,2006,2007,2007,2007,2007,2007,2007,2007,2007,2007,2007,2007,2007,2008,2008,2008,2010,2010,2010,2010,2010,2010,2010,2010,2010,2010,2010,2010,2011,2011,2011,2011,2011,2011,2011,2011,2011,2011,2011,2011,2012,2012,2012,2012,2012,2012,2012,2012,2012,2012,2012,2012,2013,2013,2013,2013,2013,2013,2013,2013,2013,2013,2013,2013,2014,2014,2014,2014,2014,2014,2014,2014,2014,2014,2014,2014,2015,2015,2015,2015,2015,2015,2015,2015,2015,2015,2015,2015,2016,2016,2016,2016,2016,2016,2016,2016,2016,2016,2016,2016,2017,2017,2017,2017,2017,2017,2017,2017,2017,2017,2017,2017,2018,2018,2018,2018,2018,2018,2018,2018,2018,2018,2018,2018,2019,2019,2019,2019,2019,2019,2019,2019,2019,2019,2019,2019,2020,2020,2020,2020,2020,2020,2020,2020,2021,2021,2021,2021,2021,2021,2021,2021,2021,2021,2021,2021,2022,2022,2022,2022,2022,2022,2022,2022,2022,2022,2022,2022,2023,2023,2023,2023,2023,2023,2023,2023,2023,2023,2023,2023],\"xaxis\":\"x\",\"y\":[456.0,555.9,620.0,702.8,770.4,754.5,729.6,734.9,705.6,609.7,763.0,745.0,325.0,574.3,654.0,657.1,752.9,677.6,638.2,779.5,574.2,648.1,558.0,762.0,466.0,614.4,751.4,617.3,763.9,726.7,738.8,552.3,776.2,720.2,102.0,744.6,589.0,754.8,574.7,714.8,676.1,570.9,605.3,550.9,659.1,619.4,689.8,723.0,619.1,724.1,559.4,564.0,750.0,706.3,688.6,759.5,591.9,566.7,604.8,736.3,556.2,686.1,783.9,750.8,671.6,563.1,745.0,690.0,575.2,570.2,195.0,706.6,744.5,756.3,683.5,670.6,650.0,623.1,651.0,731.4,690.7,759.5,653.1,691.9,697.6,688.2,714.5,604.3,669.4,572.7,639.1,663.6,702.6,773.3,690.4,724.2,668.0,698.3,564.8,608.3,633.8,660.0,558.8,581.2,613.6,778.3,626.5,662.2,594.5,692.8,214.0,597.1,670.4,3799.1,3533.5,3240.4,908.1,4769.8,426.5,4120.2,4199.6,4686.4,2962.9,1436.7,3284.7,3844.2,3822.1,2514.0,851.8,2194.6,4633.4,3141.2,2936.6,1740.9,2182.8,4520.7,3505.1,4041.6,2563.9,2861.0,3336.3,3678.1,2445.3,2511.6,3429.0,4702.3,832.0,4207.4,1845.3,2517.7,645.2,1345.2,2778.2,797.3,2727.0,4661.6,1015.6,3939.8,2365.7,3455.0,1702.7,1255.7,1260.0,860.8,1883.7,3495.1,4460.1,4160.3,3587.9,1038.0,1831.1,1922.6,1657.1,2833.1,2924.3,2131.5,3663.4,4224.3,4050.1,1913.7,4602.5,4775.6,1997.8,2120.6,2791.5,4723.8,4436.2,1003.1,2290.5,3003.3,2780.4,1408.2,4358.6,3551.6,4265.8,4358.3,3868.5,804.6,3257.0,1259.5,3537.0,1343.3,3627.1,1566.7,1069.6,1281.4,556.8,3737.0,3797.7,2832.8,1264.0,918.7,632.9,1283.4,4500.7,1619.7,2119.9,1015.4,1534.6,2851.8,3244.6,1636.6,2496.8,2283.0,1587.2,1522.2,4806.9,3282.5,3018.9,2392.8,2451.2,2948.0,3638.1,21147.0,1309.8,2767.0,2375.9,4410.5,3349.6,2910.7,1060.0,3235.2,1068.0,2044.2,1181.8,3618.7,1463.1,2286.7,4522.1,1454.6,2801.1,2408.3,628.4,4065.5,854.4,2652.3,3035.7,1650.1,3603.5,1671.8,592.3,3757.9,2924.7,4257.9,4192.5,4289.8,2700.4,2028.3,4060.1,2550.4,1361.9,4341.5,4463.9,2617.0,883.9,2268.8,4113.3,4549.2,1450.8,845.2,4440.8,2275.8,2951.8,4843.3,843.3,3424.6,876.8,2214.0,4114.5,2471.3,4972.5,3028.5,1973.0,1524.6,2103.3,2200.9,852.9,2187.8,2607.8,3754.8,3461.9,3692.8,585.1,3483.9,1513.4,2695.5,571.6,4117.5,3977.0,2981.3,842.9,3949.0,3137.9,4017.6,3883.5,4110.9,2846.4,1170.6,3525.9,3301.0,3841.4,1301.8,1413.1,4498.7,3875.7,4577.8,3914.4,3197.6,3450.4,4493.1,3116.2,3353.9,1242.3,2650.8,3726.7,1750.2,1445.4,1940.4,1619.5,1501.6,2433.1,4576.1,2797.8,1381.8,889.5,3636.8,2246.5,4194.5,3474.2,4080.9,1754.6,3620.0,1719.6,4714.6,3371.6,1987.9,1743.8,1395.1,3630.1,1518.4,3189.4,1722.2,3485.2,4163.9,4000.1,3923.9,1380.9,940.2,3649.2,2182.4,2466.3,686.2,1699.7,697.4,4448.9,1628.0,3020.9,721.0,3506.8,1981.3,4532.1,4488.6,1991.3,4545.6,4968.0,4210.4,4296.7,1652.9,3106.8,846.4,969.2,4423.5,1997.3,3867.7,4127.2,4355.0,4974.5,1619.5,727.0,2372.5,1125.2,647.5,2147.2,4025.4,3060.1,1935.8,3451.3,1577.5,611.8,3939.4,3315.5,3930.3,720.8,4262.3,3296.8,3047.8,3319.4,4383.5,3152.2,3125.7,4943.6,3905.6,2510.5,3686.7,2275.0,1563.5,3196.2,4666.3,4670.6,2065.0,2889.3,1487.0,4965.6,4901.2,3429.9,4117.2,3720.9,3179.8,985.14,2565.8,1420.6,3554.2,2203.5,4726.3,1290.6,2768.1,3613.5,3641.2,3426.0,1769.5,1241.1,3369.7,3207.1,1343.8,3676.7,2567.6,3510.9,4263.4,1301.1,632.9,4004.9,3253.2,3652.3,4266.9,4110.1,4811.6,2925.9,2715.5,2331.2,1229.9,3088.7,1777.1,4635.8,3135.6,3178.4,2122.8,778.7,688.8,2426.3,923.2,3240.6,4456.9,4465.5,3472.2,1485.2,4377.1,4479.6,1024.5,3820.0,1819.3,4109.3,4972.7,681.2,4529.6,3310.6,4866.9,2611.2,4307.9,824.8,2035.6,845.4,4875.6,4172.9,4330.8,4709.8,925.6,2258.9,863.2,1483.3,1565.7,2629.4,1739.6,996.0,1291.2,1201.5,4865.5,3917.0,4842.0,2499.1,1783.1,4090.0,1995.6,1876.4,1579.6,1123.4,1685.9,2124.6,3538.5],\"yaxis\":\"y\",\"type\":\"scatter\"}],                        {\"template\":{\"data\":{\"histogram2dcontour\":[{\"type\":\"histogram2dcontour\",\"colorbar\":{\"outlinewidth\":0,\"ticks\":\"\"},\"colorscale\":[[0.0,\"#0d0887\"],[0.1111111111111111,\"#46039f\"],[0.2222222222222222,\"#7201a8\"],[0.3333333333333333,\"#9c179e\"],[0.4444444444444444,\"#bd3786\"],[0.5555555555555556,\"#d8576b\"],[0.6666666666666666,\"#ed7953\"],[0.7777777777777778,\"#fb9f3a\"],[0.8888888888888888,\"#fdca26\"],[1.0,\"#f0f921\"]]}],\"choropleth\":[{\"type\":\"choropleth\",\"colorbar\":{\"outlinewidth\":0,\"ticks\":\"\"}}],\"histogram2d\":[{\"type\":\"histogram2d\",\"colorbar\":{\"outlinewidth\":0,\"ticks\":\"\"},\"colorscale\":[[0.0,\"#0d0887\"],[0.1111111111111111,\"#46039f\"],[0.2222222222222222,\"#7201a8\"],[0.3333333333333333,\"#9c179e\"],[0.4444444444444444,\"#bd3786\"],[0.5555555555555556,\"#d8576b\"],[0.6666666666666666,\"#ed7953\"],[0.7777777777777778,\"#fb9f3a\"],[0.8888888888888888,\"#fdca26\"],[1.0,\"#f0f921\"]]}],\"heatmap\":[{\"type\":\"heatmap\",\"colorbar\":{\"outlinewidth\":0,\"ticks\":\"\"},\"colorscale\":[[0.0,\"#0d0887\"],[0.1111111111111111,\"#46039f\"],[0.2222222222222222,\"#7201a8\"],[0.3333333333333333,\"#9c179e\"],[0.4444444444444444,\"#bd3786\"],[0.5555555555555556,\"#d8576b\"],[0.6666666666666666,\"#ed7953\"],[0.7777777777777778,\"#fb9f3a\"],[0.8888888888888888,\"#fdca26\"],[1.0,\"#f0f921\"]]}],\"heatmapgl\":[{\"type\":\"heatmapgl\",\"colorbar\":{\"outlinewidth\":0,\"ticks\":\"\"},\"colorscale\":[[0.0,\"#0d0887\"],[0.1111111111111111,\"#46039f\"],[0.2222222222222222,\"#7201a8\"],[0.3333333333333333,\"#9c179e\"],[0.4444444444444444,\"#bd3786\"],[0.5555555555555556,\"#d8576b\"],[0.6666666666666666,\"#ed7953\"],[0.7777777777777778,\"#fb9f3a\"],[0.8888888888888888,\"#fdca26\"],[1.0,\"#f0f921\"]]}],\"contourcarpet\":[{\"type\":\"contourcarpet\",\"colorbar\":{\"outlinewidth\":0,\"ticks\":\"\"}}],\"contour\":[{\"type\":\"contour\",\"colorbar\":{\"outlinewidth\":0,\"ticks\":\"\"},\"colorscale\":[[0.0,\"#0d0887\"],[0.1111111111111111,\"#46039f\"],[0.2222222222222222,\"#7201a8\"],[0.3333333333333333,\"#9c179e\"],[0.4444444444444444,\"#bd3786\"],[0.5555555555555556,\"#d8576b\"],[0.6666666666666666,\"#ed7953\"],[0.7777777777777778,\"#fb9f3a\"],[0.8888888888888888,\"#fdca26\"],[1.0,\"#f0f921\"]]}],\"surface\":[{\"type\":\"surface\",\"colorbar\":{\"outlinewidth\":0,\"ticks\":\"\"},\"colorscale\":[[0.0,\"#0d0887\"],[0.1111111111111111,\"#46039f\"],[0.2222222222222222,\"#7201a8\"],[0.3333333333333333,\"#9c179e\"],[0.4444444444444444,\"#bd3786\"],[0.5555555555555556,\"#d8576b\"],[0.6666666666666666,\"#ed7953\"],[0.7777777777777778,\"#fb9f3a\"],[0.8888888888888888,\"#fdca26\"],[1.0,\"#f0f921\"]]}],\"mesh3d\":[{\"type\":\"mesh3d\",\"colorbar\":{\"outlinewidth\":0,\"ticks\":\"\"}}],\"scatter\":[{\"fillpattern\":{\"fillmode\":\"overlay\",\"size\":10,\"solidity\":0.2},\"type\":\"scatter\"}],\"parcoords\":[{\"type\":\"parcoords\",\"line\":{\"colorbar\":{\"outlinewidth\":0,\"ticks\":\"\"}}}],\"scatterpolargl\":[{\"type\":\"scatterpolargl\",\"marker\":{\"colorbar\":{\"outlinewidth\":0,\"ticks\":\"\"}}}],\"bar\":[{\"error_x\":{\"color\":\"#2a3f5f\"},\"error_y\":{\"color\":\"#2a3f5f\"},\"marker\":{\"line\":{\"color\":\"#E5ECF6\",\"width\":0.5},\"pattern\":{\"fillmode\":\"overlay\",\"size\":10,\"solidity\":0.2}},\"type\":\"bar\"}],\"scattergeo\":[{\"type\":\"scattergeo\",\"marker\":{\"colorbar\":{\"outlinewidth\":0,\"ticks\":\"\"}}}],\"scatterpolar\":[{\"type\":\"scatterpolar\",\"marker\":{\"colorbar\":{\"outlinewidth\":0,\"ticks\":\"\"}}}],\"histogram\":[{\"marker\":{\"pattern\":{\"fillmode\":\"overlay\",\"size\":10,\"solidity\":0.2}},\"type\":\"histogram\"}],\"scattergl\":[{\"type\":\"scattergl\",\"marker\":{\"colorbar\":{\"outlinewidth\":0,\"ticks\":\"\"}}}],\"scatter3d\":[{\"type\":\"scatter3d\",\"line\":{\"colorbar\":{\"outlinewidth\":0,\"ticks\":\"\"}},\"marker\":{\"colorbar\":{\"outlinewidth\":0,\"ticks\":\"\"}}}],\"scattermapbox\":[{\"type\":\"scattermapbox\",\"marker\":{\"colorbar\":{\"outlinewidth\":0,\"ticks\":\"\"}}}],\"scatterternary\":[{\"type\":\"scatterternary\",\"marker\":{\"colorbar\":{\"outlinewidth\":0,\"ticks\":\"\"}}}],\"scattercarpet\":[{\"type\":\"scattercarpet\",\"marker\":{\"colorbar\":{\"outlinewidth\":0,\"ticks\":\"\"}}}],\"carpet\":[{\"aaxis\":{\"endlinecolor\":\"#2a3f5f\",\"gridcolor\":\"white\",\"linecolor\":\"white\",\"minorgridcolor\":\"white\",\"startlinecolor\":\"#2a3f5f\"},\"baxis\":{\"endlinecolor\":\"#2a3f5f\",\"gridcolor\":\"white\",\"linecolor\":\"white\",\"minorgridcolor\":\"white\",\"startlinecolor\":\"#2a3f5f\"},\"type\":\"carpet\"}],\"table\":[{\"cells\":{\"fill\":{\"color\":\"#EBF0F8\"},\"line\":{\"color\":\"white\"}},\"header\":{\"fill\":{\"color\":\"#C8D4E3\"},\"line\":{\"color\":\"white\"}},\"type\":\"table\"}],\"barpolar\":[{\"marker\":{\"line\":{\"color\":\"#E5ECF6\",\"width\":0.5},\"pattern\":{\"fillmode\":\"overlay\",\"size\":10,\"solidity\":0.2}},\"type\":\"barpolar\"}],\"pie\":[{\"automargin\":true,\"type\":\"pie\"}]},\"layout\":{\"autotypenumbers\":\"strict\",\"colorway\":[\"#636efa\",\"#EF553B\",\"#00cc96\",\"#ab63fa\",\"#FFA15A\",\"#19d3f3\",\"#FF6692\",\"#B6E880\",\"#FF97FF\",\"#FECB52\"],\"font\":{\"color\":\"#2a3f5f\"},\"hovermode\":\"closest\",\"hoverlabel\":{\"align\":\"left\"},\"paper_bgcolor\":\"white\",\"plot_bgcolor\":\"#E5ECF6\",\"polar\":{\"bgcolor\":\"#E5ECF6\",\"angularaxis\":{\"gridcolor\":\"white\",\"linecolor\":\"white\",\"ticks\":\"\"},\"radialaxis\":{\"gridcolor\":\"white\",\"linecolor\":\"white\",\"ticks\":\"\"}},\"ternary\":{\"bgcolor\":\"#E5ECF6\",\"aaxis\":{\"gridcolor\":\"white\",\"linecolor\":\"white\",\"ticks\":\"\"},\"baxis\":{\"gridcolor\":\"white\",\"linecolor\":\"white\",\"ticks\":\"\"},\"caxis\":{\"gridcolor\":\"white\",\"linecolor\":\"white\",\"ticks\":\"\"}},\"coloraxis\":{\"colorbar\":{\"outlinewidth\":0,\"ticks\":\"\"}},\"colorscale\":{\"sequential\":[[0.0,\"#0d0887\"],[0.1111111111111111,\"#46039f\"],[0.2222222222222222,\"#7201a8\"],[0.3333333333333333,\"#9c179e\"],[0.4444444444444444,\"#bd3786\"],[0.5555555555555556,\"#d8576b\"],[0.6666666666666666,\"#ed7953\"],[0.7777777777777778,\"#fb9f3a\"],[0.8888888888888888,\"#fdca26\"],[1.0,\"#f0f921\"]],\"sequentialminus\":[[0.0,\"#0d0887\"],[0.1111111111111111,\"#46039f\"],[0.2222222222222222,\"#7201a8\"],[0.3333333333333333,\"#9c179e\"],[0.4444444444444444,\"#bd3786\"],[0.5555555555555556,\"#d8576b\"],[0.6666666666666666,\"#ed7953\"],[0.7777777777777778,\"#fb9f3a\"],[0.8888888888888888,\"#fdca26\"],[1.0,\"#f0f921\"]],\"diverging\":[[0,\"#8e0152\"],[0.1,\"#c51b7d\"],[0.2,\"#de77ae\"],[0.3,\"#f1b6da\"],[0.4,\"#fde0ef\"],[0.5,\"#f7f7f7\"],[0.6,\"#e6f5d0\"],[0.7,\"#b8e186\"],[0.8,\"#7fbc41\"],[0.9,\"#4d9221\"],[1,\"#276419\"]]},\"xaxis\":{\"gridcolor\":\"white\",\"linecolor\":\"white\",\"ticks\":\"\",\"title\":{\"standoff\":15},\"zerolinecolor\":\"white\",\"automargin\":true,\"zerolinewidth\":2},\"yaxis\":{\"gridcolor\":\"white\",\"linecolor\":\"white\",\"ticks\":\"\",\"title\":{\"standoff\":15},\"zerolinecolor\":\"white\",\"automargin\":true,\"zerolinewidth\":2},\"scene\":{\"xaxis\":{\"backgroundcolor\":\"#E5ECF6\",\"gridcolor\":\"white\",\"linecolor\":\"white\",\"showbackground\":true,\"ticks\":\"\",\"zerolinecolor\":\"white\",\"gridwidth\":2},\"yaxis\":{\"backgroundcolor\":\"#E5ECF6\",\"gridcolor\":\"white\",\"linecolor\":\"white\",\"showbackground\":true,\"ticks\":\"\",\"zerolinecolor\":\"white\",\"gridwidth\":2},\"zaxis\":{\"backgroundcolor\":\"#E5ECF6\",\"gridcolor\":\"white\",\"linecolor\":\"white\",\"showbackground\":true,\"ticks\":\"\",\"zerolinecolor\":\"white\",\"gridwidth\":2}},\"shapedefaults\":{\"line\":{\"color\":\"#2a3f5f\"}},\"annotationdefaults\":{\"arrowcolor\":\"#2a3f5f\",\"arrowhead\":0,\"arrowwidth\":1},\"geo\":{\"bgcolor\":\"white\",\"landcolor\":\"#E5ECF6\",\"subunitcolor\":\"white\",\"showland\":true,\"showlakes\":true,\"lakecolor\":\"white\"},\"title\":{\"x\":0.05},\"mapbox\":{\"style\":\"light\"}}},\"xaxis\":{\"anchor\":\"y\",\"domain\":[0.0,1.0],\"title\":{\"text\":\"Year\"}},\"yaxis\":{\"anchor\":\"x\",\"domain\":[0.0,1.0],\"title\":{\"text\":\"Automobile_Sales\"}},\"coloraxis\":{\"colorbar\":{\"title\":{\"text\":\"Seasonality_Weight\"}},\"colorscale\":[[0.0,\"#0d0887\"],[0.1111111111111111,\"#46039f\"],[0.2222222222222222,\"#7201a8\"],[0.3333333333333333,\"#9c179e\"],[0.4444444444444444,\"#bd3786\"],[0.5555555555555556,\"#d8576b\"],[0.6666666666666666,\"#ed7953\"],[0.7777777777777778,\"#fb9f3a\"],[0.8888888888888888,\"#fdca26\"],[1.0,\"#f0f921\"]]},\"legend\":{\"tracegroupgap\":0},\"margin\":{\"t\":60}},                        {\"responsive\": true}                    ).then(function(){\n",
       "                            \n",
       "var gd = document.getElementById('273bbb2f-b318-4dd6-90ac-aa7dd37a6edf');\n",
       "var x = new MutationObserver(function (mutations, observer) {{\n",
       "        var display = window.getComputedStyle(gd).display;\n",
       "        if (!display || display === 'none') {{\n",
       "            console.log([gd, 'removed!']);\n",
       "            Plotly.purge(gd);\n",
       "            observer.disconnect();\n",
       "        }}\n",
       "}});\n",
       "\n",
       "// Listen for the removal of the full notebook cells\n",
       "var notebookContainer = gd.closest('#notebook-container');\n",
       "if (notebookContainer) {{\n",
       "    x.observe(notebookContainer, {childList: true});\n",
       "}}\n",
       "\n",
       "// Listen for the clearing of the current output cell\n",
       "var outputEl = gd.closest('.output');\n",
       "if (outputEl) {{\n",
       "    x.observe(outputEl, {childList: true});\n",
       "}}\n",
       "\n",
       "                        })                };                });            </script>        </div>"
      ]
     },
     "metadata": {},
     "output_type": "display_data"
    }
   ],
   "source": [
    "px.scatter(df,x='Year',y='Automobile_Sales',color='Seasonality_Weight')"
   ]
  },
  {
   "cell_type": "code",
   "execution_count": 12,
   "id": "11116191-4ef3-42d5-ac6e-5e0cd2c2d23f",
   "metadata": {},
   "outputs": [],
   "source": [
    "corre = df[['Year','Automobile_Sales','Price','Recession']].query('Recession == 1')\n",
    "corr = corre.groupby('Year')['Automobile_Sales'].sum()\n",
    "cor = corre.groupby('Year')['Price'].mean()\n",
    "corre_plot = pd.DataFrame({'Automobile_Sales':corr,'Average_Price':cor})"
   ]
  },
  {
   "cell_type": "code",
   "execution_count": 13,
   "id": "6df4df95-2b76-4268-8f66-1052fc156217",
   "metadata": {
    "tags": []
   },
   "outputs": [
    {
     "data": {
      "image/png": "[encoded data removed]",
      "text/plain": [
       "<Figure size 1000x600 with 1 Axes>"
      ]
     },
     "metadata": {},
     "output_type": "display_data"
    }
   ],
   "source": [
    "plt.figure(figsize=(10,6))\n",
    "plt.scatter(y=corre_plot['Automobile_Sales'],x=corre_plot['Average_Price'],color='Blue',alpha=0.5)\n",
    "trend=np.polyfit(corre_plot['Average_Price'],corre_plot['Automobile_Sales'],1)\n",
    "line = np.poly1d(trend)\n",
    "plt.plot(corre_plot['Average_Price'], line(corre_plot['Average_Price']),'r--')\n",
    "plt.grid(True)"
   ]
  },
  {
   "cell_type": "code",
   "execution_count": 14,
   "id": "0ffc1bba-3535-4fe5-b1e6-71b9b8d407c5",
   "metadata": {
    "tags": []
   },
   "outputs": [
    {
     "data": {
      "text/plain": [
       "Text(0, 0.5, '')"
      ]
     },
     "execution_count": 14,
     "metadata": {},
     "output_type": "execute_result"
    },
    {
     "data": {
      "image/png": "[encoded data removed]",
      "text/plain": [
       "<Figure size 600x600 with 1 Axes>"
      ]
     },
     "metadata": {},
     "output_type": "display_data"
    }
   ],
   "source": [
    "pie = df.query('Recession == 1')['Advertising_Expenditure'].sum()\n",
    "piee = df.query('Recession == 0')['Advertising_Expenditure'].sum()\n",
    "data = {'Ad_Re1':pie,'Ad_Re0':piee}\n",
    "pies= pd.Series(data)\n",
    "plt.figure(figsize=(6,6))\n",
    "pies.plot.pie(autopct='%1.1f%%',colors=['red','green'],labels=['During Recession','Non Recession'],startangle=15)\n",
    "plt.title('Advertising on Recession And Non Recession Period')\n",
    "plt.ylabel('')"
   ]
  },
  {
   "cell_type": "code",
   "execution_count": 15,
   "id": "f92b82c2-3d37-4546-b332-b5a416337f60",
   "metadata": {
    "tags": []
   },
   "outputs": [
    {
     "data": {
      "text/plain": [
       "Text(0, 0.5, '')"
      ]
     },
     "execution_count": 15,
     "metadata": {},
     "output_type": "execute_result"
    },
    {
     "data": {
      "image/png": "[encoded data removed]",
      "text/plain": [
       "<Figure size 600x600 with 1 Axes>"
      ]
     },
     "metadata": {},
     "output_type": "display_data"
    }
   ],
   "source": [
    "piees1 = df.query('Recession == 1 and Vehicle_Type == \"Supperminicar\"')['Advertising_Expenditure'].sum()\n",
    "piees2 = df.query('Recession == 1 and Vehicle_Type == \"Mediumfamilycar\"')['Advertising_Expenditure'].sum()\n",
    "piees3 = df.query('Recession == 1 and Vehicle_Type == \"Smallfamiliycar\"')['Advertising_Expenditure'].sum()\n",
    "piees4 = df.query('Recession == 1 and Vehicle_Type == \"Sports\"')['Advertising_Expenditure'].sum()\n",
    "piees5 = df.query('Recession == 1 and Vehicle_Type == \"Executivecar\"')['Advertising_Expenditure'].sum()\n",
    "\n",
    "plo = {'Supperminicar':piees1,'Mediumfamilycar':piees2,'Smallfamilycar':piees3,'Sportscar':piees4,'Executivecar':piees5}\n",
    "ploy = pd.Series(plo)\n",
    "\n",
    "plt.figure(figsize=(6,6))\n",
    "ploy.plot.pie(autopct='%1.1f%%',colors=['red','green','blue','yellow','pink'],startangle=15)\n",
    "plt.title('Advertising on Each Vehicle Type During Recession')\n",
    "plt.ylabel('')"
   ]
  },
  {
   "cell_type": "code",
   "execution_count": 16,
   "id": "bbec7d78-aa09-4534-b418-146694fa54e9",
   "metadata": {
    "tags": []
   },
   "outputs": [],
   "source": [
    "wdata = df.query('Recession == 1')\n",
    "data1 = wdata.query('Vehicle_Type == \"Supperminicar\"')[['unemployment_rate','Automobile_Sales','Year']]\n",
    "data2 = wdata.query('Vehicle_Type == \"Mediumfamilycar\"')[['unemployment_rate','Automobile_Sales','Year']]\n",
    "data3 = wdata.query('Vehicle_Type == \"Smallfamiliycar\"')[['unemployment_rate','Automobile_Sales','Year']]\n",
    "data4 = wdata.query('Vehicle_Type == \"Sports\"')[['unemployment_rate','Automobile_Sales','Year']]\n",
    "data5 = wdata.query('Vehicle_Type == \"Executivecar\"')[['unemployment_rate','Automobile_Sales','Year']]"
   ]
  },
  {
   "cell_type": "code",
   "execution_count": 18,
   "id": "21cbbb64-fd31-4abb-aa16-e3d259b1dca8",
   "metadata": {
    "tags": []
   },
   "outputs": [],
   "source": [
    "dat1 = data1.groupby('Year')[['unemployment_rate','Automobile_Sales']].sum()\n",
    "dat2 = data2.groupby('Year')[['unemployment_rate','Automobile_Sales']].sum()\n",
    "dat3 = data3.groupby('Year')[['unemployment_rate','Automobile_Sales']].sum()\n",
    "dat4 = data4.groupby('Year')[['unemployment_rate','Automobile_Sales']].sum()\n",
    "dat5 = data5.groupby('Year')[['unemployment_rate','Automobile_Sales']].sum()"
   ]
  },
  {
   "cell_type": "code",
   "execution_count": 60,
   "id": "5fbe1502-0b59-47bc-a0ce-ffd4a37370b9",
   "metadata": {
    "tags": []
   },
   "outputs": [
    {
     "data": {
      "text/plain": [
       "<Axes: xlabel='Year', ylabel='Automobile_Sales'>"
      ]
     },
     "execution_count": 60,
     "metadata": {},
     "output_type": "execute_result"
    },
    {
     "data": {
      "image/png": "[encoded data removed]",
      "text/plain": [
       "<Figure size 640x480 with 1 Axes>"
      ]
     },
     "metadata": {},
     "output_type": "display_data"
    }
   ],
   "source": [
    "res_data = df[df['Recession']==1]\n",
    "sns.lineplot(res_data,x='Year',y='Automobile_Sales',hue='Vehicle_Type',style='Vehicle_Type')"
   ]
  },
  {
   "cell_type": "code",
   "execution_count": 81,
   "id": "5f2a6ac3-e510-4a72-9b0c-117736f2f50c",
   "metadata": {
    "tags": []
   },
   "outputs": [],
   "source": [
    "dat = df[['Year','Automobile_Sales','Recession']].groupby(['Year','Recession'])['Automobile_Sales'].sum().reset_index()\n",
    "da = df[['Year','Automobile_Sales','Recession','Vehicle_Type']].groupby(['Year','Recession','Vehicle_Type'])['Price'].sum().reset_index()\n",
    "nomonths = df[['Year','Automobile_Sales']].groupby('Year')['Automobile_Sales'].sum"
   ]
  },
  {
   "cell_type": "code",
   "execution_count": 147,
   "id": "7f5c3741-3349-4713-8e89-70805ba230b0",
   "metadata": {
    "tags": []
   },
   "outputs": [
    {
     "name": "stdout",
     "output_type": "stream",
     "text": [
      "---------------------------------------------------------------------------\n",
      "NoLayoutException                         Traceback (most recent call last)\n",
      "NoLayoutException: The layout was `None` at the time that `run_server` was called.\n",
      "Make sure to set the `layout` attribute of your application\n",
      "before running the server.\n",
      "\n"
     ]
    },
    {
     "data": {
      "text/html": [
       "\n",
       "        <iframe\n",
       "            width=\"100%\"\n",
       "            height=\"650\"\n",
       "            src=\"http://127.0.0.1:8050/\"\n",
       "            frameborder=\"0\"\n",
       "            allowfullscreen\n",
       "            \n",
       "        ></iframe>\n",
       "        "
      ],
      "text/plain": [
       "<IPython.lib.display.IFrame at 0x240d4cca910>"
      ]
     },
     "metadata": {},
     "output_type": "display_data"
    }
   ],
   "source": [
    "from dash import Dash,dcc,html,callback,Input,Output,dash_table\n",
    "app = Dash(__name__)\n",
    "app.layout=html.Div([\n",
    "    html.H1('Data Visualization Project',style={'textAlign':\"center\"}),\n",
    "    \n",
    "    html.Div([\n",
    "        html.Label('Recession Period Statistics'),\n",
    "        dcc.Dropdown(\n",
    "        id='Recession-Period',\n",
    "        options=[{'label':\"Recession\",'value':1},{'label':'Non-Recession','value':0}],\n",
    "        value=0\n",
    "        )\n",
    "        ],style={'width': '40%', 'display': 'inline-block', 'verticalAlign': 'top'}), \n",
    "    \n",
    "    html.Div([\n",
    "        html.Label('Yealry Report Statistics'),\n",
    "        dcc.Dropdown(\n",
    "        id='Yearly-Report',\n",
    "        options=[{'label': str(year), 'value': year} for year in df['Year'].unique()],\n",
    "        value=df['Year'].min()\n",
    "        )\n",
    "        ],style={'width': '55%', 'display': 'inline-block', 'verticalAlign': 'top'}), \n",
    "    \n",
    "        html.Div(id='output-graph',className='output-div',children=[\n",
    "            dcc.Graph(id='Recession-Graph'),\n",
    "            dcc.Graph(id='Yearly-Graph')\n",
    "        ], style={'display': 'flex', 'flexDirection': 'row'})\n",
    "    \n",
    "])\n",
    "\n",
    "@app.callback(\n",
    "    Output('Recession-Graph','figure'),\n",
    "    Input('Recession-Period','value')\n",
    ")\n",
    "\n",
    "def update_graph(selected_period):\n",
    "    data = dat[dat['Recession'] == selected_period]\n",
    "    fig = px.line(data,x='Year',y='Automobile_Sales')\n",
    "    fig.update_layout(height=225,width=350)\n",
    "    return fig\n",
    "\n",
    "@app.callback(\n",
    "    Output('Yearly-Graph', 'figure'),\n",
    "    Input('Yearly-Report', 'value')\n",
    ")\n",
    "def update_price_graph(selected_year):\n",
    "    datas = df[df['Year'] == selected_year]\n",
    "    figs = px.line(datas, y='Month', x='Automobile_Sales',color='Vehicle_Type', title='Sales Per Year')\n",
    "    figs.update_layout(height=360,width=600)\n",
    "    return figs\n",
    "\n",
    "app.run_server(mode='external',debug=True)\n"
   ]
  },
  {
   "cell_type": "code",
   "execution_count": null,
   "id": "8598d442-7fcc-4e40-9e69-198f9952847b",
   "metadata": {},
   "outputs": [],
   "source": []
  }
 ],
 "metadata": {
  "kernelspec": {
   "display_name": "Python 3 (ipykernel)",
   "language": "python",
   "name": "python3"
  },
  "language_info": {
   "codemirror_mode": {
    "name": "ipython",
    "version": 3
   },
   "file_extension": ".py",
   "mimetype": "text/x-python",
   "name": "python",
   "nbconvert_exporter": "python",
   "pygments_lexer": "ipython3",
   "version": "3.11.5"
  }
 },
 "nbformat": 4,
 "nbformat_minor": 5
}
