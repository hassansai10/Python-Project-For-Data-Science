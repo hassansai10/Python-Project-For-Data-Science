{
 "cells": [
  {
   "cell_type": "code",
   "execution_count": 1,
   "id": "d45f886c-e19b-4bd3-9a9d-02d06b634641",
   "metadata": {
    "tags": []
   },
   "outputs": [
    {
     "name": "stdout",
     "output_type": "stream",
     "text": [
      "F_Name    object\n",
      "L_Name    object\n",
      "Age       object\n",
      "City      object\n",
      "Count     object\n",
      "dtype: object\n"
     ]
    }
   ],
   "source": [
    "import pandas as pd\n",
    "import csv,sqlite3\n",
    "df = pd.DataFrame({'F_Name': ['Juan', 'Victoria', 'Mary','Joseph','Ethan','Hary','John','Pewds'],\n",
    "                   'L_Name': ['Hou','Eldson','Wong','Mark','Huang','Poter','Deph','Di'],\n",
    "                  'Age': ['23','34','43','26','32','28','41','25'], \n",
    "                  'City': ['Miami', 'Buenos Aires','Santiago','Whales','Karachi','Kolkatta','Mumbai','Han Dong'],\n",
    "                  'Count': ['CN','UK','CN','US','PK','IN','IN','CN']})\n",
    "print (df.dtypes)\n"
   ]
  },
  {
   "cell_type": "code",
   "execution_count": 2,
   "id": "262cfa17-ea1f-49c0-ae20-719e750c6665",
   "metadata": {
    "tags": []
   },
   "outputs": [],
   "source": [
    "df['Age'] = pd.to_numeric(df['Age'])"
   ]
  },
  {
   "cell_type": "code",
   "execution_count": 3,
   "id": "28a705da-5669-4b91-850b-93d8ba8c1c26",
   "metadata": {},
   "outputs": [
    {
     "name": "stdout",
     "output_type": "stream",
     "text": [
      "     F_Name  Age          City\n",
      "1  Victoria   34  Buenos Aires\n",
      "2      Mary   43      Santiago\n",
      "3    Joseph   26        Whales\n",
      "4     Ethan   32       Karachi\n",
      "5      Hary   28      Kolkatta\n",
      "6      John   41        Mumbai\n"
     ]
    }
   ],
   "source": [
    "age_morethan_25 = df.loc[df['Age'] > 25, ['F_Name','Age','City']]\n",
    "\n",
    "print (age_morethan_25)"
   ]
  },
  {
   "cell_type": "code",
   "execution_count": 4,
   "id": "f9458c7a-da9c-4036-a746-b2d98832d28e",
   "metadata": {},
   "outputs": [],
   "source": [
    "data1 = pd.read_excel(\"ESD.xlsx\")"
   ]
  },
  {
   "cell_type": "code",
   "execution_count": 5,
   "id": "e211307e-c116-4182-85a9-d64acb298f01",
   "metadata": {},
   "outputs": [
    {
     "name": "stdout",
     "output_type": "stream",
     "text": [
      "       EEID        Full Name                 Job Title  Department  \\\n",
      "0    E02387      Emily Davis                Sr. Manger          IT   \n",
      "1    E04105    Theodore Dinh       Technical Architect          IT   \n",
      "2    E02572     Luna Sanders                  Director     Finance   \n",
      "3    E02832  Penelope Jordan  Computer Systems Manager          IT   \n",
      "4    E01639        Austin Vo               Sr. Analyst     Finance   \n",
      "..      ...              ...                       ...         ...   \n",
      "995  E03094     Wesley Young               Sr. Analyst   Marketing   \n",
      "996  E01909     Lillian Khan                   Analyst     Finance   \n",
      "997  E04398      Oliver Yang                  Director   Marketing   \n",
      "998  E02521      Lily Nguyen               Sr. Analyst     Finance   \n",
      "999  E03545      Sofia Cheng            Vice President  Accounting   \n",
      "\n",
      "              Business Unit  Gender  Ethnicity  Age  Hire Date  Annual Salary  \\\n",
      "0    Research & Development  Female      Black   55 2016-04-08         141604   \n",
      "1             Manufacturing    Male      Asian   59 1997-11-29          99975   \n",
      "2       Speciality Products  Female  Caucasian   50 2006-10-26         163099   \n",
      "3             Manufacturing  Female  Caucasian   26 2019-09-27          84913   \n",
      "4             Manufacturing    Male      Asian   55 1995-11-20          95409   \n",
      "..                      ...     ...        ...  ...        ...            ...   \n",
      "995     Speciality Products    Male  Caucasian   33 2016-09-18          98427   \n",
      "996     Speciality Products  Female      Asian   44 2010-05-31          47387   \n",
      "997     Speciality Products    Male      Asian   31 2019-06-10         176710   \n",
      "998     Speciality Products  Female      Asian   33 2012-01-28          95960   \n",
      "999               Corporate  Female      Asian   63 2020-07-26         216195   \n",
      "\n",
      "     Bonus %        Country       City  Exit Date  \n",
      "0       0.15  United States    Seattle 2021-10-16  \n",
      "1       0.00          China  Chongqing        NaT  \n",
      "2       0.20  United States    Chicago        NaT  \n",
      "3       0.07  United States    Chicago        NaT  \n",
      "4       0.00  United States    Phoenix        NaT  \n",
      "..       ...            ...        ...        ...  \n",
      "995     0.00  United States   Columbus        NaT  \n",
      "996     0.00          China    Chengdu 2018-01-08  \n",
      "997     0.15  United States      Miami        NaT  \n",
      "998     0.00          China    Chengdu        NaT  \n",
      "999     0.31  United States      Miami        NaT  \n",
      "\n",
      "[1000 rows x 14 columns]\n"
     ]
    }
   ],
   "source": [
    "print (data1)"
   ]
  },
  {
   "cell_type": "code",
   "execution_count": 6,
   "id": "225ae0b0-3a2f-427b-b740-da88601ff795",
   "metadata": {
    "tags": []
   },
   "outputs": [
    {
     "name": "stdout",
     "output_type": "stream",
     "text": [
      "     EEID        Full Name                 Job Title  Department  \\\n",
      "0  E02387      Emily Davis                Sr. Manger          IT   \n",
      "1  E04105    Theodore Dinh       Technical Architect          IT   \n",
      "2  E02572     Luna Sanders                  Director     Finance   \n",
      "3  E02832  Penelope Jordan  Computer Systems Manager          IT   \n",
      "4  E01639        Austin Vo               Sr. Analyst     Finance   \n",
      "5  E00644     Joshua Gupta    Account Representative       Sales   \n",
      "6  E01550      Ruby Barnes                   Manager          IT   \n",
      "7  E04332      Luke Martin                   Analyst     Finance   \n",
      "8  E04533    Easton Bailey                   Manager  Accounting   \n",
      "9  E03838  Madeline Walker               Sr. Analyst     Finance   \n",
      "\n",
      "            Business Unit  Gender  Ethnicity  Age  Hire Date  Annual Salary  \\\n",
      "0  Research & Development  Female      Black   55 2016-04-08         141604   \n",
      "1           Manufacturing    Male      Asian   59 1997-11-29          99975   \n",
      "2     Speciality Products  Female  Caucasian   50 2006-10-26         163099   \n",
      "3           Manufacturing  Female  Caucasian   26 2019-09-27          84913   \n",
      "4           Manufacturing    Male      Asian   55 1995-11-20          95409   \n",
      "5               Corporate    Male      Asian   57 2017-01-24          50994   \n",
      "6               Corporate  Female  Caucasian   27 2020-07-01         119746   \n",
      "7           Manufacturing    Male      Black   25 2020-05-16          41336   \n",
      "8           Manufacturing    Male  Caucasian   29 2019-01-25         113527   \n",
      "9     Speciality Products  Female  Caucasian   34 2018-06-13          77203   \n",
      "\n",
      "   Bonus %        Country       City  Exit Date  \n",
      "0     0.15  United States    Seattle 2021-10-16  \n",
      "1     0.00          China  Chongqing        NaT  \n",
      "2     0.20  United States    Chicago        NaT  \n",
      "3     0.07  United States    Chicago        NaT  \n",
      "4     0.00  United States    Phoenix        NaT  \n",
      "5     0.00          China  Chongqing        NaT  \n",
      "6     0.10  United States    Phoenix        NaT  \n",
      "7     0.00  United States      Miami 2021-05-20  \n",
      "8     0.06  United States     Austin        NaT  \n",
      "9     0.00  United States    Chicago        NaT  \n"
     ]
    }
   ],
   "source": [
    "print (data1.head(10))"
   ]
  },
  {
   "cell_type": "code",
   "execution_count": 7,
   "id": "e502ef78-518e-4c2e-a94f-170f8037cb8a",
   "metadata": {
    "tags": []
   },
   "outputs": [
    {
     "name": "stdout",
     "output_type": "stream",
     "text": [
      "       EEID          Full Name             Job Title       Department  \\\n",
      "990  E01578       Anthony Hong            Sr. Manger               IT   \n",
      "991  E03430        Leo Herrera  Sr. Business Partner  Human Resources   \n",
      "992  E03058      Robert Wright   Technical Architect               IT   \n",
      "993  E04762  Audrey Richardson              Director               IT   \n",
      "994  E01148     Scarlett Kumar       Systems Analyst               IT   \n",
      "995  E03094       Wesley Young           Sr. Analyst        Marketing   \n",
      "996  E01909       Lillian Khan               Analyst          Finance   \n",
      "997  E04398        Oliver Yang              Director        Marketing   \n",
      "998  E02521        Lily Nguyen           Sr. Analyst          Finance   \n",
      "999  E03545        Sofia Cheng        Vice President       Accounting   \n",
      "\n",
      "              Business Unit  Gender  Ethnicity  Age  Hire Date  Annual Salary  \\\n",
      "990  Research & Development    Male      Asian   37 2010-11-29         146961   \n",
      "991  Research & Development    Male     Latino   48 1998-04-22          85369   \n",
      "992           Manufacturing    Male  Caucasian   30 2015-06-14          67489   \n",
      "993           Manufacturing  Female  Caucasian   46 2018-10-06         166259   \n",
      "994               Corporate  Female      Asian   55 2009-01-07          47032   \n",
      "995     Speciality Products    Male  Caucasian   33 2016-09-18          98427   \n",
      "996     Speciality Products  Female      Asian   44 2010-05-31          47387   \n",
      "997     Speciality Products    Male      Asian   31 2019-06-10         176710   \n",
      "998     Speciality Products  Female      Asian   33 2012-01-28          95960   \n",
      "999               Corporate  Female      Asian   63 2020-07-26         216195   \n",
      "\n",
      "     Bonus %        Country      City  Exit Date  \n",
      "990     0.11  United States  Columbus        NaT  \n",
      "991     0.00         Brazil    Manaus 2004-11-27  \n",
      "992     0.00  United States   Chicago        NaT  \n",
      "993     0.17  United States   Chicago        NaT  \n",
      "994     0.00  United States  Columbus        NaT  \n",
      "995     0.00  United States  Columbus        NaT  \n",
      "996     0.00          China   Chengdu 2018-01-08  \n",
      "997     0.15  United States     Miami        NaT  \n",
      "998     0.00          China   Chengdu        NaT  \n",
      "999     0.31  United States     Miami        NaT  \n"
     ]
    }
   ],
   "source": [
    "print (data1.tail(10))"
   ]
  },
  {
   "cell_type": "code",
   "execution_count": 8,
   "id": "39366d4f-a573-4ab7-b53f-d8347330c46a",
   "metadata": {
    "tags": []
   },
   "outputs": [
    {
     "name": "stdout",
     "output_type": "stream",
     "text": [
      "EEID               0\n",
      "Full Name          0\n",
      "Job Title          0\n",
      "Department         0\n",
      "Business Unit      0\n",
      "Gender             0\n",
      "Ethnicity          0\n",
      "Age                0\n",
      "Hire Date          0\n",
      "Annual Salary      0\n",
      "Bonus %            0\n",
      "Country            0\n",
      "City               0\n",
      "Exit Date        915\n",
      "dtype: int64\n"
     ]
    }
   ],
   "source": [
    "print (data1.isnull().sum())"
   ]
  },
  {
   "cell_type": "code",
   "execution_count": 9,
   "id": "71f25969-1294-4147-adaa-0c18cf2b0d0f",
   "metadata": {
    "tags": []
   },
   "outputs": [
    {
     "name": "stdout",
     "output_type": "stream",
     "text": [
      "997\n"
     ]
    }
   ],
   "source": [
    "print (data1[\"Country\"].duplicated().sum())"
   ]
  },
  {
   "cell_type": "code",
   "execution_count": 10,
   "id": "a2b7b087-b70e-4ff8-8c07-728ce451e761",
   "metadata": {
    "tags": []
   },
   "outputs": [
    {
     "name": "stdout",
     "output_type": "stream",
     "text": [
      "<class 'pandas.core.frame.DataFrame'>\n",
      "RangeIndex: 1000 entries, 0 to 999\n",
      "Data columns (total 14 columns):\n",
      " #   Column         Non-Null Count  Dtype         \n",
      "---  ------         --------------  -----         \n",
      " 0   EEID           1000 non-null   object        \n",
      " 1   Full Name      1000 non-null   object        \n",
      " 2   Job Title      1000 non-null   object        \n",
      " 3   Department     1000 non-null   object        \n",
      " 4   Business Unit  1000 non-null   object        \n",
      " 5   Gender         1000 non-null   object        \n",
      " 6   Ethnicity      1000 non-null   object        \n",
      " 7   Age            1000 non-null   int64         \n",
      " 8   Hire Date      1000 non-null   datetime64[ns]\n",
      " 9   Annual Salary  1000 non-null   int64         \n",
      " 10  Bonus %        1000 non-null   float64       \n",
      " 11  Country        1000 non-null   object        \n",
      " 12  City           1000 non-null   object        \n",
      " 13  Exit Date      85 non-null     datetime64[ns]\n",
      "dtypes: datetime64[ns](2), float64(1), int64(2), object(9)\n",
      "memory usage: 109.5+ KB\n",
      "None\n"
     ]
    }
   ],
   "source": [
    "print(data1.info())"
   ]
  },
  {
   "cell_type": "code",
   "execution_count": 11,
   "id": "156c7816-823c-429c-9631-910ed365d50f",
   "metadata": {
    "tags": []
   },
   "outputs": [
    {
     "data": {
      "text/html": [
       "<div>\n",
       "<style scoped>\n",
       "    .dataframe tbody tr th:only-of-type {\n",
       "        vertical-align: middle;\n",
       "    }\n",
       "\n",
       "    .dataframe tbody tr th {\n",
       "        vertical-align: top;\n",
       "    }\n",
       "\n",
       "    .dataframe thead th {\n",
       "        text-align: right;\n",
       "    }\n",
       "</style>\n",
       "<table border=\"1\" class=\"dataframe\">\n",
       "  <thead>\n",
       "    <tr style=\"text-align: right;\">\n",
       "      <th></th>\n",
       "      <th>Age</th>\n",
       "      <th>Hire Date</th>\n",
       "      <th>Annual Salary</th>\n",
       "      <th>Bonus %</th>\n",
       "      <th>Exit Date</th>\n",
       "    </tr>\n",
       "  </thead>\n",
       "  <tbody>\n",
       "    <tr>\n",
       "      <th>count</th>\n",
       "      <td>1000.000000</td>\n",
       "      <td>1000</td>\n",
       "      <td>1000.000000</td>\n",
       "      <td>1000.000000</td>\n",
       "      <td>85</td>\n",
       "    </tr>\n",
       "    <tr>\n",
       "      <th>mean</th>\n",
       "      <td>44.382000</td>\n",
       "      <td>2012-04-07 02:54:14.400000</td>\n",
       "      <td>113217.365000</td>\n",
       "      <td>0.088660</td>\n",
       "      <td>2016-11-02 18:04:14.117647104</td>\n",
       "    </tr>\n",
       "    <tr>\n",
       "      <th>min</th>\n",
       "      <td>25.000000</td>\n",
       "      <td>1992-01-09 00:00:00</td>\n",
       "      <td>40063.000000</td>\n",
       "      <td>0.000000</td>\n",
       "      <td>1994-12-18 00:00:00</td>\n",
       "    </tr>\n",
       "    <tr>\n",
       "      <th>25%</th>\n",
       "      <td>35.000000</td>\n",
       "      <td>2007-02-14 00:00:00</td>\n",
       "      <td>71430.250000</td>\n",
       "      <td>0.000000</td>\n",
       "      <td>2014-12-25 00:00:00</td>\n",
       "    </tr>\n",
       "    <tr>\n",
       "      <th>50%</th>\n",
       "      <td>45.000000</td>\n",
       "      <td>2014-02-15 12:00:00</td>\n",
       "      <td>96557.000000</td>\n",
       "      <td>0.000000</td>\n",
       "      <td>2019-05-23 00:00:00</td>\n",
       "    </tr>\n",
       "    <tr>\n",
       "      <th>75%</th>\n",
       "      <td>54.000000</td>\n",
       "      <td>2018-06-22 00:00:00</td>\n",
       "      <td>150782.250000</td>\n",
       "      <td>0.150000</td>\n",
       "      <td>2021-04-09 00:00:00</td>\n",
       "    </tr>\n",
       "    <tr>\n",
       "      <th>max</th>\n",
       "      <td>65.000000</td>\n",
       "      <td>2021-12-26 00:00:00</td>\n",
       "      <td>258498.000000</td>\n",
       "      <td>0.400000</td>\n",
       "      <td>2022-08-17 00:00:00</td>\n",
       "    </tr>\n",
       "    <tr>\n",
       "      <th>std</th>\n",
       "      <td>11.246981</td>\n",
       "      <td>NaN</td>\n",
       "      <td>53545.985644</td>\n",
       "      <td>0.117856</td>\n",
       "      <td>NaN</td>\n",
       "    </tr>\n",
       "  </tbody>\n",
       "</table>\n",
       "</div>"
      ],
      "text/plain": [
       "               Age                   Hire Date  Annual Salary      Bonus %  \\\n",
       "count  1000.000000                        1000    1000.000000  1000.000000   \n",
       "mean     44.382000  2012-04-07 02:54:14.400000  113217.365000     0.088660   \n",
       "min      25.000000         1992-01-09 00:00:00   40063.000000     0.000000   \n",
       "25%      35.000000         2007-02-14 00:00:00   71430.250000     0.000000   \n",
       "50%      45.000000         2014-02-15 12:00:00   96557.000000     0.000000   \n",
       "75%      54.000000         2018-06-22 00:00:00  150782.250000     0.150000   \n",
       "max      65.000000         2021-12-26 00:00:00  258498.000000     0.400000   \n",
       "std      11.246981                         NaN   53545.985644     0.117856   \n",
       "\n",
       "                           Exit Date  \n",
       "count                             85  \n",
       "mean   2016-11-02 18:04:14.117647104  \n",
       "min              1994-12-18 00:00:00  \n",
       "25%              2014-12-25 00:00:00  \n",
       "50%              2019-05-23 00:00:00  \n",
       "75%              2021-04-09 00:00:00  \n",
       "max              2022-08-17 00:00:00  \n",
       "std                              NaN  "
      ]
     },
     "execution_count": 11,
     "metadata": {},
     "output_type": "execute_result"
    }
   ],
   "source": [
    "data1.describe()"
   ]
  },
  {
   "cell_type": "code",
   "execution_count": 30,
   "id": "2448194f-76f8-4fc7-8673-eb278c4e448c",
   "metadata": {
    "tags": []
   },
   "outputs": [
    {
     "name": "stdout",
     "output_type": "stream",
     "text": [
      "Index(['EEID', 'Full Name', 'Job Title', 'Department', 'Business Unit',\n",
      "       'Gender', 'Ethnicity', 'Age', 'Hire Date', 'Annual Salary', 'Bonus %',\n",
      "       'Country', 'City', 'Exit Date'],\n",
      "      dtype='object')\n"
     ]
    }
   ],
   "source": [
    "print (data1.columns)"
   ]
  },
  {
   "cell_type": "code",
   "execution_count": 7,
   "id": "9d5fcaf0-b7c1-4793-aba0-9d8b92a5f2d8",
   "metadata": {},
   "outputs": [
    {
     "name": "stdout",
     "output_type": "stream",
     "text": [
      "    EEID      Name gender   salary\n",
      "0  EMP01    ayushi      F      NaN\n",
      "1  EMP02     rohit      M  25000.0\n",
      "2  EMP03  pranjali    NaN  27000.0\n",
      "3  EMP01    ayushi      F  20000.0\n",
      "4  EMP05       NaN      M  25000.0\n",
      "5  EMP06     rohit      M      NaN\n",
      "6  EMP02     rohit      M  25000.0\n"
     ]
    }
   ],
   "source": [
    "import pandas as pd\n",
    "data2 = pd.read_csv(\"company1.csv\")\n",
    "print (data2)"
   ]
  },
  {
   "cell_type": "code",
   "execution_count": 13,
   "id": "67299ee3-1535-4201-8211-839ed8e7d9b5",
   "metadata": {},
   "outputs": [
    {
     "name": "stdout",
     "output_type": "stream",
     "text": [
      "0    24400.0\n",
      "1    25000.0\n",
      "2    27000.0\n",
      "3    20000.0\n",
      "4    25000.0\n",
      "5    24400.0\n",
      "6    25000.0\n",
      "Name: salary, dtype: object\n"
     ]
    }
   ],
   "source": [
    "import numpy as np\n",
    "print (data2[\"salary\"].replace(np.nan,\"24400.0\"))"
   ]
  },
  {
   "cell_type": "code",
   "execution_count": 11,
   "id": "614d51bd-94ed-4312-a580-ffa143d9f5e8",
   "metadata": {
    "tags": []
   },
   "outputs": [
    {
     "name": "stdout",
     "output_type": "stream",
     "text": [
      "24400.0\n"
     ]
    }
   ],
   "source": [
    "print (data2[\"salary\"].mean())"
   ]
  },
  {
   "cell_type": "code",
   "execution_count": 24,
   "id": "52e17814-c627-4586-a750-b1c235472850",
   "metadata": {
    "tags": []
   },
   "outputs": [
    {
     "name": "stdout",
     "output_type": "stream",
     "text": [
      "    EEID      Name gender   salary\n",
      "0  EMP01    ayushi      F  25000.0\n",
      "1  EMP02     rohit      M  25000.0\n",
      "2  EMP03  pranjali      F  27000.0\n",
      "3  EMP01    ayushi      F  20000.0\n",
      "4  EMP05     rohit      M  25000.0\n",
      "5  EMP06     rohit      M  25000.0\n",
      "6  EMP02     rohit      M  25000.0\n"
     ]
    }
   ],
   "source": [
    "print (data2.fillna( method = \"bfill\" ))"
   ]
  },
  {
   "cell_type": "code",
   "execution_count": 3,
   "id": "caa9d7f0-7ee9-44c2-9ed9-1e6ec571829b",
   "metadata": {},
   "outputs": [
    {
     "name": "stdout",
     "output_type": "stream",
     "text": [
      "EEID       object\n",
      "Name       object\n",
      "gender     object\n",
      "salary    float64\n",
      "dtype: object\n"
     ]
    }
   ],
   "source": [
    "import pandas as pd\n",
    "full_before = pd.read_csv(\"company1.csv\")\n",
    "print (full_before.dtypes)"
   ]
  },
  {
   "cell_type": "code",
   "execution_count": 7,
   "id": "6608048c-84e1-4e25-a461-9b426f6ed8c5",
   "metadata": {
    "tags": []
   },
   "outputs": [
    {
     "name": "stdout",
     "output_type": "stream",
     "text": [
      "    EEID      Name gender\n",
      "0  EMP01    ayushi      F\n",
      "1  EMP02     rohit      M\n",
      "2  EMP03  pranjali    NaN\n",
      "3  EMP01    ayushi      F\n",
      "4  EMP05       NaN      M\n",
      "5  EMP06     rohit      M\n",
      "6  EMP02     rohit      M\n"
     ]
    }
   ],
   "source": [
    "half1 = full_before[['EEID','Name','gender']]\n",
    "print (half1)"
   ]
  },
  {
   "cell_type": "code",
   "execution_count": 8,
   "id": "8d1984f8-6c06-4446-b588-a639a2a97f74",
   "metadata": {
    "tags": []
   },
   "outputs": [
    {
     "name": "stdout",
     "output_type": "stream",
     "text": [
      "0        NaN\n",
      "1    25000.0\n",
      "2    27000.0\n",
      "3    20000.0\n",
      "4    25000.0\n",
      "5        NaN\n",
      "6    25000.0\n",
      "Name: salary, dtype: float64\n"
     ]
    }
   ],
   "source": [
    "half2 = full_before['salary']\n",
    "print (half2)"
   ]
  },
  {
   "cell_type": "code",
   "execution_count": 10,
   "id": "06703d13-6b9e-4cad-a828-578f8924774c",
   "metadata": {
    "tags": []
   },
   "outputs": [],
   "source": [
    "full_new = half1 + half2"
   ]
  },
  {
   "cell_type": "code",
   "execution_count": 11,
   "id": "cfcbcdbd-f466-4922-93ac-fa69a52a0a78",
   "metadata": {
    "tags": []
   },
   "outputs": [
    {
     "name": "stdout",
     "output_type": "stream",
     "text": [
      "  EEID Name gender   0   1   2   3   4   5   6\n",
      "0  NaN  NaN    NaN NaN NaN NaN NaN NaN NaN NaN\n",
      "1  NaN  NaN    NaN NaN NaN NaN NaN NaN NaN NaN\n",
      "2  NaN  NaN    NaN NaN NaN NaN NaN NaN NaN NaN\n",
      "3  NaN  NaN    NaN NaN NaN NaN NaN NaN NaN NaN\n",
      "4  NaN  NaN    NaN NaN NaN NaN NaN NaN NaN NaN\n",
      "5  NaN  NaN    NaN NaN NaN NaN NaN NaN NaN NaN\n",
      "6  NaN  NaN    NaN NaN NaN NaN NaN NaN NaN NaN\n"
     ]
    }
   ],
   "source": [
    "print (full_new)"
   ]
  },
  {
   "cell_type": "code",
   "execution_count": 15,
   "id": "5ab22d5f-c806-422a-a95f-338e98f27087",
   "metadata": {
    "tags": []
   },
   "outputs": [
    {
     "name": "stdout",
     "output_type": "stream",
     "text": [
      "       EEID        Full Name                 Job Title  Department  \\\n",
      "0    E02387      Emily Davis                Sr. Manger          IT   \n",
      "1    E04105    Theodore Dinh       Technical Architect          IT   \n",
      "2    E02572     Luna Sanders                  Director     Finance   \n",
      "3    E02832  Penelope Jordan  Computer Systems Manager          IT   \n",
      "4    E01639        Austin Vo               Sr. Analyst     Finance   \n",
      "..      ...              ...                       ...         ...   \n",
      "995  E03094     Wesley Young               Sr. Analyst   Marketing   \n",
      "996  E01909     Lillian Khan                   Analyst     Finance   \n",
      "997  E04398      Oliver Yang                  Director   Marketing   \n",
      "998  E02521      Lily Nguyen               Sr. Analyst     Finance   \n",
      "999  E03545      Sofia Cheng            Vice President  Accounting   \n",
      "\n",
      "              Business Unit  Gender  Ethnicity  Age  Hire Date  Annual Salary  \\\n",
      "0    Research & Development  Female      Black   55 2016-04-08         141604   \n",
      "1             Manufacturing    Male      Asian   59 1997-11-29          99975   \n",
      "2       Speciality Products  Female  Caucasian   50 2006-10-26         163099   \n",
      "3             Manufacturing  Female  Caucasian   26 2019-09-27          84913   \n",
      "4             Manufacturing    Male      Asian   55 1995-11-20          95409   \n",
      "..                      ...     ...        ...  ...        ...            ...   \n",
      "995     Speciality Products    Male  Caucasian   33 2016-09-18          98427   \n",
      "996     Speciality Products  Female      Asian   44 2010-05-31          47387   \n",
      "997     Speciality Products    Male      Asian   31 2019-06-10         176710   \n",
      "998     Speciality Products  Female      Asian   33 2012-01-28          95960   \n",
      "999               Corporate  Female      Asian   63 2020-07-26         216195   \n",
      "\n",
      "     Bonus %        Country       City  Exit Date  \n",
      "0       0.15  United States    Seattle 2021-10-16  \n",
      "1       0.00          China  Chongqing        NaT  \n",
      "2       0.20  United States    Chicago        NaT  \n",
      "3       0.07  United States    Chicago        NaT  \n",
      "4       0.00  United States    Phoenix        NaT  \n",
      "..       ...            ...        ...        ...  \n",
      "995     0.00  United States   Columbus        NaT  \n",
      "996     0.00          China    Chengdu 2018-01-08  \n",
      "997     0.15  United States      Miami        NaT  \n",
      "998     0.00          China    Chengdu        NaT  \n",
      "999     0.31  United States      Miami        NaT  \n",
      "\n",
      "[1000 rows x 14 columns]\n"
     ]
    }
   ],
   "source": [
    "data1 = pd.read_excel(\"ESD.xlsx\")\n",
    "print (data1)"
   ]
  },
  {
   "cell_type": "code",
   "execution_count": 21,
   "id": "2ff6b66b-4b03-41bb-88d5-7e53286865ec",
   "metadata": {
    "tags": []
   },
   "outputs": [],
   "source": [
    "data1.loc[(data1[\"Bonus %\"] == 0),\"Get Bonus\"] = \"No Bonus\"\n",
    "data1.loc[(data1['Bonus %'] > 0), \"Get Bonus\"] = \"Bonus\""
   ]
  },
  {
   "cell_type": "code",
   "execution_count": 22,
   "id": "0895aa83-cf51-4b69-b182-27b3c9317daf",
   "metadata": {
    "tags": []
   },
   "outputs": [
    {
     "name": "stdout",
     "output_type": "stream",
     "text": [
      "       EEID        Full Name                 Job Title  Department  \\\n",
      "0    E02387      Emily Davis                Sr. Manger          IT   \n",
      "1    E04105    Theodore Dinh       Technical Architect          IT   \n",
      "2    E02572     Luna Sanders                  Director     Finance   \n",
      "3    E02832  Penelope Jordan  Computer Systems Manager          IT   \n",
      "4    E01639        Austin Vo               Sr. Analyst     Finance   \n",
      "..      ...              ...                       ...         ...   \n",
      "995  E03094     Wesley Young               Sr. Analyst   Marketing   \n",
      "996  E01909     Lillian Khan                   Analyst     Finance   \n",
      "997  E04398      Oliver Yang                  Director   Marketing   \n",
      "998  E02521      Lily Nguyen               Sr. Analyst     Finance   \n",
      "999  E03545      Sofia Cheng            Vice President  Accounting   \n",
      "\n",
      "              Business Unit  Gender  Ethnicity  Age  Hire Date  Annual Salary  \\\n",
      "0    Research & Development  Female      Black   55 2016-04-08         141604   \n",
      "1             Manufacturing    Male      Asian   59 1997-11-29          99975   \n",
      "2       Speciality Products  Female  Caucasian   50 2006-10-26         163099   \n",
      "3             Manufacturing  Female  Caucasian   26 2019-09-27          84913   \n",
      "4             Manufacturing    Male      Asian   55 1995-11-20          95409   \n",
      "..                      ...     ...        ...  ...        ...            ...   \n",
      "995     Speciality Products    Male  Caucasian   33 2016-09-18          98427   \n",
      "996     Speciality Products  Female      Asian   44 2010-05-31          47387   \n",
      "997     Speciality Products    Male      Asian   31 2019-06-10         176710   \n",
      "998     Speciality Products  Female      Asian   33 2012-01-28          95960   \n",
      "999               Corporate  Female      Asian   63 2020-07-26         216195   \n",
      "\n",
      "     Bonus %        Country       City  Exit Date Get Bonus  \n",
      "0       0.15  United States    Seattle 2021-10-16     Bonus  \n",
      "1       0.00          China  Chongqing        NaT  No Bonus  \n",
      "2       0.20  United States    Chicago        NaT     Bonus  \n",
      "3       0.07  United States    Chicago        NaT     Bonus  \n",
      "4       0.00  United States    Phoenix        NaT  No Bonus  \n",
      "..       ...            ...        ...        ...       ...  \n",
      "995     0.00  United States   Columbus        NaT  No Bonus  \n",
      "996     0.00          China    Chengdu 2018-01-08  No Bonus  \n",
      "997     0.15  United States      Miami        NaT     Bonus  \n",
      "998     0.00          China    Chengdu        NaT  No Bonus  \n",
      "999     0.31  United States      Miami        NaT     Bonus  \n",
      "\n",
      "[1000 rows x 15 columns]\n"
     ]
    }
   ],
   "source": [
    "print (data1)"
   ]
  },
  {
   "cell_type": "code",
   "execution_count": 24,
   "id": "11a5fc23-31d4-4f56-ad7e-1e5248c6a1cf",
   "metadata": {
    "tags": []
   },
   "outputs": [
    {
     "name": "stdout",
     "output_type": "stream",
     "text": [
      "0     2021-10-16\n",
      "1     2021-05-20\n",
      "2     2021-05-20\n",
      "3     2021-05-20\n",
      "4     2021-05-20\n",
      "         ...    \n",
      "995   2018-01-08\n",
      "996   2018-01-08\n",
      "997          NaT\n",
      "998          NaT\n",
      "999          NaT\n",
      "Name: Exit Date, Length: 1000, dtype: datetime64[ns]\n",
      "0     2021-10-16\n",
      "1     2021-10-16\n",
      "2     2021-10-16\n",
      "3     2021-10-16\n",
      "4     2021-10-16\n",
      "         ...    \n",
      "995   2004-11-27\n",
      "996   2018-01-08\n",
      "997   2018-01-08\n",
      "998   2018-01-08\n",
      "999   2018-01-08\n",
      "Name: Exit Date, Length: 1000, dtype: datetime64[ns]\n"
     ]
    }
   ],
   "source": [
    "print (data1[\"Exit Date\"].fillna( method = \"bfill\"))\n",
    "print (data1[\"Exit Date\"].fillna( method = \"ffill\"))"
   ]
  },
  {
   "cell_type": "code",
   "execution_count": 25,
   "id": "7508f0ed-4100-4492-bd01-d86a8f8076cd",
   "metadata": {
    "tags": []
   },
   "outputs": [
    {
     "name": "stdout",
     "output_type": "stream",
     "text": [
      "       EEID        Full Name                 Job Title  Department  \\\n",
      "0    E02387      Emily Davis                Sr. Manger          IT   \n",
      "1    E04105    Theodore Dinh       Technical Architect          IT   \n",
      "2    E02572     Luna Sanders                  Director     Finance   \n",
      "3    E02832  Penelope Jordan  Computer Systems Manager          IT   \n",
      "4    E01639        Austin Vo               Sr. Analyst     Finance   \n",
      "..      ...              ...                       ...         ...   \n",
      "995  E03094     Wesley Young               Sr. Analyst   Marketing   \n",
      "996  E01909     Lillian Khan                   Analyst     Finance   \n",
      "997  E04398      Oliver Yang                  Director   Marketing   \n",
      "998  E02521      Lily Nguyen               Sr. Analyst     Finance   \n",
      "999  E03545      Sofia Cheng            Vice President  Accounting   \n",
      "\n",
      "              Business Unit  Gender  Ethnicity  Age  Hire Date  Annual Salary  \\\n",
      "0    Research & Development  Female      Black   55 2016-04-08         141604   \n",
      "1             Manufacturing    Male      Asian   59 1997-11-29          99975   \n",
      "2       Speciality Products  Female  Caucasian   50 2006-10-26         163099   \n",
      "3             Manufacturing  Female  Caucasian   26 2019-09-27          84913   \n",
      "4             Manufacturing    Male      Asian   55 1995-11-20          95409   \n",
      "..                      ...     ...        ...  ...        ...            ...   \n",
      "995     Speciality Products    Male  Caucasian   33 2016-09-18          98427   \n",
      "996     Speciality Products  Female      Asian   44 2010-05-31          47387   \n",
      "997     Speciality Products    Male      Asian   31 2019-06-10         176710   \n",
      "998     Speciality Products  Female      Asian   33 2012-01-28          95960   \n",
      "999               Corporate  Female      Asian   63 2020-07-26         216195   \n",
      "\n",
      "     Bonus %        Country       City  Exit Date Get Bonus  \n",
      "0       0.15  United States    Seattle 2021-10-16     Bonus  \n",
      "1       0.00          China  Chongqing        NaT  No Bonus  \n",
      "2       0.20  United States    Chicago        NaT     Bonus  \n",
      "3       0.07  United States    Chicago        NaT     Bonus  \n",
      "4       0.00  United States    Phoenix        NaT  No Bonus  \n",
      "..       ...            ...        ...        ...       ...  \n",
      "995     0.00  United States   Columbus        NaT  No Bonus  \n",
      "996     0.00          China    Chengdu 2018-01-08  No Bonus  \n",
      "997     0.15  United States      Miami        NaT     Bonus  \n",
      "998     0.00          China    Chengdu        NaT  No Bonus  \n",
      "999     0.31  United States      Miami        NaT     Bonus  \n",
      "\n",
      "[1000 rows x 15 columns]\n"
     ]
    }
   ],
   "source": [
    "print (data1)"
   ]
  },
  {
   "cell_type": "code",
   "execution_count": 31,
   "id": "342820bf-10a1-4684-8fcd-9c05dfd35b7c",
   "metadata": {
    "tags": []
   },
   "outputs": [
    {
     "name": "stdout",
     "output_type": "stream",
     "text": [
      "       EEID        Full Name                 Job Title  Department  \\\n",
      "0    E02387      Emily Davis                Sr. Manger          IT   \n",
      "1    E04105    Theodore Dinh       Technical Architect          IT   \n",
      "2    E02572     Luna Sanders                  Director     Finance   \n",
      "3    E02832  Penelope Jordan  Computer Systems Manager          IT   \n",
      "4    E01639        Austin Vo               Sr. Analyst     Finance   \n",
      "..      ...              ...                       ...         ...   \n",
      "995  E03094     Wesley Young               Sr. Analyst   Marketing   \n",
      "996  E01909     Lillian Khan                   Analyst     Finance   \n",
      "997  E04398      Oliver Yang                  Director   Marketing   \n",
      "998  E02521      Lily Nguyen               Sr. Analyst     Finance   \n",
      "999  E03545      Sofia Cheng            Vice President  Accounting   \n",
      "\n",
      "              Business Unit  Gender  Ethnicity  Age  Hire Date  Annual Salary  \\\n",
      "0    Research & Development  Female      Black   55 2016-04-08         141604   \n",
      "1             Manufacturing    Male      Asian   59 1997-11-29          99975   \n",
      "2       Speciality Products  Female  Caucasian   50 2006-10-26         163099   \n",
      "3             Manufacturing  Female  Caucasian   26 2019-09-27          84913   \n",
      "4             Manufacturing    Male      Asian   55 1995-11-20          95409   \n",
      "..                      ...     ...        ...  ...        ...            ...   \n",
      "995     Speciality Products    Male  Caucasian   33 2016-09-18          98427   \n",
      "996     Speciality Products  Female      Asian   44 2010-05-31          47387   \n",
      "997     Speciality Products    Male      Asian   31 2019-06-10         176710   \n",
      "998     Speciality Products  Female      Asian   33 2012-01-28          95960   \n",
      "999               Corporate  Female      Asian   63 2020-07-26         216195   \n",
      "\n",
      "     Bonus %        Country       City  Exit Date Get Bonus  \\\n",
      "0       0.15  United States    Seattle 2021-10-16     Bonus   \n",
      "1       0.00          China  Chongqing        NaT  No Bonus   \n",
      "2       0.20  United States    Chicago        NaT     Bonus   \n",
      "3       0.07  United States    Chicago        NaT     Bonus   \n",
      "4       0.00  United States    Phoenix        NaT  No Bonus   \n",
      "..       ...            ...        ...        ...       ...   \n",
      "995     0.00  United States   Columbus        NaT  No Bonus   \n",
      "996     0.00          China    Chengdu 2018-01-08  No Bonus   \n",
      "997     0.15  United States      Miami        NaT     Bonus   \n",
      "998     0.00          China    Chengdu        NaT  No Bonus   \n",
      "999     0.31  United States      Miami        NaT     Bonus   \n",
      "\n",
      "           Country and City  \n",
      "0     United States Seattle  \n",
      "1           China Chongqing  \n",
      "2     United States Chicago  \n",
      "3     United States Chicago  \n",
      "4     United States Phoenix  \n",
      "..                      ...  \n",
      "995  United States Columbus  \n",
      "996           China Chengdu  \n",
      "997     United States Miami  \n",
      "998           China Chengdu  \n",
      "999     United States Miami  \n",
      "\n",
      "[1000 rows x 16 columns]\n"
     ]
    }
   ],
   "source": [
    "data1['Country and City'] = data1['Country'].str.title() +' ' + data1['City'].str.title()\n",
    "print (data1)"
   ]
  },
  {
   "cell_type": "code",
   "execution_count": 10,
   "id": "c1c12b82-2105-455b-897e-bd782db0737a",
   "metadata": {},
   "outputs": [
    {
     "name": "stdout",
     "output_type": "stream",
     "text": [
      "    months Short_months\n",
      "0  January          Jan\n",
      "1  Febuary          Feb\n",
      "2    March          Mar\n",
      "3    April          Apr\n",
      "4      May          May\n",
      "5     June         June\n",
      "6     July         July\n"
     ]
    }
   ],
   "source": [
    "import pandas as pd\n",
    "data = { 'months' : ['January','Febuary','March','April','May','June','July']}\n",
    "a = pd.DataFrame(data)\n",
    "def extract (value):\n",
    "    if len(value) == 4:\n",
    "        return value\n",
    "    else:\n",
    "        return value [0:3]\n",
    "    \n",
    "\n",
    "a['Short_months'] = a['months'].map(extract)\n",
    "print (a)"
   ]
  },
  {
   "cell_type": "code",
   "execution_count": 12,
   "id": "9c000e7c-610a-446b-855a-974f98c5b746",
   "metadata": {
    "tags": []
   },
   "outputs": [
    {
     "name": "stdout",
     "output_type": "stream",
     "text": [
      "       EEID        Full Name                 Job Title  Department  \\\n",
      "0    E02387      Emily Davis                Sr. Manger          IT   \n",
      "1    E04105    Theodore Dinh       Technical Architect          IT   \n",
      "2    E02572     Luna Sanders                  Director     Finance   \n",
      "3    E02832  Penelope Jordan  Computer Systems Manager          IT   \n",
      "4    E01639        Austin Vo               Sr. Analyst     Finance   \n",
      "..      ...              ...                       ...         ...   \n",
      "995  E03094     Wesley Young               Sr. Analyst   Marketing   \n",
      "996  E01909     Lillian Khan                   Analyst     Finance   \n",
      "997  E04398      Oliver Yang                  Director   Marketing   \n",
      "998  E02521      Lily Nguyen               Sr. Analyst     Finance   \n",
      "999  E03545      Sofia Cheng            Vice President  Accounting   \n",
      "\n",
      "              Business Unit  Gender  Ethnicity  Age  Hire Date  Annual Salary  \\\n",
      "0    Research & Development  Female      Black   55 2016-04-08         141604   \n",
      "1             Manufacturing    Male      Asian   59 1997-11-29          99975   \n",
      "2       Speciality Products  Female  Caucasian   50 2006-10-26         163099   \n",
      "3             Manufacturing  Female  Caucasian   26 2019-09-27          84913   \n",
      "4             Manufacturing    Male      Asian   55 1995-11-20          95409   \n",
      "..                      ...     ...        ...  ...        ...            ...   \n",
      "995     Speciality Products    Male  Caucasian   33 2016-09-18          98427   \n",
      "996     Speciality Products  Female      Asian   44 2010-05-31          47387   \n",
      "997     Speciality Products    Male      Asian   31 2019-06-10         176710   \n",
      "998     Speciality Products  Female      Asian   33 2012-01-28          95960   \n",
      "999               Corporate  Female      Asian   63 2020-07-26         216195   \n",
      "\n",
      "     Bonus %        Country       City  Exit Date  \n",
      "0       0.15  United States    Seattle 2021-10-16  \n",
      "1       0.00          China  Chongqing        NaT  \n",
      "2       0.20  United States    Chicago        NaT  \n",
      "3       0.07  United States    Chicago        NaT  \n",
      "4       0.00  United States    Phoenix        NaT  \n",
      "..       ...            ...        ...        ...  \n",
      "995     0.00  United States   Columbus        NaT  \n",
      "996     0.00          China    Chengdu 2018-01-08  \n",
      "997     0.15  United States      Miami        NaT  \n",
      "998     0.00          China    Chengdu        NaT  \n",
      "999     0.31  United States      Miami        NaT  \n",
      "\n",
      "[1000 rows x 14 columns]\n"
     ]
    }
   ],
   "source": [
    "groupby = pd.read_excel(\"ESD.xlsx\")\n",
    "print (groupby)"
   ]
  },
  {
   "cell_type": "code",
   "execution_count": 13,
   "id": "fa945940-21ce-4a2d-b5cd-9d7291c2a6ce",
   "metadata": {
    "tags": []
   },
   "outputs": [
    {
     "name": "stdout",
     "output_type": "stream",
     "text": [
      "EEID                     object\n",
      "Full Name                object\n",
      "Job Title                object\n",
      "Department               object\n",
      "Business Unit            object\n",
      "Gender                   object\n",
      "Ethnicity                object\n",
      "Age                       int64\n",
      "Hire Date        datetime64[ns]\n",
      "Annual Salary             int64\n",
      "Bonus %                 float64\n",
      "Country                  object\n",
      "City                     object\n",
      "Exit Date        datetime64[ns]\n",
      "dtype: object\n"
     ]
    }
   ],
   "source": [
    "print (groupby.dtypes)"
   ]
  },
  {
   "cell_type": "code",
   "execution_count": 30,
   "id": "7898c46d-fd37-4428-85c7-ab359da46886",
   "metadata": {
    "tags": []
   },
   "outputs": [],
   "source": [
    "gp = groupby.groupby([\"Age\",\"Gender\"]).agg({\"Annual Salary\":\"min\",\"Gender\":\"count\"})\n",
    "gp1 = groupby.groupby([\"Country\",\"Department\",\"Gender\"]).agg({\"Gender\":\"count\"})"
   ]
  },
  {
   "cell_type": "code",
   "execution_count": 31,
   "id": "f40f3ac2-6d6b-4860-9532-ad19b9b4ffa3",
   "metadata": {
    "tags": []
   },
   "outputs": [
    {
     "name": "stdout",
     "output_type": "stream",
     "text": [
      "            Annual Salary  Gender\n",
      "Age Gender                       \n",
      "25  Female          47974      13\n",
      "    Male            41336       9\n",
      "26  Female          55767       9\n",
      "    Male            44732       8\n",
      "27  Female          49011      16\n",
      "...                   ...     ...\n",
      "63  Male            73200       9\n",
      "64  Female          55369      11\n",
      "    Male            40316      12\n",
      "65  Female          50341      12\n",
      "    Male            55499       3\n",
      "\n",
      "[82 rows x 2 columns]\n"
     ]
    }
   ],
   "source": [
    "print (gp)"
   ]
  },
  {
   "cell_type": "code",
   "execution_count": 32,
   "id": "626ea010-2fcf-477d-9709-e256feb17a30",
   "metadata": {
    "tags": []
   },
   "outputs": [
    {
     "name": "stdout",
     "output_type": "stream",
     "text": [
      "                                      Gender\n",
      "Country       Department      Gender        \n",
      "Brazil        Accounting      Female       7\n",
      "                              Male         3\n",
      "              Engineering     Female      17\n",
      "                              Male        15\n",
      "              Finance         Female       9\n",
      "                              Male         9\n",
      "              Human Resources Female      11\n",
      "                              Male         8\n",
      "              IT              Female      12\n",
      "                              Male        14\n",
      "              Marketing       Female       6\n",
      "                              Male         7\n",
      "              Sales           Female      13\n",
      "                              Male         8\n",
      "China         Accounting      Female      10\n",
      "                              Male        10\n",
      "              Engineering     Female      17\n",
      "                              Male        12\n",
      "              Finance         Female      19\n",
      "                              Male         9\n",
      "              Human Resources Female      12\n",
      "                              Male        13\n",
      "              IT              Female      22\n",
      "                              Male        28\n",
      "              Marketing       Female      14\n",
      "                              Male        21\n",
      "              Sales           Female      15\n",
      "                              Male        16\n",
      "United States Accounting      Female      36\n",
      "                              Male        30\n",
      "              Engineering     Female      46\n",
      "                              Male        51\n",
      "              Finance         Female      41\n",
      "                              Male        33\n",
      "              Human Resources Female      41\n",
      "                              Male        40\n",
      "              IT              Female      85\n",
      "                              Male        80\n",
      "              Marketing       Female      37\n",
      "                              Male        35\n",
      "              Sales           Female      48\n",
      "                              Male        40\n"
     ]
    }
   ],
   "source": [
    "print (gp1)"
   ]
  },
  {
   "cell_type": "code",
   "execution_count": 48,
   "id": "bbcb1a8a-21bf-4d49-93e4-891038b1e2b1",
   "metadata": {
    "tags": []
   },
   "outputs": [
    {
     "name": "stdout",
     "output_type": "stream",
     "text": [
      "   emp_id     name  age  salary\n",
      "0   emp01   hassan   23   23000\n",
      "1   emp02     john   42   54000\n",
      "2   emp03    demon   36   24000\n",
      "3   emp04   profit   43   12000\n",
      "4   emp05  mustafa   13   52000\n",
      "5   emp06  hussain   27   32000\n",
      "6   emp07   fatima   34   23000\n",
      "7   emp08   watson   12   45000\n",
      "8   emp09    jammy   27   12000\n",
      "9   emp10   sakina   41   34550\n",
      "10  emp11   hashim   38   35000\n",
      "11  emp12    hamza   28   29000\n"
     ]
    }
   ],
   "source": [
    "data1 = { 'emp_id':['emp01','emp02','emp03','emp04','emp05','emp06'],'name':['hassan','john','demon','profit','mustafa','hussain'], 'age':[23,42,36,43,13,27],'salary':[23000,54000,24000,12000,52000,32000]}\n",
    "data2 = { 'emp_id':['emp07','emp08','emp09','emp10','emp11','emp12'], 'salary':[23000,45000,12000,34550,35000,29000],'name':['fatima','watson','jammy','sakina','hashim','hamza'],'age':[34,12,27,41,38,28]}\n",
    "d1 = pd.DataFrame(data1)\n",
    "d2 = pd.DataFrame(data2)\n",
    "print (pd.concat([d1,d2],ignore_index=True))"
   ]
  },
  {
   "cell_type": "code",
   "execution_count": 56,
   "id": "ae3ade15-7076-41f4-aac1-c89eb66ec5da",
   "metadata": {
    "tags": []
   },
   "outputs": [
    {
     "name": "stdout",
     "output_type": "stream",
     "text": [
      "       Fruit  Price  Quantity\n",
      "0      Apple   12.0         5\n",
      "1     Orange   13.0         6\n",
      "2  Pineapple   18.0        12\n",
      "3     Papaya   25.0         8\n",
      "4      Mango    5.0        14\n"
     ]
    }
   ],
   "source": [
    "data3 = { 'Fruit':['Apple','Orange','Pineapple','Papaya','Mango'], 'Price' : [12.0,13.0,18.0,25.0,5.0], 'Quantity':[5,6,12,8,14]}\n",
    "d3 = pd.DataFrame(data3)\n",
    "print (d3)"
   ]
  },
  {
   "cell_type": "code",
   "execution_count": 57,
   "id": "69dc33bb-180c-4669-b636-9793d47b9848",
   "metadata": {
    "tags": []
   },
   "outputs": [
    {
     "name": "stdout",
     "output_type": "stream",
     "text": [
      "       Fruit  Price  Quantity\n",
      "0      Apple   12.0         5\n",
      "1     Orange   13.0         6\n",
      "2  Pineapple   18.0        12\n",
      "3     Papaya   25.0         8\n",
      "4      Mango    5.0        14\n"
     ]
    }
   ],
   "source": [
    "d4 = d3.copy()\n",
    "print(d4)"
   ]
  },
  {
   "cell_type": "code",
   "execution_count": 100,
   "id": "88c962cd-5354-4f1f-9ab7-e5bc93cbf132",
   "metadata": {
    "tags": []
   },
   "outputs": [],
   "source": [
    "d6.loc[0,\"Price\"] = 15.0\n",
    "d6.loc[1,\"Price\"] = 10.0\n",
    "d6.loc[2,\"Price\"] = 21.0\n",
    "d6.loc[4,\"Price\"] = 7.0\n",
    "d6.loc[0,\"Quantity\"] = 8\n",
    "d6.loc[1,\"Quantity\"] = 7\n",
    "d6.loc[2,\"Quantity\"] = 9\n",
    "d6.loc[4,\"Quantity\"] = 11"
   ]
  },
  {
   "cell_type": "code",
   "execution_count": 93,
   "id": "f1d0f412-9eeb-4193-a22f-ff13783430c0",
   "metadata": {
    "tags": []
   },
   "outputs": [
    {
     "name": "stdout",
     "output_type": "stream",
     "text": [
      "       Fruit  Price  Quantity  Qauntity\n",
      "0      Apple   15.0         8       8.0\n",
      "1     Orange   10.0         7       7.0\n",
      "2  Pineapple   21.0         9       9.0\n",
      "3     Papaya   25.0         8      14.0\n",
      "4      Mango    7.0        11      11.0\n"
     ]
    }
   ],
   "source": [
    "print (d4)"
   ]
  },
  {
   "cell_type": "code",
   "execution_count": 101,
   "id": "688571ba-a1d4-40c3-9659-270663e45a62",
   "metadata": {
    "tags": []
   },
   "outputs": [
    {
     "name": "stdout",
     "output_type": "stream",
     "text": [
      "       Fruit  Price  Quantity\n",
      "0      Apple   15.0         8\n",
      "1     Orange   10.0         7\n",
      "2  Pineapple   21.0         9\n",
      "3     Papaya   25.0         8\n",
      "4      Mango    7.0        11\n"
     ]
    }
   ],
   "source": [
    "print (d6)"
   ]
  },
  {
   "cell_type": "code",
   "execution_count": 104,
   "id": "e20da4a3-9131-480b-a29b-b6cbf2f6fd1f",
   "metadata": {
    "tags": []
   },
   "outputs": [
    {
     "name": "stdout",
     "output_type": "stream",
     "text": [
      "  Fruit       Price       Quantity      \n",
      "   self other  self other     self other\n",
      "0   NaN   NaN  12.0  15.0      5.0   8.0\n",
      "1   NaN   NaN  13.0  10.0      6.0   7.0\n",
      "2   NaN   NaN  18.0  21.0     12.0   9.0\n",
      "3   NaN   NaN   NaN   NaN      NaN   NaN\n",
      "4   NaN   NaN   5.0   7.0     14.0  11.0\n"
     ]
    }
   ],
   "source": [
    "print (d3.compare(d6,keep_shape=True))"
   ]
  },
  {
   "cell_type": "code",
   "execution_count": null,
   "id": "c1b412b9-587f-4c3d-9d6f-d2da9974fa5f",
   "metadata": {},
   "outputs": [],
   "source": []
  }
 ],
 "metadata": {
  "kernelspec": {
   "display_name": "Python 3 (ipykernel)",
   "language": "python",
   "name": "python3"
  },
  "language_info": {
   "codemirror_mode": {
    "name": "ipython",
    "version": 3
   },
   "file_extension": ".py",
   "mimetype": "text/x-python",
   "name": "python",
   "nbconvert_exporter": "python",
   "pygments_lexer": "ipython3",
   "version": "3.11.5"
  }
 },
 "nbformat": 4,
 "nbformat_minor": 5
}
